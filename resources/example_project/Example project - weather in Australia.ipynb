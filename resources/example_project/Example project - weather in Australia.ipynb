{
 "cells": [
  {
   "cell_type": "markdown",
   "metadata": {},
   "source": [
    "# Classification Project"
   ]
  },
  {
   "cell_type": "markdown",
   "metadata": {},
   "source": [
    "### Problem statement\n",
    "\n",
    "Predict whether or not it will rain in Australia on a given day."
   ]
  },
  {
   "cell_type": "markdown",
   "metadata": {},
   "source": [
    "### Overview\n",
    "\n",
    "The task is to predict whether or not it rains. Because there are only two options for the prediction - yes or no - this is a classification problem. \n",
    "\n",
    "The initial plan for this project is as follows:\n",
    "\n",
    "1. Source the data \n",
    "2. Explore the data\n",
    "3. Clean the data\n",
    "5. Prepare the data for analysis\n",
    "6. Create a decision tree to predict whether or not it will rain\n",
    "7. Evaluate the model\n",
    "8. Improve the model\n",
    "\n",
    "This is my first independent data science project, and I am looking forward to actually applying the things I have learnt about. I am sure that I will end up searching for answers/asking for help a lot."
   ]
  },
  {
   "cell_type": "markdown",
   "metadata": {},
   "source": [
    "### Sourcing the data\n",
    "\n",
    "\n",
    "The data for this project is sourced from [Kaggle](https://www.kaggle.com/jsphyg/weather-dataset-rattle-package/home) and is based on the daily observations of weather stations across Australia.\n",
    "\n",
    "The data is provided freely and openly by the Australian government, specifically the [Bureau of Meteorology](http://www.bom.gov.au/climate/data/). The data contains no personally identifying information or sensitive commmercial data."
   ]
  },
  {
   "cell_type": "markdown",
   "metadata": {},
   "source": [
    "### Exploring the data"
   ]
  },
  {
   "cell_type": "code",
   "execution_count": 1,
   "metadata": {},
   "outputs": [],
   "source": [
    "# Importing necessary packages for data exploration and analysis\n",
    "\n",
    "import pandas as pd # package for manipulating data and data frames\n",
    "\n",
    "import seaborn as sns # package for visualising data\n",
    "\n",
    "from sklearn.preprocessing import minmax_scale # Scaling package to make data more comparable\n",
    "\n",
    "from sklearn.model_selection import train_test_split  # package for splitting the dataset so it can be tested\n",
    "\n",
    "from sklearn.tree import DecisionTreeClassifier, export_graphviz # package for creating/exporting decision trees\n",
    "\n",
    "from sklearn.metrics import classification_report, confusion_matrix # package to evaluate the model\n",
    "\n",
    "import graphviz # package for visualising decision trees\n",
    "import pydotplus # necessary package that works with graphviz\n",
    "\n",
    "from sklearn.ensemble import RandomForestClassifier # Another classifier\n",
    "\n",
    "from sklearn.metrics import roc_auc_score # A package for evaluating models"
   ]
  },
  {
   "cell_type": "code",
   "execution_count": 2,
   "metadata": {},
   "outputs": [],
   "source": [
    "# Set command to show graphs in the notebook\n",
    "\n",
    "%matplotlib inline "
   ]
  },
  {
   "cell_type": "code",
   "execution_count": 3,
   "metadata": {},
   "outputs": [],
   "source": [
    "# Loading the data from a .csv file into a data frame\n",
    "\n",
    "weather_data = pd.read_csv(\"weatherAUS.csv\")"
   ]
  },
  {
   "cell_type": "code",
   "execution_count": 4,
   "metadata": {},
   "outputs": [
    {
     "data": {
      "text/plain": [
       "No     110316\n",
       "Yes     31877\n",
       "Name: RainTomorrow, dtype: int64"
      ]
     },
     "execution_count": 4,
     "metadata": {},
     "output_type": "execute_result"
    }
   ],
   "source": [
    "weather_data.RainTomorrow.value_counts()"
   ]
  },
  {
   "cell_type": "code",
   "execution_count": 47,
   "metadata": {},
   "outputs": [
    {
     "name": "stdout",
     "output_type": "stream",
     "text": [
      "Rows: 142193\n",
      "Columns: 24\n"
     ]
    }
   ],
   "source": [
    "# Gather basic information about the dataset\n",
    "\n",
    "print(f\"Rows: {weather_data.shape[0]}\\nColumns: {weather_data.shape[1]}\")"
   ]
  },
  {
   "cell_type": "markdown",
   "metadata": {},
   "source": [
    "With more than 140000 rows, I should have enough data to build useful models. 24 columns means that each row can be compared on multiple points, which will ensure a more precise classification.\n",
    "\n",
    "The next thing to do is to explore the data further, to see if it needs cleaning and to see how much of the data is actually useful to me."
   ]
  },
  {
   "cell_type": "code",
   "execution_count": 48,
   "metadata": {
    "scrolled": false
   },
   "outputs": [
    {
     "data": {
      "text/html": [
       "<div>\n",
       "<style scoped>\n",
       "    .dataframe tbody tr th:only-of-type {\n",
       "        vertical-align: middle;\n",
       "    }\n",
       "\n",
       "    .dataframe tbody tr th {\n",
       "        vertical-align: top;\n",
       "    }\n",
       "\n",
       "    .dataframe thead th {\n",
       "        text-align: right;\n",
       "    }\n",
       "</style>\n",
       "<table border=\"1\" class=\"dataframe\">\n",
       "  <thead>\n",
       "    <tr style=\"text-align: right;\">\n",
       "      <th></th>\n",
       "      <th>Date</th>\n",
       "      <th>Location</th>\n",
       "      <th>MinTemp</th>\n",
       "      <th>MaxTemp</th>\n",
       "      <th>Rainfall</th>\n",
       "      <th>Evaporation</th>\n",
       "      <th>Sunshine</th>\n",
       "      <th>WindGustDir</th>\n",
       "      <th>WindGustSpeed</th>\n",
       "      <th>WindDir9am</th>\n",
       "      <th>...</th>\n",
       "      <th>Humidity3pm</th>\n",
       "      <th>Pressure9am</th>\n",
       "      <th>Pressure3pm</th>\n",
       "      <th>Cloud9am</th>\n",
       "      <th>Cloud3pm</th>\n",
       "      <th>Temp9am</th>\n",
       "      <th>Temp3pm</th>\n",
       "      <th>RainToday</th>\n",
       "      <th>RISK_MM</th>\n",
       "      <th>RainTomorrow</th>\n",
       "    </tr>\n",
       "  </thead>\n",
       "  <tbody>\n",
       "    <tr>\n",
       "      <th>0</th>\n",
       "      <td>2008-12-01</td>\n",
       "      <td>Albury</td>\n",
       "      <td>13.4</td>\n",
       "      <td>22.9</td>\n",
       "      <td>0.6</td>\n",
       "      <td>NaN</td>\n",
       "      <td>NaN</td>\n",
       "      <td>W</td>\n",
       "      <td>44.0</td>\n",
       "      <td>W</td>\n",
       "      <td>...</td>\n",
       "      <td>22.0</td>\n",
       "      <td>1007.7</td>\n",
       "      <td>1007.1</td>\n",
       "      <td>8.0</td>\n",
       "      <td>NaN</td>\n",
       "      <td>16.9</td>\n",
       "      <td>21.8</td>\n",
       "      <td>No</td>\n",
       "      <td>0.0</td>\n",
       "      <td>No</td>\n",
       "    </tr>\n",
       "    <tr>\n",
       "      <th>1</th>\n",
       "      <td>2008-12-02</td>\n",
       "      <td>Albury</td>\n",
       "      <td>7.4</td>\n",
       "      <td>25.1</td>\n",
       "      <td>0.0</td>\n",
       "      <td>NaN</td>\n",
       "      <td>NaN</td>\n",
       "      <td>WNW</td>\n",
       "      <td>44.0</td>\n",
       "      <td>NNW</td>\n",
       "      <td>...</td>\n",
       "      <td>25.0</td>\n",
       "      <td>1010.6</td>\n",
       "      <td>1007.8</td>\n",
       "      <td>NaN</td>\n",
       "      <td>NaN</td>\n",
       "      <td>17.2</td>\n",
       "      <td>24.3</td>\n",
       "      <td>No</td>\n",
       "      <td>0.0</td>\n",
       "      <td>No</td>\n",
       "    </tr>\n",
       "    <tr>\n",
       "      <th>2</th>\n",
       "      <td>2008-12-03</td>\n",
       "      <td>Albury</td>\n",
       "      <td>12.9</td>\n",
       "      <td>25.7</td>\n",
       "      <td>0.0</td>\n",
       "      <td>NaN</td>\n",
       "      <td>NaN</td>\n",
       "      <td>WSW</td>\n",
       "      <td>46.0</td>\n",
       "      <td>W</td>\n",
       "      <td>...</td>\n",
       "      <td>30.0</td>\n",
       "      <td>1007.6</td>\n",
       "      <td>1008.7</td>\n",
       "      <td>NaN</td>\n",
       "      <td>2.0</td>\n",
       "      <td>21.0</td>\n",
       "      <td>23.2</td>\n",
       "      <td>No</td>\n",
       "      <td>0.0</td>\n",
       "      <td>No</td>\n",
       "    </tr>\n",
       "    <tr>\n",
       "      <th>3</th>\n",
       "      <td>2008-12-04</td>\n",
       "      <td>Albury</td>\n",
       "      <td>9.2</td>\n",
       "      <td>28.0</td>\n",
       "      <td>0.0</td>\n",
       "      <td>NaN</td>\n",
       "      <td>NaN</td>\n",
       "      <td>NE</td>\n",
       "      <td>24.0</td>\n",
       "      <td>SE</td>\n",
       "      <td>...</td>\n",
       "      <td>16.0</td>\n",
       "      <td>1017.6</td>\n",
       "      <td>1012.8</td>\n",
       "      <td>NaN</td>\n",
       "      <td>NaN</td>\n",
       "      <td>18.1</td>\n",
       "      <td>26.5</td>\n",
       "      <td>No</td>\n",
       "      <td>1.0</td>\n",
       "      <td>No</td>\n",
       "    </tr>\n",
       "    <tr>\n",
       "      <th>4</th>\n",
       "      <td>2008-12-05</td>\n",
       "      <td>Albury</td>\n",
       "      <td>17.5</td>\n",
       "      <td>32.3</td>\n",
       "      <td>1.0</td>\n",
       "      <td>NaN</td>\n",
       "      <td>NaN</td>\n",
       "      <td>W</td>\n",
       "      <td>41.0</td>\n",
       "      <td>ENE</td>\n",
       "      <td>...</td>\n",
       "      <td>33.0</td>\n",
       "      <td>1010.8</td>\n",
       "      <td>1006.0</td>\n",
       "      <td>7.0</td>\n",
       "      <td>8.0</td>\n",
       "      <td>17.8</td>\n",
       "      <td>29.7</td>\n",
       "      <td>No</td>\n",
       "      <td>0.2</td>\n",
       "      <td>No</td>\n",
       "    </tr>\n",
       "    <tr>\n",
       "      <th>5</th>\n",
       "      <td>2008-12-06</td>\n",
       "      <td>Albury</td>\n",
       "      <td>14.6</td>\n",
       "      <td>29.7</td>\n",
       "      <td>0.2</td>\n",
       "      <td>NaN</td>\n",
       "      <td>NaN</td>\n",
       "      <td>WNW</td>\n",
       "      <td>56.0</td>\n",
       "      <td>W</td>\n",
       "      <td>...</td>\n",
       "      <td>23.0</td>\n",
       "      <td>1009.2</td>\n",
       "      <td>1005.4</td>\n",
       "      <td>NaN</td>\n",
       "      <td>NaN</td>\n",
       "      <td>20.6</td>\n",
       "      <td>28.9</td>\n",
       "      <td>No</td>\n",
       "      <td>0.0</td>\n",
       "      <td>No</td>\n",
       "    </tr>\n",
       "    <tr>\n",
       "      <th>6</th>\n",
       "      <td>2008-12-07</td>\n",
       "      <td>Albury</td>\n",
       "      <td>14.3</td>\n",
       "      <td>25.0</td>\n",
       "      <td>0.0</td>\n",
       "      <td>NaN</td>\n",
       "      <td>NaN</td>\n",
       "      <td>W</td>\n",
       "      <td>50.0</td>\n",
       "      <td>SW</td>\n",
       "      <td>...</td>\n",
       "      <td>19.0</td>\n",
       "      <td>1009.6</td>\n",
       "      <td>1008.2</td>\n",
       "      <td>1.0</td>\n",
       "      <td>NaN</td>\n",
       "      <td>18.1</td>\n",
       "      <td>24.6</td>\n",
       "      <td>No</td>\n",
       "      <td>0.0</td>\n",
       "      <td>No</td>\n",
       "    </tr>\n",
       "    <tr>\n",
       "      <th>7</th>\n",
       "      <td>2008-12-08</td>\n",
       "      <td>Albury</td>\n",
       "      <td>7.7</td>\n",
       "      <td>26.7</td>\n",
       "      <td>0.0</td>\n",
       "      <td>NaN</td>\n",
       "      <td>NaN</td>\n",
       "      <td>W</td>\n",
       "      <td>35.0</td>\n",
       "      <td>SSE</td>\n",
       "      <td>...</td>\n",
       "      <td>19.0</td>\n",
       "      <td>1013.4</td>\n",
       "      <td>1010.1</td>\n",
       "      <td>NaN</td>\n",
       "      <td>NaN</td>\n",
       "      <td>16.3</td>\n",
       "      <td>25.5</td>\n",
       "      <td>No</td>\n",
       "      <td>0.0</td>\n",
       "      <td>No</td>\n",
       "    </tr>\n",
       "    <tr>\n",
       "      <th>8</th>\n",
       "      <td>2008-12-09</td>\n",
       "      <td>Albury</td>\n",
       "      <td>9.7</td>\n",
       "      <td>31.9</td>\n",
       "      <td>0.0</td>\n",
       "      <td>NaN</td>\n",
       "      <td>NaN</td>\n",
       "      <td>NNW</td>\n",
       "      <td>80.0</td>\n",
       "      <td>SE</td>\n",
       "      <td>...</td>\n",
       "      <td>9.0</td>\n",
       "      <td>1008.9</td>\n",
       "      <td>1003.6</td>\n",
       "      <td>NaN</td>\n",
       "      <td>NaN</td>\n",
       "      <td>18.3</td>\n",
       "      <td>30.2</td>\n",
       "      <td>No</td>\n",
       "      <td>1.4</td>\n",
       "      <td>Yes</td>\n",
       "    </tr>\n",
       "    <tr>\n",
       "      <th>9</th>\n",
       "      <td>2008-12-10</td>\n",
       "      <td>Albury</td>\n",
       "      <td>13.1</td>\n",
       "      <td>30.1</td>\n",
       "      <td>1.4</td>\n",
       "      <td>NaN</td>\n",
       "      <td>NaN</td>\n",
       "      <td>W</td>\n",
       "      <td>28.0</td>\n",
       "      <td>S</td>\n",
       "      <td>...</td>\n",
       "      <td>27.0</td>\n",
       "      <td>1007.0</td>\n",
       "      <td>1005.7</td>\n",
       "      <td>NaN</td>\n",
       "      <td>NaN</td>\n",
       "      <td>20.1</td>\n",
       "      <td>28.2</td>\n",
       "      <td>Yes</td>\n",
       "      <td>0.0</td>\n",
       "      <td>No</td>\n",
       "    </tr>\n",
       "  </tbody>\n",
       "</table>\n",
       "<p>10 rows × 24 columns</p>\n",
       "</div>"
      ],
      "text/plain": [
       "         Date Location  MinTemp  MaxTemp  Rainfall  Evaporation  Sunshine  \\\n",
       "0  2008-12-01   Albury     13.4     22.9       0.6          NaN       NaN   \n",
       "1  2008-12-02   Albury      7.4     25.1       0.0          NaN       NaN   \n",
       "2  2008-12-03   Albury     12.9     25.7       0.0          NaN       NaN   \n",
       "3  2008-12-04   Albury      9.2     28.0       0.0          NaN       NaN   \n",
       "4  2008-12-05   Albury     17.5     32.3       1.0          NaN       NaN   \n",
       "5  2008-12-06   Albury     14.6     29.7       0.2          NaN       NaN   \n",
       "6  2008-12-07   Albury     14.3     25.0       0.0          NaN       NaN   \n",
       "7  2008-12-08   Albury      7.7     26.7       0.0          NaN       NaN   \n",
       "8  2008-12-09   Albury      9.7     31.9       0.0          NaN       NaN   \n",
       "9  2008-12-10   Albury     13.1     30.1       1.4          NaN       NaN   \n",
       "\n",
       "  WindGustDir  WindGustSpeed WindDir9am      ...      Humidity3pm  \\\n",
       "0           W           44.0          W      ...             22.0   \n",
       "1         WNW           44.0        NNW      ...             25.0   \n",
       "2         WSW           46.0          W      ...             30.0   \n",
       "3          NE           24.0         SE      ...             16.0   \n",
       "4           W           41.0        ENE      ...             33.0   \n",
       "5         WNW           56.0          W      ...             23.0   \n",
       "6           W           50.0         SW      ...             19.0   \n",
       "7           W           35.0        SSE      ...             19.0   \n",
       "8         NNW           80.0         SE      ...              9.0   \n",
       "9           W           28.0          S      ...             27.0   \n",
       "\n",
       "   Pressure9am  Pressure3pm  Cloud9am  Cloud3pm  Temp9am  Temp3pm  RainToday  \\\n",
       "0       1007.7       1007.1       8.0       NaN     16.9     21.8         No   \n",
       "1       1010.6       1007.8       NaN       NaN     17.2     24.3         No   \n",
       "2       1007.6       1008.7       NaN       2.0     21.0     23.2         No   \n",
       "3       1017.6       1012.8       NaN       NaN     18.1     26.5         No   \n",
       "4       1010.8       1006.0       7.0       8.0     17.8     29.7         No   \n",
       "5       1009.2       1005.4       NaN       NaN     20.6     28.9         No   \n",
       "6       1009.6       1008.2       1.0       NaN     18.1     24.6         No   \n",
       "7       1013.4       1010.1       NaN       NaN     16.3     25.5         No   \n",
       "8       1008.9       1003.6       NaN       NaN     18.3     30.2         No   \n",
       "9       1007.0       1005.7       NaN       NaN     20.1     28.2        Yes   \n",
       "\n",
       "   RISK_MM  RainTomorrow  \n",
       "0      0.0            No  \n",
       "1      0.0            No  \n",
       "2      0.0            No  \n",
       "3      1.0            No  \n",
       "4      0.2            No  \n",
       "5      0.0            No  \n",
       "6      0.0            No  \n",
       "7      0.0            No  \n",
       "8      1.4           Yes  \n",
       "9      0.0            No  \n",
       "\n",
       "[10 rows x 24 columns]"
      ]
     },
     "execution_count": 48,
     "metadata": {},
     "output_type": "execute_result"
    }
   ],
   "source": [
    "# Look at the first 10 lines of data\n",
    "\n",
    "weather_data.head(10)\n",
    "\n",
    "# This gives a quick glimpse of the data and its structure. \n",
    "# I could also have used .tail for the last rows, or .sample for a random selection."
   ]
  },
  {
   "cell_type": "markdown",
   "metadata": {},
   "source": [
    "\"RainTomorrow\" is the column name for the value that I am going to try and predict."
   ]
  },
  {
   "cell_type": "markdown",
   "metadata": {},
   "source": [
    "### Cleaning the data"
   ]
  },
  {
   "cell_type": "markdown",
   "metadata": {},
   "source": [
    "Just from an initial look at the data, it's clear that there are many invalid or missing values which are shown as \"NaN\" (Not A Number) in the frame. \n",
    "\n",
    "The data will need to be cleaned before I analyse it, to avoid the missing data causing complications or anomalous models."
   ]
  },
  {
   "cell_type": "code",
   "execution_count": 49,
   "metadata": {},
   "outputs": [
    {
     "data": {
      "text/plain": [
       "Sunshine          74377\n",
       "Evaporation       81350\n",
       "Cloud3pm          85099\n",
       "Cloud9am          88536\n",
       "Pressure9am      128179\n",
       "Pressure3pm      128212\n",
       "WindDir9am       132180\n",
       "WindGustDir      132863\n",
       "WindGustSpeed    132923\n",
       "WindDir3pm       138415\n",
       "Humidity3pm      138583\n",
       "Temp3pm          139467\n",
       "WindSpeed3pm     139563\n",
       "Humidity9am      140419\n",
       "RainToday        140787\n",
       "Rainfall         140787\n",
       "WindSpeed9am     140845\n",
       "Temp9am          141289\n",
       "MinTemp          141556\n",
       "MaxTemp          141871\n",
       "Date             142193\n",
       "Location         142193\n",
       "RISK_MM          142193\n",
       "RainTomorrow     142193\n",
       "dtype: int64"
      ]
     },
     "execution_count": 49,
     "metadata": {},
     "output_type": "execute_result"
    }
   ],
   "source": [
    "# Get the value counts of each column, sorted in ascending order.\n",
    "\n",
    "weather_data.count().sort_values()"
   ]
  },
  {
   "cell_type": "markdown",
   "metadata": {},
   "source": [
    "From the cell above, I can see that four columns - such as Sunshine - have a lot of missing values.\n",
    "\n",
    "Based on the principle \"garbage in, garbage out\" - essentially that a predictive model is only as good as the data it is based on - I'm going to remove those columns entirely before beginning analysis.\n",
    "\n",
    "It's important to be clear about this, as I am making assumptions about my data. In this case, the assumption is that I can remove those columns and still have a functioning model. This is a factor that might affect the accuracy or reliability of my model, and I need to be able to explain/justify it. \n",
    "\n",
    "These columns may have some correlation with the values I want to predict, but based on the large numbers of NaNs in those columns, I have decided that the potential benefits are outweighed by the potential risks of including a large amount of incomplete data in my analysis.\n",
    "\n",
    "Any model which used those columns to predict whether it would rain or not would have limited applicability in a real context - it's clear that the measurements used to fill those columns are not consistently taken or recorded, so a model that requires those measurements to function correctly is less useful than one that does not."
   ]
  },
  {
   "cell_type": "code",
   "execution_count": 50,
   "metadata": {},
   "outputs": [],
   "source": [
    "# Drop the columns\n",
    "\n",
    "weather_data = weather_data.drop([\"Sunshine\",\"Evaporation\",\"Cloud3pm\",\"Cloud9am\"],axis=1)"
   ]
  },
  {
   "cell_type": "markdown",
   "metadata": {},
   "source": [
    "Having removed the columns filled with NaNs, I should now look at the rows, and see if more cleaning can be done.\n",
    "\n",
    "Because there are 142193 rows, I am confident that removing rows containing NaNs will still leave me with a significant dataset to analyse. I can then build my model on complete data, which should improve accuracy. "
   ]
  },
  {
   "cell_type": "code",
   "execution_count": 51,
   "metadata": {},
   "outputs": [],
   "source": [
    "# Drop any rows with NaNs in\n",
    "\n",
    "weather_data = weather_data.dropna(how=\"any\", axis=0)"
   ]
  },
  {
   "cell_type": "markdown",
   "metadata": {},
   "source": [
    "Now my dataset should be clean and complete, with no missing values."
   ]
  },
  {
   "cell_type": "code",
   "execution_count": 52,
   "metadata": {},
   "outputs": [
    {
     "name": "stdout",
     "output_type": "stream",
     "text": [
      "Rows: 112925\n",
      "Columns: 20\n"
     ]
    },
    {
     "data": {
      "text/plain": [
       "Date             112925\n",
       "RainToday        112925\n",
       "Temp3pm          112925\n",
       "Temp9am          112925\n",
       "Pressure3pm      112925\n",
       "Pressure9am      112925\n",
       "Humidity3pm      112925\n",
       "Humidity9am      112925\n",
       "WindSpeed3pm     112925\n",
       "WindSpeed9am     112925\n",
       "WindDir3pm       112925\n",
       "WindDir9am       112925\n",
       "WindGustSpeed    112925\n",
       "WindGustDir      112925\n",
       "Rainfall         112925\n",
       "MaxTemp          112925\n",
       "MinTemp          112925\n",
       "Location         112925\n",
       "RISK_MM          112925\n",
       "RainTomorrow     112925\n",
       "dtype: int64"
      ]
     },
     "execution_count": 52,
     "metadata": {},
     "output_type": "execute_result"
    }
   ],
   "source": [
    "# Look at the dataset's shape again\n",
    "\n",
    "print(f\"Rows: {weather_data.shape[0]}\\nColumns: {weather_data.shape[1]}\")\n",
    "\n",
    "# Check to see that all columns have the same number of values as the total rows\n",
    "\n",
    "weather_data.count().sort_values()"
   ]
  },
  {
   "cell_type": "markdown",
   "metadata": {},
   "source": [
    "All the columns have the correct number of values.\n",
    "\n",
    "I'm also going to change the name of the RISK_MM column - it's not a problem as such, but it's using a different naming convention to other columns, and it will be neater if it is \"RiskMM\" instead."
   ]
  },
  {
   "cell_type": "code",
   "execution_count": 53,
   "metadata": {},
   "outputs": [],
   "source": [
    "weather_data.rename(columns={'RISK_MM':'RiskMM'},inplace=True)"
   ]
  },
  {
   "cell_type": "markdown",
   "metadata": {},
   "source": [
    "### Visualising the data\n",
    "\n",
    "I'm now going to take a look at the cleaned data, and see if any relationships are immediately clear.\n",
    "\n",
    "The \"RainTomorrow\" column is the key one I'm interested in, as that's what I want to predict eventually."
   ]
  },
  {
   "cell_type": "code",
   "execution_count": 54,
   "metadata": {},
   "outputs": [
    {
     "data": {
      "image/png": "[encoded data removed]",
      "text/plain": [
       "<Figure size 432x288 with 1 Axes>"
      ]
     },
     "metadata": {
      "needs_background": "light"
     },
     "output_type": "display_data"
    }
   ],
   "source": [
    "# Using seaborn to plot the distribution of RainTomorrow - how many times it rained vs. didn't.\n",
    "RT_status = sns.countplot(x = 'RainTomorrow', data = weather_data)\n",
    "\n",
    "# Making the graph more readable\n",
    "RT_status.set_title('Distribution of RainTomorrow in our data')                                         \n",
    "RT_status.set_ylabel('Frequency', fontsize = 18)\n",
    "RT_status.set_xlabel('RainTomorrow', fontsize = 18)\n",
    "RT_status.tick_params(labelsize = 12)"
   ]
  },
  {
   "cell_type": "markdown",
   "metadata": {},
   "source": [
    "From the graph, it's clear that not raining was more frequent than rain. This is about right for Australia, and so acts as a basic sanity check.\n",
    "\n",
    "The graph also highlights a potential problem - because there are so many more not-rain values than rain, this could throw the model off; high accuracy can be reached without forming a useful model, simply because \"not rain\" is much more likely. "
   ]
  },
  {
   "cell_type": "markdown",
   "metadata": {},
   "source": [
    "### Preparing the data for analysis"
   ]
  },
  {
   "cell_type": "markdown",
   "metadata": {},
   "source": [
    "The data is clean, but I still need to do a few things before I can build the model. I need to make sure that all the data can be understood by the classifier, and that no information that the model shouldn't have is given to it."
   ]
  },
  {
   "cell_type": "code",
   "execution_count": 55,
   "metadata": {},
   "outputs": [],
   "source": [
    "# Drop the \"RiskMM\" column, as that is already a prediction of the amount of rain\n",
    "# Including it will leak the answers to the model and result in over-fitting\n",
    "\n",
    "weather_data = weather_data.drop(\"RiskMM\",axis=1)"
   ]
  },
  {
   "cell_type": "code",
   "execution_count": 56,
   "metadata": {},
   "outputs": [],
   "source": [
    "# Convert the binary categorial data (yes/no) into numeric so that the decision tree classifier can understand it\n",
    "\n",
    "weather_data[\"RainToday\"] = weather_data[\"RainToday\"].map({\"No\":0, \"Yes\":1})\n",
    "weather_data[\"RainTomorrow\"] = weather_data[\"RainTomorrow\"].map({\"No\":0, \"Yes\":1})"
   ]
  },
  {
   "cell_type": "code",
   "execution_count": 57,
   "metadata": {},
   "outputs": [],
   "source": [
    "# Some of the columns are categorical, but allow more than a binary choice. \n",
    "# To make these interpretable by the classifier, I'm using one-hot encoding to create dummy variables.\n",
    "# This will turn each categorical column into a set of columns, each one of which allows only a binary choice.\n",
    "\n",
    "categorical = [\"WindGustDir\", \"WindDir9am\", \"WindDir3pm\"]\n",
    "\n",
    "weather_data = pd.get_dummies(weather_data, columns=categorical)"
   ]
  },
  {
   "cell_type": "code",
   "execution_count": 58,
   "metadata": {},
   "outputs": [],
   "source": [
    "# The location column contains lots of categorical data, but one-hot encoding it would add far too many columns.\n",
    "# As we are concerned with the overall country, we can safely drop this one.\n",
    "\n",
    "weather_data = weather_data.drop(\"Location\", axis=1)"
   ]
  },
  {
   "cell_type": "code",
   "execution_count": 59,
   "metadata": {},
   "outputs": [],
   "source": [
    "# The date column causes a similar problem, and would cause the classifier to error.\n",
    "# However, I'm not going to remove it entirely because I think month might be relevant.\n",
    "\n",
    "# Instead, I'm going to extract the month from each date string, and replace the date with the month as a number.\n",
    "\n",
    "def date_to_month(str):\n",
    "    # Function that extracts and returns the month as an integer from a date string\n",
    "    return int(str.split(\"-\")[1])\n",
    "\n",
    "\n",
    "# Convert each date value to the month\n",
    "\n",
    "weather_data.Date = weather_data.Date.apply(date_to_month)\n",
    "\n",
    "# Rename the Date column to Month\n",
    "\n",
    "weather_data.rename(columns={\"Date\": \"Month\"}, inplace=True)"
   ]
  },
  {
   "cell_type": "code",
   "execution_count": 60,
   "metadata": {},
   "outputs": [
    {
     "name": "stdout",
     "output_type": "stream",
     "text": [
      "Rows: 112925\n",
      "Columns: 63\n"
     ]
    }
   ],
   "source": [
    "# Examine the new shape of the dataset\n",
    "\n",
    "print(f\"Rows: {weather_data.shape[0]}\\nColumns: {weather_data.shape[1]}\")"
   ]
  },
  {
   "cell_type": "markdown",
   "metadata": {},
   "source": [
    "63 columns is a lot, so I'm going to check on them to make sure that it has all worked as intended."
   ]
  },
  {
   "cell_type": "code",
   "execution_count": 61,
   "metadata": {},
   "outputs": [
    {
     "data": {
      "text/html": [
       "<div>\n",
       "<style scoped>\n",
       "    .dataframe tbody tr th:only-of-type {\n",
       "        vertical-align: middle;\n",
       "    }\n",
       "\n",
       "    .dataframe tbody tr th {\n",
       "        vertical-align: top;\n",
       "    }\n",
       "\n",
       "    .dataframe thead th {\n",
       "        text-align: right;\n",
       "    }\n",
       "</style>\n",
       "<table border=\"1\" class=\"dataframe\">\n",
       "  <thead>\n",
       "    <tr style=\"text-align: right;\">\n",
       "      <th></th>\n",
       "      <th>Month</th>\n",
       "      <th>MinTemp</th>\n",
       "      <th>MaxTemp</th>\n",
       "      <th>Rainfall</th>\n",
       "      <th>WindGustSpeed</th>\n",
       "      <th>WindSpeed9am</th>\n",
       "      <th>WindSpeed3pm</th>\n",
       "      <th>Humidity9am</th>\n",
       "      <th>Humidity3pm</th>\n",
       "      <th>Pressure9am</th>\n",
       "      <th>...</th>\n",
       "      <th>WindDir3pm_NNW</th>\n",
       "      <th>WindDir3pm_NW</th>\n",
       "      <th>WindDir3pm_S</th>\n",
       "      <th>WindDir3pm_SE</th>\n",
       "      <th>WindDir3pm_SSE</th>\n",
       "      <th>WindDir3pm_SSW</th>\n",
       "      <th>WindDir3pm_SW</th>\n",
       "      <th>WindDir3pm_W</th>\n",
       "      <th>WindDir3pm_WNW</th>\n",
       "      <th>WindDir3pm_WSW</th>\n",
       "    </tr>\n",
       "  </thead>\n",
       "  <tbody>\n",
       "    <tr>\n",
       "      <th>8636</th>\n",
       "      <td>8</td>\n",
       "      <td>0.7</td>\n",
       "      <td>15.7</td>\n",
       "      <td>0.0</td>\n",
       "      <td>28.0</td>\n",
       "      <td>6.0</td>\n",
       "      <td>11.0</td>\n",
       "      <td>63.0</td>\n",
       "      <td>39.0</td>\n",
       "      <td>1026.2</td>\n",
       "      <td>...</td>\n",
       "      <td>0</td>\n",
       "      <td>0</td>\n",
       "      <td>0</td>\n",
       "      <td>0</td>\n",
       "      <td>0</td>\n",
       "      <td>0</td>\n",
       "      <td>1</td>\n",
       "      <td>0</td>\n",
       "      <td>0</td>\n",
       "      <td>0</td>\n",
       "    </tr>\n",
       "  </tbody>\n",
       "</table>\n",
       "<p>1 rows × 63 columns</p>\n",
       "</div>"
      ],
      "text/plain": [
       "      Month  MinTemp  MaxTemp  Rainfall  WindGustSpeed  WindSpeed9am  \\\n",
       "8636      8      0.7     15.7       0.0           28.0           6.0   \n",
       "\n",
       "      WindSpeed3pm  Humidity9am  Humidity3pm  Pressure9am       ...        \\\n",
       "8636          11.0         63.0         39.0       1026.2       ...         \n",
       "\n",
       "      WindDir3pm_NNW  WindDir3pm_NW  WindDir3pm_S  WindDir3pm_SE  \\\n",
       "8636               0              0             0              0   \n",
       "\n",
       "      WindDir3pm_SSE  WindDir3pm_SSW  WindDir3pm_SW  WindDir3pm_W  \\\n",
       "8636               0               0              1             0   \n",
       "\n",
       "      WindDir3pm_WNW  WindDir3pm_WSW  \n",
       "8636               0               0  \n",
       "\n",
       "[1 rows x 63 columns]"
      ]
     },
     "execution_count": 61,
     "metadata": {},
     "output_type": "execute_result"
    }
   ],
   "source": [
    "# Get a sample of the data\n",
    "\n",
    "weather_data.sample()"
   ]
  },
  {
   "cell_type": "markdown",
   "metadata": {},
   "source": [
    "The new columns have worked as expected - each one contains only 1s or 0s."
   ]
  },
  {
   "cell_type": "markdown",
   "metadata": {},
   "source": [
    "It is possible that the numeric columns, because they have different scales, might affect the model. Pressure9am, for example, is generally around 1000, while Rainfall is always much closer to 0. To avoid the scaling differences biasing the model, I'm going to scale the data, converting each column's data into a relative range, so that values are seen as similar between columns."
   ]
  },
  {
   "cell_type": "code",
   "execution_count": 62,
   "metadata": {},
   "outputs": [],
   "source": [
    "def scale_data(dataset, features):\n",
    "    # Function to scale data\n",
    "    for feature in features:\n",
    "        weather_data[feature] = minmax_scale(weather_data[[feature]])\n",
    "        \n",
    "numerics = [\"MinTemp\",\"MaxTemp\", \"Rainfall\", \"WindGustSpeed\", \"WindSpeed9am\",\n",
    "                     \"WindSpeed3pm\", \"Humidity9am\", \"Humidity3pm\", \"Pressure9am\", \n",
    "                     \"Pressure3pm\", \"Temp9am\", \"Temp3pm\"]\n",
    "\n",
    "scale_data(weather_data, numerics)"
   ]
  },
  {
   "cell_type": "markdown",
   "metadata": {},
   "source": [
    "The scale function coerces all the numeric columns to measure their values on a scale from -1 to 1."
   ]
  },
  {
   "cell_type": "markdown",
   "metadata": {},
   "source": [
    "I also need to split the data into test and training sets, so that the model's validity and accuracy can be later tested."
   ]
  },
  {
   "cell_type": "code",
   "execution_count": 63,
   "metadata": {},
   "outputs": [],
   "source": [
    "# Identify the target variable, to ensure an even spread between the train and test\n",
    "\n",
    "target = weather_data.RainTomorrow\n",
    "\n",
    "# Create the train/test variables. The size of the test set is 0.2, or 20%. \n",
    "# 'RainTomorrow' is removed from the dataset so that the model can be built - otherwise the model would have the answers.\n",
    "\n",
    "x_train, x_test, y_train, y_test = train_test_split(weather_data.drop(\"RainTomorrow\",axis=1), target, test_size=0.2,random_state=123)\n",
    "\n",
    "# The random_state parameter above sets the random seed, so that my model can be replicated exactly.\n",
    "# This is important for checking and sharing the model, so that anomalous models and results can be understood."
   ]
  },
  {
   "cell_type": "markdown",
   "metadata": {},
   "source": [
    "### Creating a decision tree"
   ]
  },
  {
   "cell_type": "markdown",
   "metadata": {},
   "source": [
    "Now that I have prepared data and a training set, I can create the actual classifying model. I'm going to use the default algorithm in sklearn, which is the CART algorithm. For this project, I'm not going to experiment with others, as this is my first attempt with machine learning, but I plan to in the future."
   ]
  },
  {
   "cell_type": "code",
   "execution_count": 64,
   "metadata": {},
   "outputs": [],
   "source": [
    "# Create the decision tree classifier \n",
    "\n",
    "tree_model = DecisionTreeClassifier(random_state=123,max_depth=3)"
   ]
  },
  {
   "cell_type": "code",
   "execution_count": 65,
   "metadata": {},
   "outputs": [
    {
     "data": {
      "text/plain": [
       "DecisionTreeClassifier(class_weight=None, criterion='gini', max_depth=3,\n",
       "            max_features=None, max_leaf_nodes=None,\n",
       "            min_impurity_decrease=0.0, min_impurity_split=None,\n",
       "            min_samples_leaf=1, min_samples_split=2,\n",
       "            min_weight_fraction_leaf=0.0, presort=False, random_state=123,\n",
       "            splitter='best')"
      ]
     },
     "execution_count": 65,
     "metadata": {},
     "output_type": "execute_result"
    }
   ],
   "source": [
    "# train the tree on the training data set\n",
    "\n",
    "tree_model.fit(x_train, y_train )"
   ]
  },
  {
   "cell_type": "markdown",
   "metadata": {},
   "source": [
    "Now the model has been trained, and can be used to give predictions. The next step is to look at how accurate it is, and actually make predictions."
   ]
  },
  {
   "cell_type": "markdown",
   "metadata": {},
   "source": [
    "### Evaluate the model"
   ]
  },
  {
   "cell_type": "markdown",
   "metadata": {},
   "source": [
    "I'm going to start by just visualising the model. One of the benefits of decision trees is that they are easier for humans to understand, so a visualisation should give us a clear idea of how reasonable the tree is."
   ]
  },
  {
   "cell_type": "code",
   "execution_count": 66,
   "metadata": {
    "scrolled": true
   },
   "outputs": [
    {
     "data": {
      "image/svg+xml": [
       "<?xml version=\"1.0\" encoding=\"UTF-8\" standalone=\"no\"?>\n",
       "<!DOCTYPE svg PUBLIC \"-//W3C//DTD SVG 1.1//EN\"\n",
       " \"http://www.w3.org/Graphics/SVG/1.1/DTD/svg11.dtd\">\n",
       "<!-- Generated by graphviz version 2.40.1 (20161225.0304)\n",
       " -->\n",
       "<!-- Title: Tree Pages: 1 -->\n",
       "<svg width=\"1263pt\" height=\"358pt\"\n",
       " viewBox=\"0.00 0.00 1263.38 358.00\" xmlns=\"http://www.w3.org/2000/svg\" xmlns:xlink=\"http://www.w3.org/1999/xlink\">\n",
       "<g id=\"graph0\" class=\"graph\" transform=\"scale(1 1) rotate(0) translate(4 354)\">\n",
       "<title>Tree</title>\n",
       "<polygon fill=\"#ffffff\" stroke=\"transparent\" points=\"-4,4 -4,-354 1259.3784,-354 1259.3784,4 -4,4\"/>\n",
       "<!-- 0 -->\n",
       "<g id=\"node1\" class=\"node\">\n",
       "<title>0</title>\n",
       "<path fill=\"#e58139\" fill-opacity=\"0.713725\" stroke=\"#000000\" d=\"M688.8726,-350C688.8726,-350 554.185,-350 554.185,-350 548.185,-350 542.185,-344 542.185,-338 542.185,-338 542.185,-298 542.185,-298 542.185,-292 548.185,-286 554.185,-286 554.185,-286 688.8726,-286 688.8726,-286 694.8726,-286 700.8726,-292 700.8726,-298 700.8726,-298 700.8726,-338 700.8726,-338 700.8726,-344 694.8726,-350 688.8726,-350\"/>\n",
       "<text text-anchor=\"start\" x=\"555.4355\" y=\"-335.8\" font-family=\"Helvetica,sans-Serif\" font-size=\"14.00\" fill=\"#000000\">Humidity3pm ≤ 0.715</text>\n",
       "<text text-anchor=\"start\" x=\"568.0205\" y=\"-321.8\" font-family=\"Helvetica,sans-Serif\" font-size=\"14.00\" fill=\"#000000\">samples = 90340</text>\n",
       "<text text-anchor=\"start\" x=\"550.1069\" y=\"-307.8\" font-family=\"Helvetica,sans-Serif\" font-size=\"14.00\" fill=\"#000000\">value = [70285, 20055]</text>\n",
       "<text text-anchor=\"start\" x=\"590.21\" y=\"-293.8\" font-family=\"Helvetica,sans-Serif\" font-size=\"14.00\" fill=\"#000000\">class = y</text>\n",
       "<text text-anchor=\"start\" x=\"645.0615\" y=\"-293.8\" font-family=\"Helvetica,sans-Serif\" baseline-shift=\"sub\" font-size=\"14.00\" fill=\"#000000\">0</text>\n",
       "</g>\n",
       "<!-- 1 -->\n",
       "<g id=\"node2\" class=\"node\">\n",
       "<title>1</title>\n",
       "<path fill=\"#e58139\" fill-opacity=\"0.835294\" stroke=\"#000000\" d=\"M595.8726,-250C595.8726,-250 461.185,-250 461.185,-250 455.185,-250 449.185,-244 449.185,-238 449.185,-238 449.185,-198 449.185,-198 449.185,-192 455.185,-186 461.185,-186 461.185,-186 595.8726,-186 595.8726,-186 601.8726,-186 607.8726,-192 607.8726,-198 607.8726,-198 607.8726,-238 607.8726,-238 607.8726,-244 601.8726,-250 595.8726,-250\"/>\n",
       "<text text-anchor=\"start\" x=\"462.4355\" y=\"-235.8\" font-family=\"Helvetica,sans-Serif\" font-size=\"14.00\" fill=\"#000000\">Humidity3pm ≤ 0.565</text>\n",
       "<text text-anchor=\"start\" x=\"475.0205\" y=\"-221.8\" font-family=\"Helvetica,sans-Serif\" font-size=\"14.00\" fill=\"#000000\">samples = 75886</text>\n",
       "<text text-anchor=\"start\" x=\"457.1069\" y=\"-207.8\" font-family=\"Helvetica,sans-Serif\" font-size=\"14.00\" fill=\"#000000\">value = [65093, 10793]</text>\n",
       "<text text-anchor=\"start\" x=\"497.21\" y=\"-193.8\" font-family=\"Helvetica,sans-Serif\" font-size=\"14.00\" fill=\"#000000\">class = y</text>\n",
       "<text text-anchor=\"start\" x=\"552.0615\" y=\"-193.8\" font-family=\"Helvetica,sans-Serif\" baseline-shift=\"sub\" font-size=\"14.00\" fill=\"#000000\">0</text>\n",
       "</g>\n",
       "<!-- 0&#45;&gt;1 -->\n",
       "<g id=\"edge1\" class=\"edge\">\n",
       "<title>0&#45;&gt;1</title>\n",
       "<path fill=\"none\" stroke=\"#000000\" d=\"M591.5911,-285.8089C583.2114,-276.7985 574.0062,-266.9004 565.2805,-257.518\"/>\n",
       "<polygon fill=\"#000000\" stroke=\"#000000\" points=\"567.7835,-255.0699 558.4104,-250.1308 562.6576,-259.8371 567.7835,-255.0699\"/>\n",
       "<text text-anchor=\"middle\" x=\"557.5043\" y=\"-270.9143\" font-family=\"Helvetica,sans-Serif\" font-size=\"14.00\" fill=\"#000000\">True</text>\n",
       "</g>\n",
       "<!-- 8 -->\n",
       "<g id=\"node9\" class=\"node\">\n",
       "<title>8</title>\n",
       "<path fill=\"#399de5\" fill-opacity=\"0.439216\" stroke=\"#000000\" d=\"M835.7154,-250C835.7154,-250 711.3422,-250 711.3422,-250 705.3422,-250 699.3422,-244 699.3422,-238 699.3422,-238 699.3422,-198 699.3422,-198 699.3422,-192 705.3422,-186 711.3422,-186 711.3422,-186 835.7154,-186 835.7154,-186 841.7154,-186 847.7154,-192 847.7154,-198 847.7154,-198 847.7154,-238 847.7154,-238 847.7154,-244 841.7154,-250 835.7154,-250\"/>\n",
       "<text text-anchor=\"start\" x=\"707.4355\" y=\"-235.8\" font-family=\"Helvetica,sans-Serif\" font-size=\"14.00\" fill=\"#000000\">Humidity3pm ≤ 0.835</text>\n",
       "<text text-anchor=\"start\" x=\"720.0205\" y=\"-221.8\" font-family=\"Helvetica,sans-Serif\" font-size=\"14.00\" fill=\"#000000\">samples = 14454</text>\n",
       "<text text-anchor=\"start\" x=\"709.8931\" y=\"-207.8\" font-family=\"Helvetica,sans-Serif\" font-size=\"14.00\" fill=\"#000000\">value = [5192, 9262]</text>\n",
       "<text text-anchor=\"start\" x=\"742.21\" y=\"-193.8\" font-family=\"Helvetica,sans-Serif\" font-size=\"14.00\" fill=\"#000000\">class = y</text>\n",
       "<text text-anchor=\"start\" x=\"797.0615\" y=\"-193.8\" font-family=\"Helvetica,sans-Serif\" baseline-shift=\"sub\" font-size=\"14.00\" fill=\"#000000\">1</text>\n",
       "</g>\n",
       "<!-- 0&#45;&gt;8 -->\n",
       "<g id=\"edge8\" class=\"edge\">\n",
       "<title>0&#45;&gt;8</title>\n",
       "<path fill=\"none\" stroke=\"#000000\" d=\"M670.4592,-285.8089C684.9688,-276.2632 700.9925,-265.7213 715.9944,-255.8516\"/>\n",
       "<polygon fill=\"#000000\" stroke=\"#000000\" points=\"718.2595,-258.5509 724.6901,-250.1308 714.4122,-252.703 718.2595,-258.5509\"/>\n",
       "<text text-anchor=\"middle\" x=\"719.6378\" y=\"-270.4149\" font-family=\"Helvetica,sans-Serif\" font-size=\"14.00\" fill=\"#000000\">False</text>\n",
       "</g>\n",
       "<!-- 2 -->\n",
       "<g id=\"node3\" class=\"node\">\n",
       "<title>2</title>\n",
       "<path fill=\"#e58139\" fill-opacity=\"0.898039\" stroke=\"#000000\" d=\"M312.9708,-150C312.9708,-150 168.0868,-150 168.0868,-150 162.0868,-150 156.0868,-144 156.0868,-138 156.0868,-138 156.0868,-98 156.0868,-98 156.0868,-92 162.0868,-86 168.0868,-86 168.0868,-86 312.9708,-86 312.9708,-86 318.9708,-86 324.9708,-92 324.9708,-98 324.9708,-98 324.9708,-138 324.9708,-138 324.9708,-144 318.9708,-150 312.9708,-150\"/>\n",
       "<text text-anchor=\"start\" x=\"164.3081\" y=\"-135.8\" font-family=\"Helvetica,sans-Serif\" font-size=\"14.00\" fill=\"#000000\">WindGustSpeed ≤ 0.359</text>\n",
       "<text text-anchor=\"start\" x=\"187.0205\" y=\"-121.8\" font-family=\"Helvetica,sans-Serif\" font-size=\"14.00\" fill=\"#000000\">samples = 54174</text>\n",
       "<text text-anchor=\"start\" x=\"173\" y=\"-107.8\" font-family=\"Helvetica,sans-Serif\" font-size=\"14.00\" fill=\"#000000\">value = [49235, 4939]</text>\n",
       "<text text-anchor=\"start\" x=\"209.21\" y=\"-93.8\" font-family=\"Helvetica,sans-Serif\" font-size=\"14.00\" fill=\"#000000\">class = y</text>\n",
       "<text text-anchor=\"start\" x=\"264.0615\" y=\"-93.8\" font-family=\"Helvetica,sans-Serif\" baseline-shift=\"sub\" font-size=\"14.00\" fill=\"#000000\">0</text>\n",
       "</g>\n",
       "<!-- 1&#45;&gt;2 -->\n",
       "<g id=\"edge2\" class=\"edge\">\n",
       "<title>1&#45;&gt;2</title>\n",
       "<path fill=\"none\" stroke=\"#000000\" d=\"M449.0692,-190.4098C413.6106,-178.0978 371.569,-163.5001 334.5559,-150.6483\"/>\n",
       "<polygon fill=\"#000000\" stroke=\"#000000\" points=\"335.3568,-147.2215 324.762,-147.2476 333.0607,-153.8342 335.3568,-147.2215\"/>\n",
       "</g>\n",
       "<!-- 5 -->\n",
       "<g id=\"node6\" class=\"node\">\n",
       "<title>5</title>\n",
       "<path fill=\"#e58139\" fill-opacity=\"0.631373\" stroke=\"#000000\" d=\"M600.9708,-150C600.9708,-150 456.0868,-150 456.0868,-150 450.0868,-150 444.0868,-144 444.0868,-138 444.0868,-138 444.0868,-98 444.0868,-98 444.0868,-92 450.0868,-86 456.0868,-86 456.0868,-86 600.9708,-86 600.9708,-86 606.9708,-86 612.9708,-92 612.9708,-98 612.9708,-98 612.9708,-138 612.9708,-138 612.9708,-144 606.9708,-150 600.9708,-150\"/>\n",
       "<text text-anchor=\"start\" x=\"452.3081\" y=\"-135.8\" font-family=\"Helvetica,sans-Serif\" font-size=\"14.00\" fill=\"#000000\">WindGustSpeed ≤ 0.312</text>\n",
       "<text text-anchor=\"start\" x=\"475.0205\" y=\"-121.8\" font-family=\"Helvetica,sans-Serif\" font-size=\"14.00\" fill=\"#000000\">samples = 21712</text>\n",
       "<text text-anchor=\"start\" x=\"461\" y=\"-107.8\" font-family=\"Helvetica,sans-Serif\" font-size=\"14.00\" fill=\"#000000\">value = [15858, 5854]</text>\n",
       "<text text-anchor=\"start\" x=\"497.21\" y=\"-93.8\" font-family=\"Helvetica,sans-Serif\" font-size=\"14.00\" fill=\"#000000\">class = y</text>\n",
       "<text text-anchor=\"start\" x=\"552.0615\" y=\"-93.8\" font-family=\"Helvetica,sans-Serif\" baseline-shift=\"sub\" font-size=\"14.00\" fill=\"#000000\">0</text>\n",
       "</g>\n",
       "<!-- 1&#45;&gt;5 -->\n",
       "<g id=\"edge5\" class=\"edge\">\n",
       "<title>1&#45;&gt;5</title>\n",
       "<path fill=\"none\" stroke=\"#000000\" d=\"M528.5288,-185.8089C528.5288,-177.6906 528.5288,-168.8517 528.5288,-160.3186\"/>\n",
       "<polygon fill=\"#000000\" stroke=\"#000000\" points=\"532.0289,-160.1307 528.5288,-150.1308 525.0289,-160.1308 532.0289,-160.1307\"/>\n",
       "</g>\n",
       "<!-- 3 -->\n",
       "<g id=\"node4\" class=\"node\">\n",
       "<title>3</title>\n",
       "<path fill=\"#e58139\" fill-opacity=\"0.929412\" stroke=\"#000000\" d=\"M139.0864,-50C139.0864,-50 11.9712,-50 11.9712,-50 5.9712,-50 -.0288,-44 -.0288,-38 -.0288,-38 -.0288,-12 -.0288,-12 -.0288,-6 5.9712,0 11.9712,0 11.9712,0 139.0864,0 139.0864,0 145.0864,0 151.0864,-6 151.0864,-12 151.0864,-12 151.0864,-38 151.0864,-38 151.0864,-44 145.0864,-50 139.0864,-50\"/>\n",
       "<text text-anchor=\"start\" x=\"22.0205\" y=\"-35.8\" font-family=\"Helvetica,sans-Serif\" font-size=\"14.00\" fill=\"#000000\">samples = 45919</text>\n",
       "<text text-anchor=\"start\" x=\"8\" y=\"-21.8\" font-family=\"Helvetica,sans-Serif\" font-size=\"14.00\" fill=\"#000000\">value = [42836, 3083]</text>\n",
       "<text text-anchor=\"start\" x=\"44.21\" y=\"-7.8\" font-family=\"Helvetica,sans-Serif\" font-size=\"14.00\" fill=\"#000000\">class = y</text>\n",
       "<text text-anchor=\"start\" x=\"99.0615\" y=\"-7.8\" font-family=\"Helvetica,sans-Serif\" baseline-shift=\"sub\" font-size=\"14.00\" fill=\"#000000\">0</text>\n",
       "</g>\n",
       "<!-- 2&#45;&gt;3 -->\n",
       "<g id=\"edge3\" class=\"edge\">\n",
       "<title>2&#45;&gt;3</title>\n",
       "<path fill=\"none\" stroke=\"#000000\" d=\"M183.7452,-85.9947C165.9635,-75.9723 146.4108,-64.9517 128.8748,-55.0678\"/>\n",
       "<polygon fill=\"#000000\" stroke=\"#000000\" points=\"130.3386,-51.8752 119.9085,-50.014 126.9015,-57.9732 130.3386,-51.8752\"/>\n",
       "</g>\n",
       "<!-- 4 -->\n",
       "<g id=\"node5\" class=\"node\">\n",
       "<title>4</title>\n",
       "<path fill=\"#e58139\" fill-opacity=\"0.709804\" stroke=\"#000000\" d=\"M300.3006,-50C300.3006,-50 180.7571,-50 180.7571,-50 174.7571,-50 168.7571,-44 168.7571,-38 168.7571,-38 168.7571,-12 168.7571,-12 168.7571,-6 174.7571,0 180.7571,0 180.7571,0 300.3006,0 300.3006,0 306.3006,0 312.3006,-6 312.3006,-12 312.3006,-12 312.3006,-38 312.3006,-38 312.3006,-44 306.3006,-50 300.3006,-50\"/>\n",
       "<text text-anchor=\"start\" x=\"190.9136\" y=\"-35.8\" font-family=\"Helvetica,sans-Serif\" font-size=\"14.00\" fill=\"#000000\">samples = 8255</text>\n",
       "<text text-anchor=\"start\" x=\"176.8931\" y=\"-21.8\" font-family=\"Helvetica,sans-Serif\" font-size=\"14.00\" fill=\"#000000\">value = [6399, 1856]</text>\n",
       "<text text-anchor=\"start\" x=\"209.21\" y=\"-7.8\" font-family=\"Helvetica,sans-Serif\" font-size=\"14.00\" fill=\"#000000\">class = y</text>\n",
       "<text text-anchor=\"start\" x=\"264.0615\" y=\"-7.8\" font-family=\"Helvetica,sans-Serif\" baseline-shift=\"sub\" font-size=\"14.00\" fill=\"#000000\">0</text>\n",
       "</g>\n",
       "<!-- 2&#45;&gt;4 -->\n",
       "<g id=\"edge4\" class=\"edge\">\n",
       "<title>2&#45;&gt;4</title>\n",
       "<path fill=\"none\" stroke=\"#000000\" d=\"M240.5288,-85.9947C240.5288,-77.6273 240.5288,-68.5643 240.5288,-60.0478\"/>\n",
       "<polygon fill=\"#000000\" stroke=\"#000000\" points=\"244.0289,-60.014 240.5288,-50.014 237.0289,-60.0141 244.0289,-60.014\"/>\n",
       "</g>\n",
       "<!-- 6 -->\n",
       "<g id=\"node7\" class=\"node\">\n",
       "<title>6</title>\n",
       "<path fill=\"#e58139\" fill-opacity=\"0.741176\" stroke=\"#000000\" d=\"M469.0864,-50C469.0864,-50 341.9712,-50 341.9712,-50 335.9712,-50 329.9712,-44 329.9712,-38 329.9712,-38 329.9712,-12 329.9712,-12 329.9712,-6 335.9712,0 341.9712,0 341.9712,0 469.0864,0 469.0864,0 475.0864,0 481.0864,-6 481.0864,-12 481.0864,-12 481.0864,-38 481.0864,-38 481.0864,-44 475.0864,-50 469.0864,-50\"/>\n",
       "<text text-anchor=\"start\" x=\"352.0205\" y=\"-35.8\" font-family=\"Helvetica,sans-Serif\" font-size=\"14.00\" fill=\"#000000\">samples = 16302</text>\n",
       "<text text-anchor=\"start\" x=\"338\" y=\"-21.8\" font-family=\"Helvetica,sans-Serif\" font-size=\"14.00\" fill=\"#000000\">value = [12934, 3368]</text>\n",
       "<text text-anchor=\"start\" x=\"374.21\" y=\"-7.8\" font-family=\"Helvetica,sans-Serif\" font-size=\"14.00\" fill=\"#000000\">class = y</text>\n",
       "<text text-anchor=\"start\" x=\"429.0615\" y=\"-7.8\" font-family=\"Helvetica,sans-Serif\" baseline-shift=\"sub\" font-size=\"14.00\" fill=\"#000000\">0</text>\n",
       "</g>\n",
       "<!-- 5&#45;&gt;6 -->\n",
       "<g id=\"edge6\" class=\"edge\">\n",
       "<title>5&#45;&gt;6</title>\n",
       "<path fill=\"none\" stroke=\"#000000\" d=\"M486.1992,-85.9947C473.4302,-76.3401 459.4361,-65.7592 446.7409,-56.1604\"/>\n",
       "<polygon fill=\"#000000\" stroke=\"#000000\" points=\"448.6994,-53.2533 438.6119,-50.014 444.4776,-58.837 448.6994,-53.2533\"/>\n",
       "</g>\n",
       "<!-- 7 -->\n",
       "<g id=\"node8\" class=\"node\">\n",
       "<title>7</title>\n",
       "<path fill=\"#e58139\" fill-opacity=\"0.149020\" stroke=\"#000000\" d=\"M630.3006,-50C630.3006,-50 510.7571,-50 510.7571,-50 504.7571,-50 498.7571,-44 498.7571,-38 498.7571,-38 498.7571,-12 498.7571,-12 498.7571,-6 504.7571,0 510.7571,0 510.7571,0 630.3006,0 630.3006,0 636.3006,0 642.3006,-6 642.3006,-12 642.3006,-12 642.3006,-38 642.3006,-38 642.3006,-44 636.3006,-50 630.3006,-50\"/>\n",
       "<text text-anchor=\"start\" x=\"520.9136\" y=\"-35.8\" font-family=\"Helvetica,sans-Serif\" font-size=\"14.00\" fill=\"#000000\">samples = 5410</text>\n",
       "<text text-anchor=\"start\" x=\"506.8931\" y=\"-21.8\" font-family=\"Helvetica,sans-Serif\" font-size=\"14.00\" fill=\"#000000\">value = [2924, 2486]</text>\n",
       "<text text-anchor=\"start\" x=\"539.21\" y=\"-7.8\" font-family=\"Helvetica,sans-Serif\" font-size=\"14.00\" fill=\"#000000\">class = y</text>\n",
       "<text text-anchor=\"start\" x=\"594.0615\" y=\"-7.8\" font-family=\"Helvetica,sans-Serif\" baseline-shift=\"sub\" font-size=\"14.00\" fill=\"#000000\">0</text>\n",
       "</g>\n",
       "<!-- 5&#45;&gt;7 -->\n",
       "<g id=\"edge7\" class=\"edge\">\n",
       "<title>5&#45;&gt;7</title>\n",
       "<path fill=\"none\" stroke=\"#000000\" d=\"M542.9828,-85.9947C546.8862,-77.3515 551.1248,-67.966 555.0804,-59.2073\"/>\n",
       "<polygon fill=\"#000000\" stroke=\"#000000\" points=\"558.306,-60.5683 559.2321,-50.014 551.9264,-57.6872 558.306,-60.5683\"/>\n",
       "</g>\n",
       "<!-- 9 -->\n",
       "<g id=\"node10\" class=\"node\">\n",
       "<title>9</title>\n",
       "<path fill=\"#399de5\" fill-opacity=\"0.007843\" stroke=\"#000000\" d=\"M845.9708,-150C845.9708,-150 701.0868,-150 701.0868,-150 695.0868,-150 689.0868,-144 689.0868,-138 689.0868,-138 689.0868,-98 689.0868,-98 689.0868,-92 695.0868,-86 701.0868,-86 701.0868,-86 845.9708,-86 845.9708,-86 851.9708,-86 857.9708,-92 857.9708,-98 857.9708,-98 857.9708,-138 857.9708,-138 857.9708,-144 851.9708,-150 845.9708,-150\"/>\n",
       "<text text-anchor=\"start\" x=\"697.3081\" y=\"-135.8\" font-family=\"Helvetica,sans-Serif\" font-size=\"14.00\" fill=\"#000000\">WindGustSpeed ≤ 0.312</text>\n",
       "<text text-anchor=\"start\" x=\"723.9136\" y=\"-121.8\" font-family=\"Helvetica,sans-Serif\" font-size=\"14.00\" fill=\"#000000\">samples = 8660</text>\n",
       "<text text-anchor=\"start\" x=\"710.4092\" y=\"-107.8\" font-family=\"Helvetica,sans-Serif\" font-size=\"14.00\" fill=\"#000000\">value = [4311, 4349]</text>\n",
       "<text text-anchor=\"start\" x=\"742.21\" y=\"-93.8\" font-family=\"Helvetica,sans-Serif\" font-size=\"14.00\" fill=\"#000000\">class = y</text>\n",
       "<text text-anchor=\"start\" x=\"797.0615\" y=\"-93.8\" font-family=\"Helvetica,sans-Serif\" baseline-shift=\"sub\" font-size=\"14.00\" fill=\"#000000\">1</text>\n",
       "</g>\n",
       "<!-- 8&#45;&gt;9 -->\n",
       "<g id=\"edge9\" class=\"edge\">\n",
       "<title>8&#45;&gt;9</title>\n",
       "<path fill=\"none\" stroke=\"#000000\" d=\"M773.5288,-185.8089C773.5288,-177.6906 773.5288,-168.8517 773.5288,-160.3186\"/>\n",
       "<polygon fill=\"#000000\" stroke=\"#000000\" points=\"777.0289,-160.1307 773.5288,-150.1308 770.0289,-160.1308 777.0289,-160.1307\"/>\n",
       "</g>\n",
       "<!-- 12 -->\n",
       "<g id=\"node13\" class=\"node\">\n",
       "<title>12</title>\n",
       "<path fill=\"#399de5\" fill-opacity=\"0.819608\" stroke=\"#000000\" d=\"M1104.281,-150C1104.281,-150 978.7767,-150 978.7767,-150 972.7767,-150 966.7767,-144 966.7767,-138 966.7767,-138 966.7767,-98 966.7767,-98 966.7767,-92 972.7767,-86 978.7767,-86 978.7767,-86 1104.281,-86 1104.281,-86 1110.281,-86 1116.281,-92 1116.281,-98 1116.281,-98 1116.281,-138 1116.281,-138 1116.281,-144 1110.281,-150 1104.281,-150\"/>\n",
       "<text text-anchor=\"start\" x=\"974.6528\" y=\"-135.8\" font-family=\"Helvetica,sans-Serif\" font-size=\"14.00\" fill=\"#000000\">Pressure3pm ≤ 0.737</text>\n",
       "<text text-anchor=\"start\" x=\"991.9136\" y=\"-121.8\" font-family=\"Helvetica,sans-Serif\" font-size=\"14.00\" fill=\"#000000\">samples = 5794</text>\n",
       "<text text-anchor=\"start\" x=\"981.7861\" y=\"-107.8\" font-family=\"Helvetica,sans-Serif\" font-size=\"14.00\" fill=\"#000000\">value = [881, 4913]</text>\n",
       "<text text-anchor=\"start\" x=\"1010.21\" y=\"-93.8\" font-family=\"Helvetica,sans-Serif\" font-size=\"14.00\" fill=\"#000000\">class = y</text>\n",
       "<text text-anchor=\"start\" x=\"1065.0615\" y=\"-93.8\" font-family=\"Helvetica,sans-Serif\" baseline-shift=\"sub\" font-size=\"14.00\" fill=\"#000000\">1</text>\n",
       "</g>\n",
       "<!-- 8&#45;&gt;12 -->\n",
       "<g id=\"edge12\" class=\"edge\">\n",
       "<title>8&#45;&gt;12</title>\n",
       "<path fill=\"none\" stroke=\"#000000\" d=\"M847.8259,-190.2772C881.6673,-177.6498 921.8947,-162.6396 956.8975,-149.5789\"/>\n",
       "<polygon fill=\"#000000\" stroke=\"#000000\" points=\"958.4764,-152.7255 966.6219,-145.9504 956.0292,-146.1672 958.4764,-152.7255\"/>\n",
       "</g>\n",
       "<!-- 10 -->\n",
       "<g id=\"node11\" class=\"node\">\n",
       "<title>10</title>\n",
       "<path fill=\"#e58139\" fill-opacity=\"0.274510\" stroke=\"#000000\" d=\"M791.3006,-50C791.3006,-50 671.7571,-50 671.7571,-50 665.7571,-50 659.7571,-44 659.7571,-38 659.7571,-38 659.7571,-12 659.7571,-12 659.7571,-6 665.7571,0 671.7571,0 671.7571,0 791.3006,0 791.3006,0 797.3006,0 803.3006,-6 803.3006,-12 803.3006,-12 803.3006,-38 803.3006,-38 803.3006,-44 797.3006,-50 791.3006,-50\"/>\n",
       "<text text-anchor=\"start\" x=\"681.9136\" y=\"-35.8\" font-family=\"Helvetica,sans-Serif\" font-size=\"14.00\" fill=\"#000000\">samples = 5827</text>\n",
       "<text text-anchor=\"start\" x=\"667.8931\" y=\"-21.8\" font-family=\"Helvetica,sans-Serif\" font-size=\"14.00\" fill=\"#000000\">value = [3378, 2449]</text>\n",
       "<text text-anchor=\"start\" x=\"700.21\" y=\"-7.8\" font-family=\"Helvetica,sans-Serif\" font-size=\"14.00\" fill=\"#000000\">class = y</text>\n",
       "<text text-anchor=\"start\" x=\"755.0615\" y=\"-7.8\" font-family=\"Helvetica,sans-Serif\" baseline-shift=\"sub\" font-size=\"14.00\" fill=\"#000000\">0</text>\n",
       "</g>\n",
       "<!-- 9&#45;&gt;10 -->\n",
       "<g id=\"edge10\" class=\"edge\">\n",
       "<title>9&#45;&gt;10</title>\n",
       "<path fill=\"none\" stroke=\"#000000\" d=\"M759.0748,-85.9947C755.1714,-77.3515 750.9328,-67.966 746.9773,-59.2073\"/>\n",
       "<polygon fill=\"#000000\" stroke=\"#000000\" points=\"750.1312,-57.6872 742.8255,-50.014 743.7516,-60.5683 750.1312,-57.6872\"/>\n",
       "</g>\n",
       "<!-- 11 -->\n",
       "<g id=\"node12\" class=\"node\">\n",
       "<title>11</title>\n",
       "<path fill=\"#399de5\" fill-opacity=\"0.509804\" stroke=\"#000000\" d=\"M944.515,-50C944.515,-50 832.5426,-50 832.5426,-50 826.5426,-50 820.5426,-44 820.5426,-38 820.5426,-38 820.5426,-12 820.5426,-12 820.5426,-6 826.5426,0 832.5426,0 832.5426,0 944.515,0 944.515,0 950.515,0 956.515,-6 956.515,-12 956.515,-12 956.515,-38 956.515,-38 956.515,-44 950.515,-50 944.515,-50\"/>\n",
       "<text text-anchor=\"start\" x=\"838.9136\" y=\"-35.8\" font-family=\"Helvetica,sans-Serif\" font-size=\"14.00\" fill=\"#000000\">samples = 2833</text>\n",
       "<text text-anchor=\"start\" x=\"828.7861\" y=\"-21.8\" font-family=\"Helvetica,sans-Serif\" font-size=\"14.00\" fill=\"#000000\">value = [933, 1900]</text>\n",
       "<text text-anchor=\"start\" x=\"857.21\" y=\"-7.8\" font-family=\"Helvetica,sans-Serif\" font-size=\"14.00\" fill=\"#000000\">class = y</text>\n",
       "<text text-anchor=\"start\" x=\"912.0615\" y=\"-7.8\" font-family=\"Helvetica,sans-Serif\" baseline-shift=\"sub\" font-size=\"14.00\" fill=\"#000000\">1</text>\n",
       "</g>\n",
       "<!-- 9&#45;&gt;11 -->\n",
       "<g id=\"edge11\" class=\"edge\">\n",
       "<title>9&#45;&gt;11</title>\n",
       "<path fill=\"none\" stroke=\"#000000\" d=\"M813.1053,-85.9947C824.9301,-76.432 837.8786,-65.9606 849.6577,-56.4349\"/>\n",
       "<polygon fill=\"#000000\" stroke=\"#000000\" points=\"852.0227,-59.0236 857.5975,-50.014 847.621,-53.5807 852.0227,-59.0236\"/>\n",
       "</g>\n",
       "<!-- 13 -->\n",
       "<g id=\"node14\" class=\"node\">\n",
       "<title>13</title>\n",
       "<path fill=\"#399de5\" fill-opacity=\"0.850980\" stroke=\"#000000\" d=\"M1097.515,-50C1097.515,-50 985.5426,-50 985.5426,-50 979.5426,-50 973.5426,-44 973.5426,-38 973.5426,-38 973.5426,-12 973.5426,-12 973.5426,-6 979.5426,0 985.5426,0 985.5426,0 1097.515,0 1097.515,0 1103.515,0 1109.515,-6 1109.515,-12 1109.515,-12 1109.515,-38 1109.515,-38 1109.515,-44 1103.515,-50 1097.515,-50\"/>\n",
       "<text text-anchor=\"start\" x=\"991.9136\" y=\"-35.8\" font-family=\"Helvetica,sans-Serif\" font-size=\"14.00\" fill=\"#000000\">samples = 5275</text>\n",
       "<text text-anchor=\"start\" x=\"981.7861\" y=\"-21.8\" font-family=\"Helvetica,sans-Serif\" font-size=\"14.00\" fill=\"#000000\">value = [687, 4588]</text>\n",
       "<text text-anchor=\"start\" x=\"1010.21\" y=\"-7.8\" font-family=\"Helvetica,sans-Serif\" font-size=\"14.00\" fill=\"#000000\">class = y</text>\n",
       "<text text-anchor=\"start\" x=\"1065.0615\" y=\"-7.8\" font-family=\"Helvetica,sans-Serif\" baseline-shift=\"sub\" font-size=\"14.00\" fill=\"#000000\">1</text>\n",
       "</g>\n",
       "<!-- 12&#45;&gt;13 -->\n",
       "<g id=\"edge13\" class=\"edge\">\n",
       "<title>12&#45;&gt;13</title>\n",
       "<path fill=\"none\" stroke=\"#000000\" d=\"M1041.5288,-85.9947C1041.5288,-77.6273 1041.5288,-68.5643 1041.5288,-60.0478\"/>\n",
       "<polygon fill=\"#000000\" stroke=\"#000000\" points=\"1045.0289,-60.014 1041.5288,-50.014 1038.0289,-60.0141 1045.0289,-60.014\"/>\n",
       "</g>\n",
       "<!-- 14 -->\n",
       "<g id=\"node15\" class=\"node\">\n",
       "<title>14</title>\n",
       "<path fill=\"#399de5\" fill-opacity=\"0.403922\" stroke=\"#000000\" d=\"M1243.2284,-50C1243.2284,-50 1139.8292,-50 1139.8292,-50 1133.8292,-50 1127.8292,-44 1127.8292,-38 1127.8292,-38 1127.8292,-12 1127.8292,-12 1127.8292,-6 1133.8292,0 1139.8292,0 1139.8292,0 1243.2284,0 1243.2284,0 1249.2284,0 1255.2284,-6 1255.2284,-12 1255.2284,-12 1255.2284,-38 1255.2284,-38 1255.2284,-44 1249.2284,-50 1243.2284,-50\"/>\n",
       "<text text-anchor=\"start\" x=\"1145.8066\" y=\"-35.8\" font-family=\"Helvetica,sans-Serif\" font-size=\"14.00\" fill=\"#000000\">samples = 519</text>\n",
       "<text text-anchor=\"start\" x=\"1135.6792\" y=\"-21.8\" font-family=\"Helvetica,sans-Serif\" font-size=\"14.00\" fill=\"#000000\">value = [194, 325]</text>\n",
       "<text text-anchor=\"start\" x=\"1160.21\" y=\"-7.8\" font-family=\"Helvetica,sans-Serif\" font-size=\"14.00\" fill=\"#000000\">class = y</text>\n",
       "<text text-anchor=\"start\" x=\"1215.0615\" y=\"-7.8\" font-family=\"Helvetica,sans-Serif\" baseline-shift=\"sub\" font-size=\"14.00\" fill=\"#000000\">1</text>\n",
       "</g>\n",
       "<!-- 12&#45;&gt;14 -->\n",
       "<g id=\"edge14\" class=\"edge\">\n",
       "<title>12&#45;&gt;14</title>\n",
       "<path fill=\"none\" stroke=\"#000000\" d=\"M1093.1503,-85.9947C1109.1672,-76.0642 1126.7646,-65.1538 1142.5932,-55.3401\"/>\n",
       "<polygon fill=\"#000000\" stroke=\"#000000\" points=\"1144.5289,-58.2581 1151.1836,-50.014 1140.8403,-52.3088 1144.5289,-58.2581\"/>\n",
       "</g>\n",
       "</g>\n",
       "</svg>\n"
      ],
      "text/plain": [
       "<graphviz.files.Source at 0x11715bf28>"
      ]
     },
     "execution_count": 66,
     "metadata": {},
     "output_type": "execute_result"
    }
   ],
   "source": [
    "graphviz.Source(export_graphviz(tree_model,feature_names=x_train.columns,\n",
    "                                    filled=True, \n",
    "                                    rounded=True,impurity=False, special_characters = True,class_names = True ))"
   ]
  },
  {
   "cell_type": "markdown",
   "metadata": {},
   "source": [
    "I used the graphviz package to visualise the tree - it creates a human-readable chart showing the separate decisions taken to reach a decision.\n",
    "\n",
    "On my first attempts, the tree would not visualise in a readable format, and I had to fix several problems. Firstly, the graphviz package I installed through PIP wasn't working; I had to install a separate Graphviz program outside Python, so that the package could function correctly. After that, I discovered that the tree visualisation took a long time to render, and was hard to understand. In order to fix this problem, I added a max_depth parameter to the tree model:\n",
    "\n",
    "`tree_model = DecisionTreeClassifier(random_state=123,max_depth=3)`\n",
    "\n",
    "This parameter means that the model only makes three levels of decisions. This makes the tree simpler, if less fitted to the data. That might sound like a trade-off - accuracy for intelligibility - but it's actually a good thing. If the model has the ability to make a much higher number of decisions, then it will \"over-fit\" to the training data, and be less accurate on the test, or other unfamiliar, data. It will make increasingly specific choices that eventually will just be picking up on features in the training data that aren't significant or important, and then those decisions will lead to misleading choices with new data."
   ]
  },
  {
   "cell_type": "markdown",
   "metadata": {},
   "source": [
    "Now I can use the tree (trained on the training data) to predict if it will rain tomorrow based on the testing data."
   ]
  },
  {
   "cell_type": "code",
   "execution_count": 67,
   "metadata": {},
   "outputs": [],
   "source": [
    "# create an array of predictions and display it.\n",
    "\n",
    "predictions = tree_model.predict(x_test)"
   ]
  },
  {
   "cell_type": "markdown",
   "metadata": {},
   "source": [
    "'predictions' is an array of 1s and 0s - 1 if the model predicts rain, 0 if it doesn't. \n",
    "\n",
    "In order to check the validity of these predictions, I need to compare them with the RainTomorrow field stored in y_test."
   ]
  },
  {
   "cell_type": "code",
   "execution_count": 68,
   "metadata": {},
   "outputs": [],
   "source": [
    "# Create a new dataframe from the predictions\n",
    "\n",
    "test_results = pd.DataFrame(data=y_test)\n",
    "\n",
    "# add the predictions to the dataframe\n",
    "\n",
    "test_results[\"Predicted\"] = predictions\n",
    "\n",
    "# for neatness's sake, rename the RainTomorrow column\n",
    "\n",
    "test_results.rename(columns={\"RainTomorrow\": \"Actual\"}, inplace=True)\n"
   ]
  },
  {
   "cell_type": "code",
   "execution_count": 69,
   "metadata": {},
   "outputs": [
    {
     "data": {
      "text/html": [
       "<div>\n",
       "<style scoped>\n",
       "    .dataframe tbody tr th:only-of-type {\n",
       "        vertical-align: middle;\n",
       "    }\n",
       "\n",
       "    .dataframe tbody tr th {\n",
       "        vertical-align: top;\n",
       "    }\n",
       "\n",
       "    .dataframe thead th {\n",
       "        text-align: right;\n",
       "    }\n",
       "</style>\n",
       "<table border=\"1\" class=\"dataframe\">\n",
       "  <thead>\n",
       "    <tr style=\"text-align: right;\">\n",
       "      <th></th>\n",
       "      <th>Actual</th>\n",
       "      <th>Predicted</th>\n",
       "    </tr>\n",
       "  </thead>\n",
       "  <tbody>\n",
       "    <tr>\n",
       "      <th>115319</th>\n",
       "      <td>0</td>\n",
       "      <td>0</td>\n",
       "    </tr>\n",
       "    <tr>\n",
       "      <th>67536</th>\n",
       "      <td>0</td>\n",
       "      <td>0</td>\n",
       "    </tr>\n",
       "    <tr>\n",
       "      <th>115236</th>\n",
       "      <td>1</td>\n",
       "      <td>1</td>\n",
       "    </tr>\n",
       "    <tr>\n",
       "      <th>34948</th>\n",
       "      <td>0</td>\n",
       "      <td>0</td>\n",
       "    </tr>\n",
       "    <tr>\n",
       "      <th>137016</th>\n",
       "      <td>0</td>\n",
       "      <td>0</td>\n",
       "    </tr>\n",
       "    <tr>\n",
       "      <th>27985</th>\n",
       "      <td>0</td>\n",
       "      <td>0</td>\n",
       "    </tr>\n",
       "    <tr>\n",
       "      <th>82565</th>\n",
       "      <td>0</td>\n",
       "      <td>0</td>\n",
       "    </tr>\n",
       "    <tr>\n",
       "      <th>69747</th>\n",
       "      <td>0</td>\n",
       "      <td>0</td>\n",
       "    </tr>\n",
       "    <tr>\n",
       "      <th>9679</th>\n",
       "      <td>0</td>\n",
       "      <td>0</td>\n",
       "    </tr>\n",
       "    <tr>\n",
       "      <th>68109</th>\n",
       "      <td>0</td>\n",
       "      <td>0</td>\n",
       "    </tr>\n",
       "    <tr>\n",
       "      <th>130229</th>\n",
       "      <td>1</td>\n",
       "      <td>0</td>\n",
       "    </tr>\n",
       "    <tr>\n",
       "      <th>86998</th>\n",
       "      <td>0</td>\n",
       "      <td>0</td>\n",
       "    </tr>\n",
       "    <tr>\n",
       "      <th>96027</th>\n",
       "      <td>0</td>\n",
       "      <td>0</td>\n",
       "    </tr>\n",
       "    <tr>\n",
       "      <th>137108</th>\n",
       "      <td>1</td>\n",
       "      <td>0</td>\n",
       "    </tr>\n",
       "    <tr>\n",
       "      <th>40196</th>\n",
       "      <td>0</td>\n",
       "      <td>0</td>\n",
       "    </tr>\n",
       "    <tr>\n",
       "      <th>96889</th>\n",
       "      <td>0</td>\n",
       "      <td>0</td>\n",
       "    </tr>\n",
       "    <tr>\n",
       "      <th>20615</th>\n",
       "      <td>0</td>\n",
       "      <td>0</td>\n",
       "    </tr>\n",
       "    <tr>\n",
       "      <th>100999</th>\n",
       "      <td>0</td>\n",
       "      <td>0</td>\n",
       "    </tr>\n",
       "    <tr>\n",
       "      <th>46781</th>\n",
       "      <td>1</td>\n",
       "      <td>0</td>\n",
       "    </tr>\n",
       "    <tr>\n",
       "      <th>26593</th>\n",
       "      <td>1</td>\n",
       "      <td>0</td>\n",
       "    </tr>\n",
       "  </tbody>\n",
       "</table>\n",
       "</div>"
      ],
      "text/plain": [
       "        Actual  Predicted\n",
       "115319       0          0\n",
       "67536        0          0\n",
       "115236       1          1\n",
       "34948        0          0\n",
       "137016       0          0\n",
       "27985        0          0\n",
       "82565        0          0\n",
       "69747        0          0\n",
       "9679         0          0\n",
       "68109        0          0\n",
       "130229       1          0\n",
       "86998        0          0\n",
       "96027        0          0\n",
       "137108       1          0\n",
       "40196        0          0\n",
       "96889        0          0\n",
       "20615        0          0\n",
       "100999       0          0\n",
       "46781        1          0\n",
       "26593        1          0"
      ]
     },
     "execution_count": 69,
     "metadata": {},
     "output_type": "execute_result"
    }
   ],
   "source": [
    "# Take a look at the dataset, to check the columns have worked and to see if patterns are evident.\n",
    "\n",
    "test_results.sample(20)"
   ]
  },
  {
   "cell_type": "markdown",
   "metadata": {},
   "source": [
    "The sample will be different every time the cell above is run, but it's clear that the model is not perfect - even in a small sample of 20 rows, I can see mismatches.\n",
    "\n",
    "I can look at the total counts of 0s and 1s in both actual and predicted, to see how closely they match."
   ]
  },
  {
   "cell_type": "code",
   "execution_count": 70,
   "metadata": {},
   "outputs": [
    {
     "data": {
      "text/plain": [
       "0    17621\n",
       "1     4964\n",
       "Name: Actual, dtype: int64"
      ]
     },
     "execution_count": 70,
     "metadata": {},
     "output_type": "execute_result"
    }
   ],
   "source": [
    "# Actual counts\n",
    "\n",
    "test_results[\"Actual\"].value_counts()"
   ]
  },
  {
   "cell_type": "code",
   "execution_count": 71,
   "metadata": {
    "scrolled": false
   },
   "outputs": [
    {
     "data": {
      "text/plain": [
       "0    20406\n",
       "1     2179\n",
       "Name: Predicted, dtype: int64"
      ]
     },
     "execution_count": 71,
     "metadata": {},
     "output_type": "execute_result"
    }
   ],
   "source": [
    "# Predicted counts\n",
    "\n",
    "test_results[\"Predicted\"].value_counts()"
   ]
  },
  {
   "cell_type": "markdown",
   "metadata": {},
   "source": [
    "The model clearly isn't perfect - it over-predicts not raining, and under-predicts rain. That's okay - a perfect or near-perfect model suggests over-fitting.  \n",
    "\n",
    "I can use a confusion matrix to get an overall measure of accuracy and a better understanding of how well the model actually works."
   ]
  },
  {
   "cell_type": "code",
   "execution_count": 72,
   "metadata": {},
   "outputs": [
    {
     "data": {
      "text/html": [
       "<div>\n",
       "<style scoped>\n",
       "    .dataframe tbody tr th:only-of-type {\n",
       "        vertical-align: middle;\n",
       "    }\n",
       "\n",
       "    .dataframe tbody tr th {\n",
       "        vertical-align: top;\n",
       "    }\n",
       "\n",
       "    .dataframe thead th {\n",
       "        text-align: right;\n",
       "    }\n",
       "</style>\n",
       "<table border=\"1\" class=\"dataframe\">\n",
       "  <thead>\n",
       "    <tr style=\"text-align: right;\">\n",
       "      <th></th>\n",
       "      <th>0</th>\n",
       "      <th>1</th>\n",
       "    </tr>\n",
       "  </thead>\n",
       "  <tbody>\n",
       "    <tr>\n",
       "      <th>0</th>\n",
       "      <td>17162</td>\n",
       "      <td>459</td>\n",
       "    </tr>\n",
       "    <tr>\n",
       "      <th>1</th>\n",
       "      <td>3244</td>\n",
       "      <td>1720</td>\n",
       "    </tr>\n",
       "  </tbody>\n",
       "</table>\n",
       "</div>"
      ],
      "text/plain": [
       "       0     1\n",
       "0  17162   459\n",
       "1   3244  1720"
      ]
     },
     "execution_count": 72,
     "metadata": {},
     "output_type": "execute_result"
    }
   ],
   "source": [
    "# Create and display a confusion matrix\n",
    " \n",
    "pd.DataFrame(confusion_matrix(test_results[\"Actual\"], test_results[\"Predicted\"]), index= [0,1], columns= [0,1])"
   ]
  },
  {
   "cell_type": "markdown",
   "metadata": {},
   "source": [
    "A confusion matrix shows how many accurate predictions were made, splitting this into four values. This is shown in the output above.\n",
    "\n",
    "The top-left value shows the number of actual 0s correctly predicted as 0s, and the top right shows the number of 1s incorrectly predicted as 0. Similarly, on the lower row, the first number is the number of 1s predicted (incorrectly) as 0, and the second is the number of correctly-predicted actual 1s. \n",
    "\n",
    "This shows that the model successfully predicts not-rain, but is not as successful on days when it does rain. It's a lot easier to predict not-rain, as that's the most common result; if the model just always predicted not-rain, it would be accurate much of the time. However, a model that just predicts the most common result each time is not useful. \n",
    "\n",
    "A classification report gives more metrics to evaluate a model's success."
   ]
  },
  {
   "cell_type": "code",
   "execution_count": 73,
   "metadata": {},
   "outputs": [
    {
     "name": "stdout",
     "output_type": "stream",
     "text": [
      "              precision    recall  f1-score   support\n",
      "\n",
      "           0       0.84      0.97      0.90     17621\n",
      "           1       0.79      0.35      0.48      4964\n",
      "\n",
      "   micro avg       0.84      0.84      0.84     22585\n",
      "   macro avg       0.82      0.66      0.69     22585\n",
      "weighted avg       0.83      0.84      0.81     22585\n",
      "\n"
     ]
    }
   ],
   "source": [
    "# Create and display a classification report\n",
    "\n",
    "print(classification_report(test_results[\"Actual\"], test_results[\"Predicted\"]))"
   ]
  },
  {
   "cell_type": "markdown",
   "metadata": {},
   "source": [
    "The classification report shows the same problem.\n",
    "\n",
    "Precision is a measurement of how many predictions of a specific type were correct - out of the number of times the model predicted rain, what proportion of those rain predictions were correct. \n",
    "\n",
    "The model has 0.84 as a precision score for not-rain. It predicted not-rain 17554 times, and 84% of the time, those predictions were correct. 0.8 is the precision score for predicting rain - out of 5031 predictions, 80% were correct.\n",
    "\n",
    "However, precision is not enough on its own. I also need to consider recall.\n",
    "\n",
    "Recall is a measurement of how many predictions of a specific type were correct, compared to how many times the thing being predicted occurred. \n",
    "\n",
    "The model has a recall score for not-rain of 0.98. That means that, out of all the days it did not rain, the model predicted not-rain 98% of the time. That's a good score. However, the recall score for rain is only 0.35 - the model only predicted rain correctly on 35% of the days it actually rained. \n",
    "\n",
    "To make a useful model, this recall number needs to be higher. "
   ]
  },
  {
   "cell_type": "markdown",
   "metadata": {},
   "source": [
    "# Improving the model\n",
    "\n",
    "In order to try and build a better model, I'm going to use another algorithm - the random forest classifier. \n",
    "\n",
    "RandomForest runs several different decision trees on the same data, each time looking at a different subset of factors. Instead of the output from one decision tree, you get the best answer, collated from lots of different trees."
   ]
  },
  {
   "cell_type": "code",
   "execution_count": 74,
   "metadata": {},
   "outputs": [
    {
     "data": {
      "text/plain": [
       "RandomForestClassifier(bootstrap=True, class_weight=None, criterion='gini',\n",
       "            max_depth=10, max_features='auto', max_leaf_nodes=None,\n",
       "            min_impurity_decrease=0.0, min_impurity_split=None,\n",
       "            min_samples_leaf=1, min_samples_split=2,\n",
       "            min_weight_fraction_leaf=0.0, n_estimators=20, n_jobs=None,\n",
       "            oob_score=False, random_state=123, verbose=0, warm_start=False)"
      ]
     },
     "execution_count": 74,
     "metadata": {},
     "output_type": "execute_result"
    }
   ],
   "source": [
    "# Create a RandomForest classifier that will create 20 trees\n",
    "\n",
    "tree_model2 = RandomForestClassifier(n_estimators=20, random_state=123,max_depth=10)\n",
    "\n",
    "# Train the classifier on the data\n",
    "\n",
    "tree_model2.fit(x_train,y_train)"
   ]
  },
  {
   "cell_type": "code",
   "execution_count": 75,
   "metadata": {},
   "outputs": [],
   "source": [
    "# Use the model on the test data\n",
    "\n",
    "forest_predictions = tree_model2.predict(x_test)"
   ]
  },
  {
   "cell_type": "code",
   "execution_count": 76,
   "metadata": {},
   "outputs": [],
   "source": [
    "# Create a new dataframe from the predictions\n",
    "\n",
    "forest_results = pd.DataFrame(data=y_test)\n",
    "\n",
    "# add the predictions to the dataframe\n",
    "\n",
    "forest_results[\"Predicted\"] = forest_predictions\n",
    "\n",
    "# for neatness's sake, rename the RainTomorrow column\n",
    "\n",
    "forest_results.rename(columns={\"RainTomorrow\": \"Actual\"}, inplace=True)"
   ]
  },
  {
   "cell_type": "code",
   "execution_count": 77,
   "metadata": {},
   "outputs": [
    {
     "data": {
      "text/html": [
       "<div>\n",
       "<style scoped>\n",
       "    .dataframe tbody tr th:only-of-type {\n",
       "        vertical-align: middle;\n",
       "    }\n",
       "\n",
       "    .dataframe tbody tr th {\n",
       "        vertical-align: top;\n",
       "    }\n",
       "\n",
       "    .dataframe thead th {\n",
       "        text-align: right;\n",
       "    }\n",
       "</style>\n",
       "<table border=\"1\" class=\"dataframe\">\n",
       "  <thead>\n",
       "    <tr style=\"text-align: right;\">\n",
       "      <th></th>\n",
       "      <th>0</th>\n",
       "      <th>1</th>\n",
       "    </tr>\n",
       "  </thead>\n",
       "  <tbody>\n",
       "    <tr>\n",
       "      <th>0</th>\n",
       "      <td>16968</td>\n",
       "      <td>653</td>\n",
       "    </tr>\n",
       "    <tr>\n",
       "      <th>1</th>\n",
       "      <td>2799</td>\n",
       "      <td>2165</td>\n",
       "    </tr>\n",
       "  </tbody>\n",
       "</table>\n",
       "</div>"
      ],
      "text/plain": [
       "       0     1\n",
       "0  16968   653\n",
       "1   2799  2165"
      ]
     },
     "execution_count": 77,
     "metadata": {},
     "output_type": "execute_result"
    }
   ],
   "source": [
    "# Create and display a confusion matrix for the forest results\n",
    " \n",
    "pd.DataFrame(confusion_matrix(forest_results[\"Actual\"], forest_results[\"Predicted\"]), index= [0,1], columns= [0,1])"
   ]
  },
  {
   "cell_type": "code",
   "execution_count": 78,
   "metadata": {},
   "outputs": [
    {
     "name": "stdout",
     "output_type": "stream",
     "text": [
      "              precision    recall  f1-score   support\n",
      "\n",
      "           0       0.86      0.96      0.91     17621\n",
      "           1       0.77      0.44      0.56      4964\n",
      "\n",
      "   micro avg       0.85      0.85      0.85     22585\n",
      "   macro avg       0.81      0.70      0.73     22585\n",
      "weighted avg       0.84      0.85      0.83     22585\n",
      "\n"
     ]
    }
   ],
   "source": [
    "# Create and display a classification report\n",
    "\n",
    "print(classification_report(forest_results[\"Actual\"], forest_results[\"Predicted\"]))"
   ]
  },
  {
   "cell_type": "markdown",
   "metadata": {},
   "source": [
    "From the cells above, I can see that the random forest has produced a more useful model overall. The low recall score of 0.35 has improved to 0.44. That's not a huge improvement, but it is a noticeable one. The other recall value and the precision scores have slightly decreased, but the 1 recall score is the most noticeable change."
   ]
  },
  {
   "cell_type": "markdown",
   "metadata": {},
   "source": [
    "In order to more directly compare the models, I am going to calculate the ROC/AUC score. This score is a measure of how well a model can distinguish between distinct values - in this case, 0 and 1. The closer the ROC/AUC score is to 1, the better the model.\n",
    "\n",
    "It's the best model to use for situations like this, where there is an imbalance between the number of values for each case - in this data, not-rain is far more frequent than rain. "
   ]
  },
  {
   "cell_type": "code",
   "execution_count": 79,
   "metadata": {},
   "outputs": [
    {
     "name": "stdout",
     "output_type": "stream",
     "text": [
      "Tree model: 0.6602231486943207\n",
      "Forest: 0.6995410768897505\n"
     ]
    }
   ],
   "source": [
    "# Calculate the score for the first model\n",
    "\n",
    "print(\"Tree model:\", roc_auc_score(test_results[\"Actual\"], test_results[\"Predicted\"]))\n",
    "\n",
    "# Calculate the score for the forest model\n",
    "\n",
    "print(\"Forest:\" ,roc_auc_score(forest_results[\"Actual\"], forest_results[\"Predicted\"]))"
   ]
  },
  {
   "cell_type": "markdown",
   "metadata": {},
   "source": [
    "There's a definite improvement in the ROC/AUC score, and that means that the RandomForest is the better model. It's not as good an improvement or final result as I would like, but it is a positive change. \n",
    "\n",
    "Throughout this project, I've experiment with various tools/techniques, with differing levels of success. I've cleaned and analysed data effectively, even if my eventual model wasn't as strong as I hoped. I now feel more confident with my data skills, but I also have areas for improvement. Moving on from this project, I'm going to focus on ways to evaluate and improve models to increase their applicability."
   ]
  }
 ],
 "metadata": {
  "kernelspec": {
   "display_name": "Python 3",
   "language": "python",
   "name": "python3"
  },
  "language_info": {
   "codemirror_mode": {
    "name": "ipython",
    "version": 3
   },
   "file_extension": ".py",
   "mimetype": "text/x-python",
   "name": "python",
   "nbconvert_exporter": "python",
   "pygments_lexer": "ipython3",
   "version": "3.6.8"
  }
 },
 "nbformat": 4,
 "nbformat_minor": 2
}
