{
 "cells": [
  {
   "cell_type": "markdown",
   "metadata": {},
   "source": [
    "# Clustering Islington Wards\n",
    "## Data sources:\n",
    "+ average age per wards as of 2011: http://www.ukcensusdata.com/islington-e09000019#sthash.GmfeNVqd.dpbs\n",
    "+ yearly average income per wards as of 2011: https://data.london.gov.uk/dataset/household-income-estimates-small-areas\n",
    "+ weekly average income per wards as of 2011 (not used):\n",
    "https://www.ons.gov.uk/employmentandlabourmarket/peopleinwork/earningsandworkinghours/datasets/smallareaincomeestimatesformiddlelayersuperoutputareasenglandandwales\n",
    "+ old to new wards code mapping: http://geoportal.statistics.gov.uk/datasets/65544c20a5804677a2594fe750bf4482_0\n",
    "+ london wards geo boudaries: https://data.london.gov.uk/dataset/statistical-gis-boundary-files-london"
   ]
  },
  {
   "cell_type": "markdown",
   "metadata": {},
   "source": [
    "## Library imports:"
   ]
  },
  {
   "cell_type": "code",
   "execution_count": 149,
   "metadata": {},
   "outputs": [
    {
     "data": {
      "text/html": [
       "\n",
       "    <div class=\"bk-root\">\n",
       "        <a href=\"https://bokeh.pydata.org\" target=\"_blank\" class=\"bk-logo bk-logo-small bk-logo-notebook\"></a>\n",
       "        <span id=\"3770\">Loading BokehJS ...</span>\n",
       "    </div>"
      ]
     },
     "metadata": {},
     "output_type": "display_data"
    },
    {
     "data": {
      "application/javascript": [
       "\n",
       "(function(root) {\n",
       "  function now() {\n",
       "    return new Date();\n",
       "  }\n",
       "\n",
       "  var force = true;\n",
       "\n",
       "  if (typeof (root._bokeh_onload_callbacks) === \"undefined\" || force === true) {\n",
       "    root._bokeh_onload_callbacks = [];\n",
       "    root._bokeh_is_loading = undefined;\n",
       "  }\n",
       "\n",
       "  var JS_MIME_TYPE = 'application/javascript';\n",
       "  var HTML_MIME_TYPE = 'text/html';\n",
       "  var EXEC_MIME_TYPE = 'application/vnd.bokehjs_exec.v0+json';\n",
       "  var CLASS_NAME = 'output_bokeh rendered_html';\n",
       "\n",
       "  /**\n",
       "   * Render data to the DOM node\n",
       "   */\n",
       "  function render(props, node) {\n",
       "    var script = document.createElement(\"script\");\n",
       "    node.appendChild(script);\n",
       "  }\n",
       "\n",
       "  /**\n",
       "   * Handle when an output is cleared or removed\n",
       "   */\n",
       "  function handleClearOutput(event, handle) {\n",
       "    var cell = handle.cell;\n",
       "\n",
       "    var id = cell.output_area._bokeh_element_id;\n",
       "    var server_id = cell.output_area._bokeh_server_id;\n",
       "    // Clean up Bokeh references\n",
       "    if (id != null && id in Bokeh.index) {\n",
       "      Bokeh.index[id].model.document.clear();\n",
       "      delete Bokeh.index[id];\n",
       "    }\n",
       "\n",
       "    if (server_id !== undefined) {\n",
       "      // Clean up Bokeh references\n",
       "      var cmd = \"from bokeh.io.state import curstate; print(curstate().uuid_to_server['\" + server_id + \"'].get_sessions()[0].document.roots[0]._id)\";\n",
       "      cell.notebook.kernel.execute(cmd, {\n",
       "        iopub: {\n",
       "          output: function(msg) {\n",
       "            var id = msg.content.text.trim();\n",
       "            if (id in Bokeh.index) {\n",
       "              Bokeh.index[id].model.document.clear();\n",
       "              delete Bokeh.index[id];\n",
       "            }\n",
       "          }\n",
       "        }\n",
       "      });\n",
       "      // Destroy server and session\n",
       "      var cmd = \"import bokeh.io.notebook as ion; ion.destroy_server('\" + server_id + \"')\";\n",
       "      cell.notebook.kernel.execute(cmd);\n",
       "    }\n",
       "  }\n",
       "\n",
       "  /**\n",
       "   * Handle when a new output is added\n",
       "   */\n",
       "  function handleAddOutput(event, handle) {\n",
       "    var output_area = handle.output_area;\n",
       "    var output = handle.output;\n",
       "\n",
       "    // limit handleAddOutput to display_data with EXEC_MIME_TYPE content only\n",
       "    if ((output.output_type != \"display_data\") || (!output.data.hasOwnProperty(EXEC_MIME_TYPE))) {\n",
       "      return\n",
       "    }\n",
       "\n",
       "    var toinsert = output_area.element.find(\".\" + CLASS_NAME.split(' ')[0]);\n",
       "\n",
       "    if (output.metadata[EXEC_MIME_TYPE][\"id\"] !== undefined) {\n",
       "      toinsert[toinsert.length - 1].firstChild.textContent = output.data[JS_MIME_TYPE];\n",
       "      // store reference to embed id on output_area\n",
       "      output_area._bokeh_element_id = output.metadata[EXEC_MIME_TYPE][\"id\"];\n",
       "    }\n",
       "    if (output.metadata[EXEC_MIME_TYPE][\"server_id\"] !== undefined) {\n",
       "      var bk_div = document.createElement(\"div\");\n",
       "      bk_div.innerHTML = output.data[HTML_MIME_TYPE];\n",
       "      var script_attrs = bk_div.children[0].attributes;\n",
       "      for (var i = 0; i < script_attrs.length; i++) {\n",
       "        toinsert[toinsert.length - 1].firstChild.setAttribute(script_attrs[i].name, script_attrs[i].value);\n",
       "      }\n",
       "      // store reference to server id on output_area\n",
       "      output_area._bokeh_server_id = output.metadata[EXEC_MIME_TYPE][\"server_id\"];\n",
       "    }\n",
       "  }\n",
       "\n",
       "  function register_renderer(events, OutputArea) {\n",
       "\n",
       "    function append_mime(data, metadata, element) {\n",
       "      // create a DOM node to render to\n",
       "      var toinsert = this.create_output_subarea(\n",
       "        metadata,\n",
       "        CLASS_NAME,\n",
       "        EXEC_MIME_TYPE\n",
       "      );\n",
       "      this.keyboard_manager.register_events(toinsert);\n",
       "      // Render to node\n",
       "      var props = {data: data, metadata: metadata[EXEC_MIME_TYPE]};\n",
       "      render(props, toinsert[toinsert.length - 1]);\n",
       "      element.append(toinsert);\n",
       "      return toinsert\n",
       "    }\n",
       "\n",
       "    /* Handle when an output is cleared or removed */\n",
       "    events.on('clear_output.CodeCell', handleClearOutput);\n",
       "    events.on('delete.Cell', handleClearOutput);\n",
       "\n",
       "    /* Handle when a new output is added */\n",
       "    events.on('output_added.OutputArea', handleAddOutput);\n",
       "\n",
       "    /**\n",
       "     * Register the mime type and append_mime function with output_area\n",
       "     */\n",
       "    OutputArea.prototype.register_mime_type(EXEC_MIME_TYPE, append_mime, {\n",
       "      /* Is output safe? */\n",
       "      safe: true,\n",
       "      /* Index of renderer in `output_area.display_order` */\n",
       "      index: 0\n",
       "    });\n",
       "  }\n",
       "\n",
       "  // register the mime type if in Jupyter Notebook environment and previously unregistered\n",
       "  if (root.Jupyter !== undefined) {\n",
       "    var events = require('base/js/events');\n",
       "    var OutputArea = require('notebook/js/outputarea').OutputArea;\n",
       "\n",
       "    if (OutputArea.prototype.mime_types().indexOf(EXEC_MIME_TYPE) == -1) {\n",
       "      register_renderer(events, OutputArea);\n",
       "    }\n",
       "  }\n",
       "\n",
       "  \n",
       "  if (typeof (root._bokeh_timeout) === \"undefined\" || force === true) {\n",
       "    root._bokeh_timeout = Date.now() + 5000;\n",
       "    root._bokeh_failed_load = false;\n",
       "  }\n",
       "\n",
       "  var NB_LOAD_WARNING = {'data': {'text/html':\n",
       "     \"<div style='background-color: #fdd'>\\n\"+\n",
       "     \"<p>\\n\"+\n",
       "     \"BokehJS does not appear to have successfully loaded. If loading BokehJS from CDN, this \\n\"+\n",
       "     \"may be due to a slow or bad network connection. Possible fixes:\\n\"+\n",
       "     \"</p>\\n\"+\n",
       "     \"<ul>\\n\"+\n",
       "     \"<li>re-rerun `output_notebook()` to attempt to load from CDN again, or</li>\\n\"+\n",
       "     \"<li>use INLINE resources instead, as so:</li>\\n\"+\n",
       "     \"</ul>\\n\"+\n",
       "     \"<code>\\n\"+\n",
       "     \"from bokeh.resources import INLINE\\n\"+\n",
       "     \"output_notebook(resources=INLINE)\\n\"+\n",
       "     \"</code>\\n\"+\n",
       "     \"</div>\"}};\n",
       "\n",
       "  function display_loaded() {\n",
       "    var el = document.getElementById(\"3770\");\n",
       "    if (el != null) {\n",
       "      el.textContent = \"BokehJS is loading...\";\n",
       "    }\n",
       "    if (root.Bokeh !== undefined) {\n",
       "      if (el != null) {\n",
       "        el.textContent = \"BokehJS \" + root.Bokeh.version + \" successfully loaded.\";\n",
       "      }\n",
       "    } else if (Date.now() < root._bokeh_timeout) {\n",
       "      setTimeout(display_loaded, 100)\n",
       "    }\n",
       "  }\n",
       "\n",
       "\n",
       "  function run_callbacks() {\n",
       "    try {\n",
       "      root._bokeh_onload_callbacks.forEach(function(callback) { callback() });\n",
       "    }\n",
       "    finally {\n",
       "      delete root._bokeh_onload_callbacks\n",
       "    }\n",
       "    console.info(\"Bokeh: all callbacks have finished\");\n",
       "  }\n",
       "\n",
       "  function load_libs(js_urls, callback) {\n",
       "    root._bokeh_onload_callbacks.push(callback);\n",
       "    if (root._bokeh_is_loading > 0) {\n",
       "      console.log(\"Bokeh: BokehJS is being loaded, scheduling callback at\", now());\n",
       "      return null;\n",
       "    }\n",
       "    if (js_urls == null || js_urls.length === 0) {\n",
       "      run_callbacks();\n",
       "      return null;\n",
       "    }\n",
       "    console.log(\"Bokeh: BokehJS not loaded, scheduling load and callback at\", now());\n",
       "    root._bokeh_is_loading = js_urls.length;\n",
       "    for (var i = 0; i < js_urls.length; i++) {\n",
       "      var url = js_urls[i];\n",
       "      var s = document.createElement('script');\n",
       "      s.src = url;\n",
       "      s.async = false;\n",
       "      s.onreadystatechange = s.onload = function() {\n",
       "        root._bokeh_is_loading--;\n",
       "        if (root._bokeh_is_loading === 0) {\n",
       "          console.log(\"Bokeh: all BokehJS libraries loaded\");\n",
       "          run_callbacks()\n",
       "        }\n",
       "      };\n",
       "      s.onerror = function() {\n",
       "        console.warn(\"failed to load library \" + url);\n",
       "      };\n",
       "      console.log(\"Bokeh: injecting script tag for BokehJS library: \", url);\n",
       "      document.getElementsByTagName(\"head\")[0].appendChild(s);\n",
       "    }\n",
       "  };var element = document.getElementById(\"3770\");\n",
       "  if (element == null) {\n",
       "    console.log(\"Bokeh: ERROR: autoload.js configured with elementid '3770' but no matching script tag was found. \")\n",
       "    return false;\n",
       "  }\n",
       "\n",
       "  var js_urls = [\"https://cdn.pydata.org/bokeh/release/bokeh-1.0.4.min.js\", \"https://cdn.pydata.org/bokeh/release/bokeh-widgets-1.0.4.min.js\", \"https://cdn.pydata.org/bokeh/release/bokeh-tables-1.0.4.min.js\", \"https://cdn.pydata.org/bokeh/release/bokeh-gl-1.0.4.min.js\"];\n",
       "\n",
       "  var inline_js = [\n",
       "    function(Bokeh) {\n",
       "      Bokeh.set_log_level(\"info\");\n",
       "    },\n",
       "    \n",
       "    function(Bokeh) {\n",
       "      \n",
       "    },\n",
       "    function(Bokeh) {\n",
       "      console.log(\"Bokeh: injecting CSS: https://cdn.pydata.org/bokeh/release/bokeh-1.0.4.min.css\");\n",
       "      Bokeh.embed.inject_css(\"https://cdn.pydata.org/bokeh/release/bokeh-1.0.4.min.css\");\n",
       "      console.log(\"Bokeh: injecting CSS: https://cdn.pydata.org/bokeh/release/bokeh-widgets-1.0.4.min.css\");\n",
       "      Bokeh.embed.inject_css(\"https://cdn.pydata.org/bokeh/release/bokeh-widgets-1.0.4.min.css\");\n",
       "      console.log(\"Bokeh: injecting CSS: https://cdn.pydata.org/bokeh/release/bokeh-tables-1.0.4.min.css\");\n",
       "      Bokeh.embed.inject_css(\"https://cdn.pydata.org/bokeh/release/bokeh-tables-1.0.4.min.css\");\n",
       "    }\n",
       "  ];\n",
       "\n",
       "  function run_inline_js() {\n",
       "    \n",
       "    if ((root.Bokeh !== undefined) || (force === true)) {\n",
       "      for (var i = 0; i < inline_js.length; i++) {\n",
       "        inline_js[i].call(root, root.Bokeh);\n",
       "      }if (force === true) {\n",
       "        display_loaded();\n",
       "      }} else if (Date.now() < root._bokeh_timeout) {\n",
       "      setTimeout(run_inline_js, 100);\n",
       "    } else if (!root._bokeh_failed_load) {\n",
       "      console.log(\"Bokeh: BokehJS failed to load within specified timeout.\");\n",
       "      root._bokeh_failed_load = true;\n",
       "    } else if (force !== true) {\n",
       "      var cell = $(document.getElementById(\"3770\")).parents('.cell').data().cell;\n",
       "      cell.output_area.append_execute_result(NB_LOAD_WARNING)\n",
       "    }\n",
       "\n",
       "  }\n",
       "\n",
       "  if (root._bokeh_is_loading === 0) {\n",
       "    console.log(\"Bokeh: BokehJS loaded, going straight to plotting\");\n",
       "    run_inline_js();\n",
       "  } else {\n",
       "    load_libs(js_urls, function() {\n",
       "      console.log(\"Bokeh: BokehJS plotting callback run at\", now());\n",
       "      run_inline_js();\n",
       "    });\n",
       "  }\n",
       "}(window));"
      ],
      "application/vnd.bokehjs_load.v0+json": "\n(function(root) {\n  function now() {\n    return new Date();\n  }\n\n  var force = true;\n\n  if (typeof (root._bokeh_onload_callbacks) === \"undefined\" || force === true) {\n    root._bokeh_onload_callbacks = [];\n    root._bokeh_is_loading = undefined;\n  }\n\n  \n\n  \n  if (typeof (root._bokeh_timeout) === \"undefined\" || force === true) {\n    root._bokeh_timeout = Date.now() + 5000;\n    root._bokeh_failed_load = false;\n  }\n\n  var NB_LOAD_WARNING = {'data': {'text/html':\n     \"<div style='background-color: #fdd'>\\n\"+\n     \"<p>\\n\"+\n     \"BokehJS does not appear to have successfully loaded. If loading BokehJS from CDN, this \\n\"+\n     \"may be due to a slow or bad network connection. Possible fixes:\\n\"+\n     \"</p>\\n\"+\n     \"<ul>\\n\"+\n     \"<li>re-rerun `output_notebook()` to attempt to load from CDN again, or</li>\\n\"+\n     \"<li>use INLINE resources instead, as so:</li>\\n\"+\n     \"</ul>\\n\"+\n     \"<code>\\n\"+\n     \"from bokeh.resources import INLINE\\n\"+\n     \"output_notebook(resources=INLINE)\\n\"+\n     \"</code>\\n\"+\n     \"</div>\"}};\n\n  function display_loaded() {\n    var el = document.getElementById(\"3770\");\n    if (el != null) {\n      el.textContent = \"BokehJS is loading...\";\n    }\n    if (root.Bokeh !== undefined) {\n      if (el != null) {\n        el.textContent = \"BokehJS \" + root.Bokeh.version + \" successfully loaded.\";\n      }\n    } else if (Date.now() < root._bokeh_timeout) {\n      setTimeout(display_loaded, 100)\n    }\n  }\n\n\n  function run_callbacks() {\n    try {\n      root._bokeh_onload_callbacks.forEach(function(callback) { callback() });\n    }\n    finally {\n      delete root._bokeh_onload_callbacks\n    }\n    console.info(\"Bokeh: all callbacks have finished\");\n  }\n\n  function load_libs(js_urls, callback) {\n    root._bokeh_onload_callbacks.push(callback);\n    if (root._bokeh_is_loading > 0) {\n      console.log(\"Bokeh: BokehJS is being loaded, scheduling callback at\", now());\n      return null;\n    }\n    if (js_urls == null || js_urls.length === 0) {\n      run_callbacks();\n      return null;\n    }\n    console.log(\"Bokeh: BokehJS not loaded, scheduling load and callback at\", now());\n    root._bokeh_is_loading = js_urls.length;\n    for (var i = 0; i < js_urls.length; i++) {\n      var url = js_urls[i];\n      var s = document.createElement('script');\n      s.src = url;\n      s.async = false;\n      s.onreadystatechange = s.onload = function() {\n        root._bokeh_is_loading--;\n        if (root._bokeh_is_loading === 0) {\n          console.log(\"Bokeh: all BokehJS libraries loaded\");\n          run_callbacks()\n        }\n      };\n      s.onerror = function() {\n        console.warn(\"failed to load library \" + url);\n      };\n      console.log(\"Bokeh: injecting script tag for BokehJS library: \", url);\n      document.getElementsByTagName(\"head\")[0].appendChild(s);\n    }\n  };var element = document.getElementById(\"3770\");\n  if (element == null) {\n    console.log(\"Bokeh: ERROR: autoload.js configured with elementid '3770' but no matching script tag was found. \")\n    return false;\n  }\n\n  var js_urls = [\"https://cdn.pydata.org/bokeh/release/bokeh-1.0.4.min.js\", \"https://cdn.pydata.org/bokeh/release/bokeh-widgets-1.0.4.min.js\", \"https://cdn.pydata.org/bokeh/release/bokeh-tables-1.0.4.min.js\", \"https://cdn.pydata.org/bokeh/release/bokeh-gl-1.0.4.min.js\"];\n\n  var inline_js = [\n    function(Bokeh) {\n      Bokeh.set_log_level(\"info\");\n    },\n    \n    function(Bokeh) {\n      \n    },\n    function(Bokeh) {\n      console.log(\"Bokeh: injecting CSS: https://cdn.pydata.org/bokeh/release/bokeh-1.0.4.min.css\");\n      Bokeh.embed.inject_css(\"https://cdn.pydata.org/bokeh/release/bokeh-1.0.4.min.css\");\n      console.log(\"Bokeh: injecting CSS: https://cdn.pydata.org/bokeh/release/bokeh-widgets-1.0.4.min.css\");\n      Bokeh.embed.inject_css(\"https://cdn.pydata.org/bokeh/release/bokeh-widgets-1.0.4.min.css\");\n      console.log(\"Bokeh: injecting CSS: https://cdn.pydata.org/bokeh/release/bokeh-tables-1.0.4.min.css\");\n      Bokeh.embed.inject_css(\"https://cdn.pydata.org/bokeh/release/bokeh-tables-1.0.4.min.css\");\n    }\n  ];\n\n  function run_inline_js() {\n    \n    if ((root.Bokeh !== undefined) || (force === true)) {\n      for (var i = 0; i < inline_js.length; i++) {\n        inline_js[i].call(root, root.Bokeh);\n      }if (force === true) {\n        display_loaded();\n      }} else if (Date.now() < root._bokeh_timeout) {\n      setTimeout(run_inline_js, 100);\n    } else if (!root._bokeh_failed_load) {\n      console.log(\"Bokeh: BokehJS failed to load within specified timeout.\");\n      root._bokeh_failed_load = true;\n    } else if (force !== true) {\n      var cell = $(document.getElementById(\"3770\")).parents('.cell').data().cell;\n      cell.output_area.append_execute_result(NB_LOAD_WARNING)\n    }\n\n  }\n\n  if (root._bokeh_is_loading === 0) {\n    console.log(\"Bokeh: BokehJS loaded, going straight to plotting\");\n    run_inline_js();\n  } else {\n    load_libs(js_urls, function() {\n      console.log(\"Bokeh: BokehJS plotting callback run at\", now());\n      run_inline_js();\n    });\n  }\n}(window));"
     },
     "metadata": {},
     "output_type": "display_data"
    }
   ],
   "source": [
    "import pandas as pd\n",
    "import numpy as np\n",
    "import geopandas as gpd\n",
    "import matplotlib.pyplot as plt\n",
    "from bokeh.io import output_notebook, export_png\n",
    "from bokeh.models import GeoJSONDataSource, HoverTool, LogColorMapper, CategoricalColorMapper, LinearColorMapper, ColorBar, BasicTicker, PrintfTickFormatter\n",
    "from bokeh.plotting import figure, show\n",
    "from bokeh.palettes import Category20c, viridis, Viridis256, RdYlBu, RdBu, Spectral\n",
    "import os\n",
    "import imageio\n",
    "from sklearn.cluster import KMeans\n",
    "from sklearn.preprocessing import scale\n",
    "output_notebook()"
   ]
  },
  {
   "cell_type": "markdown",
   "metadata": {},
   "source": [
    "## Load data:"
   ]
  },
  {
   "cell_type": "markdown",
   "metadata": {},
   "source": [
    "### Load average age and income data:"
   ]
  },
  {
   "cell_type": "code",
   "execution_count": 26,
   "metadata": {},
   "outputs": [],
   "source": [
    "data = pd.read_excel('./datasets/islington_census_2011.xlsx')"
   ]
  },
  {
   "cell_type": "code",
   "execution_count": 27,
   "metadata": {},
   "outputs": [
    {
     "data": {
      "text/html": [
       "<div>\n",
       "<style scoped>\n",
       "    .dataframe tbody tr th:only-of-type {\n",
       "        vertical-align: middle;\n",
       "    }\n",
       "\n",
       "    .dataframe tbody tr th {\n",
       "        vertical-align: top;\n",
       "    }\n",
       "\n",
       "    .dataframe thead th {\n",
       "        text-align: right;\n",
       "    }\n",
       "</style>\n",
       "<table border=\"1\" class=\"dataframe\">\n",
       "  <thead>\n",
       "    <tr style=\"text-align: right;\">\n",
       "      <th></th>\n",
       "      <th>ward_name</th>\n",
       "      <th>avg_age</th>\n",
       "      <th>avg_yearly_income</th>\n",
       "      <th>gss_code</th>\n",
       "    </tr>\n",
       "  </thead>\n",
       "  <tbody>\n",
       "    <tr>\n",
       "      <th>0</th>\n",
       "      <td>Barnsbury</td>\n",
       "      <td>35.007622</td>\n",
       "      <td>41950</td>\n",
       "      <td>E05000366</td>\n",
       "    </tr>\n",
       "    <tr>\n",
       "      <th>1</th>\n",
       "      <td>Bunhill</td>\n",
       "      <td>33.014072</td>\n",
       "      <td>36620</td>\n",
       "      <td>E05000367</td>\n",
       "    </tr>\n",
       "    <tr>\n",
       "      <th>2</th>\n",
       "      <td>Caledonian</td>\n",
       "      <td>34.258348</td>\n",
       "      <td>33450</td>\n",
       "      <td>E05000368</td>\n",
       "    </tr>\n",
       "    <tr>\n",
       "      <th>3</th>\n",
       "      <td>Canonbury</td>\n",
       "      <td>35.139579</td>\n",
       "      <td>37860</td>\n",
       "      <td>E05000369</td>\n",
       "    </tr>\n",
       "    <tr>\n",
       "      <th>4</th>\n",
       "      <td>Clerkenwell</td>\n",
       "      <td>34.849521</td>\n",
       "      <td>40470</td>\n",
       "      <td>E05000370</td>\n",
       "    </tr>\n",
       "    <tr>\n",
       "      <th>5</th>\n",
       "      <td>Finsbury Park</td>\n",
       "      <td>33.539142</td>\n",
       "      <td>31750</td>\n",
       "      <td>E05000371</td>\n",
       "    </tr>\n",
       "    <tr>\n",
       "      <th>6</th>\n",
       "      <td>Highbury East</td>\n",
       "      <td>35.503094</td>\n",
       "      <td>44650</td>\n",
       "      <td>E05000372</td>\n",
       "    </tr>\n",
       "    <tr>\n",
       "      <th>7</th>\n",
       "      <td>Highbury West</td>\n",
       "      <td>33.402595</td>\n",
       "      <td>40780</td>\n",
       "      <td>E05000373</td>\n",
       "    </tr>\n",
       "    <tr>\n",
       "      <th>8</th>\n",
       "      <td>Hillrise</td>\n",
       "      <td>34.984144</td>\n",
       "      <td>36370</td>\n",
       "      <td>E05000374</td>\n",
       "    </tr>\n",
       "    <tr>\n",
       "      <th>9</th>\n",
       "      <td>Holloway</td>\n",
       "      <td>33.475873</td>\n",
       "      <td>32960</td>\n",
       "      <td>E05000375</td>\n",
       "    </tr>\n",
       "    <tr>\n",
       "      <th>10</th>\n",
       "      <td>Junction</td>\n",
       "      <td>35.903035</td>\n",
       "      <td>36850</td>\n",
       "      <td>E05000376</td>\n",
       "    </tr>\n",
       "    <tr>\n",
       "      <th>11</th>\n",
       "      <td>Mildmay</td>\n",
       "      <td>33.562437</td>\n",
       "      <td>36780</td>\n",
       "      <td>E05000377</td>\n",
       "    </tr>\n",
       "    <tr>\n",
       "      <th>12</th>\n",
       "      <td>St George's</td>\n",
       "      <td>35.208952</td>\n",
       "      <td>38170</td>\n",
       "      <td>E05000378</td>\n",
       "    </tr>\n",
       "    <tr>\n",
       "      <th>13</th>\n",
       "      <td>St Mary's</td>\n",
       "      <td>35.811824</td>\n",
       "      <td>43070</td>\n",
       "      <td>E05000379</td>\n",
       "    </tr>\n",
       "    <tr>\n",
       "      <th>14</th>\n",
       "      <td>St Peter's</td>\n",
       "      <td>35.645830</td>\n",
       "      <td>41210</td>\n",
       "      <td>E05000380</td>\n",
       "    </tr>\n",
       "    <tr>\n",
       "      <th>15</th>\n",
       "      <td>Tollington</td>\n",
       "      <td>34.204042</td>\n",
       "      <td>35490</td>\n",
       "      <td>E05000381</td>\n",
       "    </tr>\n",
       "  </tbody>\n",
       "</table>\n",
       "</div>"
      ],
      "text/plain": [
       "        ward_name    avg_age  avg_yearly_income   gss_code\n",
       "0       Barnsbury  35.007622              41950  E05000366\n",
       "1         Bunhill  33.014072              36620  E05000367\n",
       "2      Caledonian  34.258348              33450  E05000368\n",
       "3       Canonbury  35.139579              37860  E05000369\n",
       "4     Clerkenwell  34.849521              40470  E05000370\n",
       "5   Finsbury Park  33.539142              31750  E05000371\n",
       "6   Highbury East  35.503094              44650  E05000372\n",
       "7   Highbury West  33.402595              40780  E05000373\n",
       "8        Hillrise  34.984144              36370  E05000374\n",
       "9        Holloway  33.475873              32960  E05000375\n",
       "10       Junction  35.903035              36850  E05000376\n",
       "11        Mildmay  33.562437              36780  E05000377\n",
       "12    St George's  35.208952              38170  E05000378\n",
       "13      St Mary's  35.811824              43070  E05000379\n",
       "14     St Peter's  35.645830              41210  E05000380\n",
       "15     Tollington  34.204042              35490  E05000381"
      ]
     },
     "execution_count": 27,
     "metadata": {},
     "output_type": "execute_result"
    }
   ],
   "source": [
    "data"
   ]
  },
  {
   "cell_type": "markdown",
   "metadata": {},
   "source": [
    "### Load geo data for Islington wards:"
   ]
  },
  {
   "cell_type": "code",
   "execution_count": 38,
   "metadata": {},
   "outputs": [],
   "source": [
    "wards = gpd.read_file('./datasets/london wards/London_Ward.shp')\n",
    "wards = wards.rename(columns={'NAME': 'name', 'GSS_CODE': 'gss_code'})"
   ]
  },
  {
   "cell_type": "code",
   "execution_count": 39,
   "metadata": {},
   "outputs": [
    {
     "data": {
      "text/html": [
       "<div>\n",
       "<style scoped>\n",
       "    .dataframe tbody tr th:only-of-type {\n",
       "        vertical-align: middle;\n",
       "    }\n",
       "\n",
       "    .dataframe tbody tr th {\n",
       "        vertical-align: top;\n",
       "    }\n",
       "\n",
       "    .dataframe thead th {\n",
       "        text-align: right;\n",
       "    }\n",
       "</style>\n",
       "<table border=\"1\" class=\"dataframe\">\n",
       "  <thead>\n",
       "    <tr style=\"text-align: right;\">\n",
       "      <th></th>\n",
       "      <th>name</th>\n",
       "      <th>gss_code</th>\n",
       "      <th>HECTARES</th>\n",
       "      <th>NONLD_AREA</th>\n",
       "      <th>LB_GSS_CD</th>\n",
       "      <th>BOROUGH</th>\n",
       "      <th>POLY_ID</th>\n",
       "      <th>geometry</th>\n",
       "    </tr>\n",
       "  </thead>\n",
       "  <tbody>\n",
       "    <tr>\n",
       "      <th>0</th>\n",
       "      <td>Chessington South</td>\n",
       "      <td>E05000405</td>\n",
       "      <td>755.173</td>\n",
       "      <td>0.0</td>\n",
       "      <td>E09000021</td>\n",
       "      <td>Kingston upon Thames</td>\n",
       "      <td>50840</td>\n",
       "      <td>POLYGON ((516401.6 160201.8, 516407.3 160210.5...</td>\n",
       "    </tr>\n",
       "    <tr>\n",
       "      <th>1</th>\n",
       "      <td>Tolworth and Hook Rise</td>\n",
       "      <td>E05000414</td>\n",
       "      <td>259.464</td>\n",
       "      <td>0.0</td>\n",
       "      <td>E09000021</td>\n",
       "      <td>Kingston upon Thames</td>\n",
       "      <td>117160</td>\n",
       "      <td>POLYGON ((517829.6 165447.1, 517837.1 165469.4...</td>\n",
       "    </tr>\n",
       "    <tr>\n",
       "      <th>2</th>\n",
       "      <td>Berrylands</td>\n",
       "      <td>E05000401</td>\n",
       "      <td>145.390</td>\n",
       "      <td>0.0</td>\n",
       "      <td>E09000021</td>\n",
       "      <td>Kingston upon Thames</td>\n",
       "      <td>50449</td>\n",
       "      <td>POLYGON ((518107.5 167303.4, 518114.3 167307.5...</td>\n",
       "    </tr>\n",
       "    <tr>\n",
       "      <th>3</th>\n",
       "      <td>Alexandra</td>\n",
       "      <td>E05000400</td>\n",
       "      <td>268.506</td>\n",
       "      <td>0.0</td>\n",
       "      <td>E09000021</td>\n",
       "      <td>Kingston upon Thames</td>\n",
       "      <td>50456</td>\n",
       "      <td>POLYGON ((520480 166909.8, 520490.7 166901.9, ...</td>\n",
       "    </tr>\n",
       "    <tr>\n",
       "      <th>4</th>\n",
       "      <td>Beverley</td>\n",
       "      <td>E05000402</td>\n",
       "      <td>187.821</td>\n",
       "      <td>0.0</td>\n",
       "      <td>E09000021</td>\n",
       "      <td>Kingston upon Thames</td>\n",
       "      <td>117161</td>\n",
       "      <td>POLYGON ((522071 168144.9, 522063.9 168144, 52...</td>\n",
       "    </tr>\n",
       "  </tbody>\n",
       "</table>\n",
       "</div>"
      ],
      "text/plain": [
       "                     name   gss_code  HECTARES  NONLD_AREA  LB_GSS_CD  \\\n",
       "0       Chessington South  E05000405   755.173         0.0  E09000021   \n",
       "1  Tolworth and Hook Rise  E05000414   259.464         0.0  E09000021   \n",
       "2              Berrylands  E05000401   145.390         0.0  E09000021   \n",
       "3               Alexandra  E05000400   268.506         0.0  E09000021   \n",
       "4                Beverley  E05000402   187.821         0.0  E09000021   \n",
       "\n",
       "                BOROUGH  POLY_ID  \\\n",
       "0  Kingston upon Thames    50840   \n",
       "1  Kingston upon Thames   117160   \n",
       "2  Kingston upon Thames    50449   \n",
       "3  Kingston upon Thames    50456   \n",
       "4  Kingston upon Thames   117161   \n",
       "\n",
       "                                            geometry  \n",
       "0  POLYGON ((516401.6 160201.8, 516407.3 160210.5...  \n",
       "1  POLYGON ((517829.6 165447.1, 517837.1 165469.4...  \n",
       "2  POLYGON ((518107.5 167303.4, 518114.3 167307.5...  \n",
       "3  POLYGON ((520480 166909.8, 520490.7 166901.9, ...  \n",
       "4  POLYGON ((522071 168144.9, 522063.9 168144, 52...  "
      ]
     },
     "execution_count": 39,
     "metadata": {},
     "output_type": "execute_result"
    }
   ],
   "source": [
    "wards.head()"
   ]
  },
  {
   "cell_type": "code",
   "execution_count": 154,
   "metadata": {},
   "outputs": [
    {
     "data": {
      "text/html": [
       "<div>\n",
       "<style scoped>\n",
       "    .dataframe tbody tr th:only-of-type {\n",
       "        vertical-align: middle;\n",
       "    }\n",
       "\n",
       "    .dataframe tbody tr th {\n",
       "        vertical-align: top;\n",
       "    }\n",
       "\n",
       "    .dataframe thead th {\n",
       "        text-align: right;\n",
       "    }\n",
       "</style>\n",
       "<table border=\"1\" class=\"dataframe\">\n",
       "  <thead>\n",
       "    <tr style=\"text-align: right;\">\n",
       "      <th></th>\n",
       "      <th>name</th>\n",
       "      <th>gss_code</th>\n",
       "      <th>HECTARES</th>\n",
       "      <th>NONLD_AREA</th>\n",
       "      <th>LB_GSS_CD</th>\n",
       "      <th>BOROUGH</th>\n",
       "      <th>POLY_ID</th>\n",
       "      <th>geometry</th>\n",
       "    </tr>\n",
       "  </thead>\n",
       "  <tbody>\n",
       "    <tr>\n",
       "      <th>533</th>\n",
       "      <td>Clerkenwell</td>\n",
       "      <td>E05000370</td>\n",
       "      <td>93.263</td>\n",
       "      <td>0.0</td>\n",
       "      <td>E09000019</td>\n",
       "      <td>Islington</td>\n",
       "      <td>50755</td>\n",
       "      <td>POLYGON ((530916.9 182418.9, 530951.8 182460.1...</td>\n",
       "    </tr>\n",
       "    <tr>\n",
       "      <th>534</th>\n",
       "      <td>Caledonian</td>\n",
       "      <td>E05000368</td>\n",
       "      <td>113.611</td>\n",
       "      <td>0.0</td>\n",
       "      <td>E09000019</td>\n",
       "      <td>Islington</td>\n",
       "      <td>50626</td>\n",
       "      <td>POLYGON ((530021.3 184570.7, 530104.9 184611.8...</td>\n",
       "    </tr>\n",
       "    <tr>\n",
       "      <th>535</th>\n",
       "      <td>St. Mary's</td>\n",
       "      <td>E05000379</td>\n",
       "      <td>86.831</td>\n",
       "      <td>0.0</td>\n",
       "      <td>E09000019</td>\n",
       "      <td>Islington</td>\n",
       "      <td>50761</td>\n",
       "      <td>POLYGON ((531466 183278.7, 531426.4 183325.9, ...</td>\n",
       "    </tr>\n",
       "    <tr>\n",
       "      <th>536</th>\n",
       "      <td>Holloway</td>\n",
       "      <td>E05000375</td>\n",
       "      <td>100.874</td>\n",
       "      <td>0.0</td>\n",
       "      <td>E09000019</td>\n",
       "      <td>Islington</td>\n",
       "      <td>117408</td>\n",
       "      <td>POLYGON ((530021.3 184570.7, 530018.6 184584.8...</td>\n",
       "    </tr>\n",
       "    <tr>\n",
       "      <th>537</th>\n",
       "      <td>Highbury East</td>\n",
       "      <td>E05000372</td>\n",
       "      <td>100.809</td>\n",
       "      <td>0.0</td>\n",
       "      <td>E09000019</td>\n",
       "      <td>Islington</td>\n",
       "      <td>50667</td>\n",
       "      <td>POLYGON ((532488.1 185676.3, 532463.6 185676.3...</td>\n",
       "    </tr>\n",
       "  </tbody>\n",
       "</table>\n",
       "</div>"
      ],
      "text/plain": [
       "              name   gss_code  HECTARES  NONLD_AREA  LB_GSS_CD    BOROUGH  \\\n",
       "533    Clerkenwell  E05000370    93.263         0.0  E09000019  Islington   \n",
       "534     Caledonian  E05000368   113.611         0.0  E09000019  Islington   \n",
       "535     St. Mary's  E05000379    86.831         0.0  E09000019  Islington   \n",
       "536       Holloway  E05000375   100.874         0.0  E09000019  Islington   \n",
       "537  Highbury East  E05000372   100.809         0.0  E09000019  Islington   \n",
       "\n",
       "     POLY_ID                                           geometry  \n",
       "533    50755  POLYGON ((530916.9 182418.9, 530951.8 182460.1...  \n",
       "534    50626  POLYGON ((530021.3 184570.7, 530104.9 184611.8...  \n",
       "535    50761  POLYGON ((531466 183278.7, 531426.4 183325.9, ...  \n",
       "536   117408  POLYGON ((530021.3 184570.7, 530018.6 184584.8...  \n",
       "537    50667  POLYGON ((532488.1 185676.3, 532463.6 185676.3...  "
      ]
     },
     "execution_count": 154,
     "metadata": {},
     "output_type": "execute_result"
    }
   ],
   "source": [
    "islington_wards = wards.loc[wards.BOROUGH=='Islington']\n",
    "islington_wards.head()"
   ]
  },
  {
   "cell_type": "markdown",
   "metadata": {},
   "source": [
    "## Visualization:"
   ]
  },
  {
   "cell_type": "markdown",
   "metadata": {},
   "source": [
    "### View Islington wards:"
   ]
  },
  {
   "cell_type": "markdown",
   "metadata": {},
   "source": [
    "### Method 1: dataframe.plot"
   ]
  },
  {
   "cell_type": "code",
   "execution_count": 41,
   "metadata": {},
   "outputs": [
    {
     "data": {
      "text/plain": [
       "<matplotlib.axes._subplots.AxesSubplot at 0x22f2306ba58>"
      ]
     },
     "execution_count": 41,
     "metadata": {},
     "output_type": "execute_result"
    },
    {
     "data": {
      "image/png": "[encoded data removed]",
      "text/plain": [
       "<Figure size 432x288 with 1 Axes>"
      ]
     },
     "metadata": {
      "needs_background": "light"
     },
     "output_type": "display_data"
    }
   ],
   "source": [
    "%matplotlib inline\n",
    "islington_wards.plot(column='name', categorical=True)"
   ]
  },
  {
   "cell_type": "markdown",
   "metadata": {},
   "source": [
    "### Scatter plot average age vs average income:"
   ]
  },
  {
   "cell_type": "code",
   "execution_count": 42,
   "metadata": {},
   "outputs": [
    {
     "data": {
      "text/plain": [
       "<matplotlib.axes._subplots.AxesSubplot at 0x22f233f8b38>"
      ]
     },
     "execution_count": 42,
     "metadata": {},
     "output_type": "execute_result"
    },
    {
     "data": {
      "image/png": "[encoded data removed]",
      "text/plain": [
       "<Figure size 432x288 with 1 Axes>"
      ]
     },
     "metadata": {
      "needs_background": "light"
     },
     "output_type": "display_data"
    }
   ],
   "source": [
    "data.plot.scatter(x='avg_age', y='avg_yearly_income')"
   ]
  },
  {
   "cell_type": "markdown",
   "metadata": {},
   "source": [
    "## Apply K-Means clustering:"
   ]
  },
  {
   "cell_type": "code",
   "execution_count": 44,
   "metadata": {},
   "outputs": [
    {
     "data": {
      "text/html": [
       "<div>\n",
       "<style scoped>\n",
       "    .dataframe tbody tr th:only-of-type {\n",
       "        vertical-align: middle;\n",
       "    }\n",
       "\n",
       "    .dataframe tbody tr th {\n",
       "        vertical-align: top;\n",
       "    }\n",
       "\n",
       "    .dataframe thead th {\n",
       "        text-align: right;\n",
       "    }\n",
       "</style>\n",
       "<table border=\"1\" class=\"dataframe\">\n",
       "  <thead>\n",
       "    <tr style=\"text-align: right;\">\n",
       "      <th></th>\n",
       "      <th>ward_name</th>\n",
       "      <th>avg_age</th>\n",
       "      <th>avg_yearly_income</th>\n",
       "      <th>gss_code</th>\n",
       "    </tr>\n",
       "  </thead>\n",
       "  <tbody>\n",
       "    <tr>\n",
       "      <th>0</th>\n",
       "      <td>Barnsbury</td>\n",
       "      <td>35.007622</td>\n",
       "      <td>41950</td>\n",
       "      <td>E05000366</td>\n",
       "    </tr>\n",
       "    <tr>\n",
       "      <th>1</th>\n",
       "      <td>Bunhill</td>\n",
       "      <td>33.014072</td>\n",
       "      <td>36620</td>\n",
       "      <td>E05000367</td>\n",
       "    </tr>\n",
       "    <tr>\n",
       "      <th>2</th>\n",
       "      <td>Caledonian</td>\n",
       "      <td>34.258348</td>\n",
       "      <td>33450</td>\n",
       "      <td>E05000368</td>\n",
       "    </tr>\n",
       "    <tr>\n",
       "      <th>3</th>\n",
       "      <td>Canonbury</td>\n",
       "      <td>35.139579</td>\n",
       "      <td>37860</td>\n",
       "      <td>E05000369</td>\n",
       "    </tr>\n",
       "    <tr>\n",
       "      <th>4</th>\n",
       "      <td>Clerkenwell</td>\n",
       "      <td>34.849521</td>\n",
       "      <td>40470</td>\n",
       "      <td>E05000370</td>\n",
       "    </tr>\n",
       "  </tbody>\n",
       "</table>\n",
       "</div>"
      ],
      "text/plain": [
       "     ward_name    avg_age  avg_yearly_income   gss_code\n",
       "0    Barnsbury  35.007622              41950  E05000366\n",
       "1      Bunhill  33.014072              36620  E05000367\n",
       "2   Caledonian  34.258348              33450  E05000368\n",
       "3    Canonbury  35.139579              37860  E05000369\n",
       "4  Clerkenwell  34.849521              40470  E05000370"
      ]
     },
     "execution_count": 44,
     "metadata": {},
     "output_type": "execute_result"
    }
   ],
   "source": [
    "data.head()"
   ]
  },
  {
   "cell_type": "code",
   "execution_count": 51,
   "metadata": {},
   "outputs": [
    {
     "data": {
      "text/plain": [
       "array([[3.50076223e+01, 4.19500000e+04],\n",
       "       [3.30140720e+01, 3.66200000e+04],\n",
       "       [3.42583477e+01, 3.34500000e+04],\n",
       "       [3.51395792e+01, 3.78600000e+04],\n",
       "       [3.48495213e+01, 4.04700000e+04],\n",
       "       [3.35391419e+01, 3.17500000e+04],\n",
       "       [3.55030944e+01, 4.46500000e+04],\n",
       "       [3.34025948e+01, 4.07800000e+04],\n",
       "       [3.49841445e+01, 3.63700000e+04],\n",
       "       [3.34758727e+01, 3.29600000e+04],\n",
       "       [3.59030353e+01, 3.68500000e+04],\n",
       "       [3.35624371e+01, 3.67800000e+04],\n",
       "       [3.52089516e+01, 3.81700000e+04],\n",
       "       [3.58118238e+01, 4.30700000e+04],\n",
       "       [3.56458298e+01, 4.12100000e+04],\n",
       "       [3.42040418e+01, 3.54900000e+04]])"
      ]
     },
     "execution_count": 51,
     "metadata": {},
     "output_type": "execute_result"
    }
   ],
   "source": [
    "x_train = data[['avg_age', 'avg_yearly_income']].values\n",
    "x_train"
   ]
  },
  {
   "cell_type": "code",
   "execution_count": 97,
   "metadata": {},
   "outputs": [
    {
     "data": {
      "text/plain": [
       "KMeans(algorithm='auto', copy_x=True, init='k-means++', max_iter=300,\n",
       "    n_clusters=6, n_init=10, n_jobs=None, precompute_distances='auto',\n",
       "    random_state=None, tol=0.0001, verbose=0)"
      ]
     },
     "execution_count": 97,
     "metadata": {},
     "output_type": "execute_result"
    }
   ],
   "source": [
    "model = KMeans(n_clusters=6)\n",
    "model.fit(scale(x_train))"
   ]
  },
  {
   "cell_type": "code",
   "execution_count": 98,
   "metadata": {},
   "outputs": [
    {
     "data": {
      "text/html": [
       "<div>\n",
       "<style scoped>\n",
       "    .dataframe tbody tr th:only-of-type {\n",
       "        vertical-align: middle;\n",
       "    }\n",
       "\n",
       "    .dataframe tbody tr th {\n",
       "        vertical-align: top;\n",
       "    }\n",
       "\n",
       "    .dataframe thead th {\n",
       "        text-align: right;\n",
       "    }\n",
       "</style>\n",
       "<table border=\"1\" class=\"dataframe\">\n",
       "  <thead>\n",
       "    <tr style=\"text-align: right;\">\n",
       "      <th></th>\n",
       "      <th>ward_name</th>\n",
       "      <th>avg_age</th>\n",
       "      <th>avg_yearly_income</th>\n",
       "      <th>gss_code</th>\n",
       "      <th>cluster</th>\n",
       "    </tr>\n",
       "  </thead>\n",
       "  <tbody>\n",
       "    <tr>\n",
       "      <th>0</th>\n",
       "      <td>Barnsbury</td>\n",
       "      <td>35.007622</td>\n",
       "      <td>41950</td>\n",
       "      <td>E05000366</td>\n",
       "      <td>5.0</td>\n",
       "    </tr>\n",
       "    <tr>\n",
       "      <th>1</th>\n",
       "      <td>Bunhill</td>\n",
       "      <td>33.014072</td>\n",
       "      <td>36620</td>\n",
       "      <td>E05000367</td>\n",
       "      <td>4.0</td>\n",
       "    </tr>\n",
       "    <tr>\n",
       "      <th>2</th>\n",
       "      <td>Caledonian</td>\n",
       "      <td>34.258348</td>\n",
       "      <td>33450</td>\n",
       "      <td>E05000368</td>\n",
       "      <td>0.0</td>\n",
       "    </tr>\n",
       "    <tr>\n",
       "      <th>3</th>\n",
       "      <td>Canonbury</td>\n",
       "      <td>35.139579</td>\n",
       "      <td>37860</td>\n",
       "      <td>E05000369</td>\n",
       "      <td>2.0</td>\n",
       "    </tr>\n",
       "    <tr>\n",
       "      <th>4</th>\n",
       "      <td>Clerkenwell</td>\n",
       "      <td>34.849521</td>\n",
       "      <td>40470</td>\n",
       "      <td>E05000370</td>\n",
       "      <td>5.0</td>\n",
       "    </tr>\n",
       "    <tr>\n",
       "      <th>5</th>\n",
       "      <td>Finsbury Park</td>\n",
       "      <td>33.539142</td>\n",
       "      <td>31750</td>\n",
       "      <td>E05000371</td>\n",
       "      <td>0.0</td>\n",
       "    </tr>\n",
       "    <tr>\n",
       "      <th>6</th>\n",
       "      <td>Highbury East</td>\n",
       "      <td>35.503094</td>\n",
       "      <td>44650</td>\n",
       "      <td>E05000372</td>\n",
       "      <td>1.0</td>\n",
       "    </tr>\n",
       "    <tr>\n",
       "      <th>7</th>\n",
       "      <td>Highbury West</td>\n",
       "      <td>33.402595</td>\n",
       "      <td>40780</td>\n",
       "      <td>E05000373</td>\n",
       "      <td>3.0</td>\n",
       "    </tr>\n",
       "    <tr>\n",
       "      <th>8</th>\n",
       "      <td>Hillrise</td>\n",
       "      <td>34.984144</td>\n",
       "      <td>36370</td>\n",
       "      <td>E05000374</td>\n",
       "      <td>2.0</td>\n",
       "    </tr>\n",
       "    <tr>\n",
       "      <th>9</th>\n",
       "      <td>Holloway</td>\n",
       "      <td>33.475873</td>\n",
       "      <td>32960</td>\n",
       "      <td>E05000375</td>\n",
       "      <td>0.0</td>\n",
       "    </tr>\n",
       "    <tr>\n",
       "      <th>10</th>\n",
       "      <td>Junction</td>\n",
       "      <td>35.903035</td>\n",
       "      <td>36850</td>\n",
       "      <td>E05000376</td>\n",
       "      <td>2.0</td>\n",
       "    </tr>\n",
       "    <tr>\n",
       "      <th>11</th>\n",
       "      <td>Mildmay</td>\n",
       "      <td>33.562437</td>\n",
       "      <td>36780</td>\n",
       "      <td>E05000377</td>\n",
       "      <td>4.0</td>\n",
       "    </tr>\n",
       "    <tr>\n",
       "      <th>12</th>\n",
       "      <td>St George's</td>\n",
       "      <td>35.208952</td>\n",
       "      <td>38170</td>\n",
       "      <td>E05000378</td>\n",
       "      <td>2.0</td>\n",
       "    </tr>\n",
       "    <tr>\n",
       "      <th>13</th>\n",
       "      <td>St Mary's</td>\n",
       "      <td>35.811824</td>\n",
       "      <td>43070</td>\n",
       "      <td>E05000379</td>\n",
       "      <td>1.0</td>\n",
       "    </tr>\n",
       "    <tr>\n",
       "      <th>14</th>\n",
       "      <td>St Peter's</td>\n",
       "      <td>35.645830</td>\n",
       "      <td>41210</td>\n",
       "      <td>E05000380</td>\n",
       "      <td>1.0</td>\n",
       "    </tr>\n",
       "    <tr>\n",
       "      <th>15</th>\n",
       "      <td>Tollington</td>\n",
       "      <td>34.204042</td>\n",
       "      <td>35490</td>\n",
       "      <td>E05000381</td>\n",
       "      <td>0.0</td>\n",
       "    </tr>\n",
       "  </tbody>\n",
       "</table>\n",
       "</div>"
      ],
      "text/plain": [
       "        ward_name    avg_age  avg_yearly_income   gss_code  cluster\n",
       "0       Barnsbury  35.007622              41950  E05000366      5.0\n",
       "1         Bunhill  33.014072              36620  E05000367      4.0\n",
       "2      Caledonian  34.258348              33450  E05000368      0.0\n",
       "3       Canonbury  35.139579              37860  E05000369      2.0\n",
       "4     Clerkenwell  34.849521              40470  E05000370      5.0\n",
       "5   Finsbury Park  33.539142              31750  E05000371      0.0\n",
       "6   Highbury East  35.503094              44650  E05000372      1.0\n",
       "7   Highbury West  33.402595              40780  E05000373      3.0\n",
       "8        Hillrise  34.984144              36370  E05000374      2.0\n",
       "9        Holloway  33.475873              32960  E05000375      0.0\n",
       "10       Junction  35.903035              36850  E05000376      2.0\n",
       "11        Mildmay  33.562437              36780  E05000377      4.0\n",
       "12    St George's  35.208952              38170  E05000378      2.0\n",
       "13      St Mary's  35.811824              43070  E05000379      1.0\n",
       "14     St Peter's  35.645830              41210  E05000380      1.0\n",
       "15     Tollington  34.204042              35490  E05000381      0.0"
      ]
     },
     "execution_count": 98,
     "metadata": {},
     "output_type": "execute_result"
    }
   ],
   "source": [
    "data['cluster'] = model.labels_.astype(np.float64)\n",
    "data"
   ]
  },
  {
   "cell_type": "code",
   "execution_count": 99,
   "metadata": {},
   "outputs": [
    {
     "data": {
      "text/plain": [
       "array([5, 4, 0, 2, 5, 0, 1, 3, 2, 0, 2, 4, 2, 1, 1, 0])"
      ]
     },
     "execution_count": 99,
     "metadata": {},
     "output_type": "execute_result"
    }
   ],
   "source": [
    "model.labels_"
   ]
  },
  {
   "cell_type": "markdown",
   "metadata": {},
   "source": [
    "## Visualize clusters:"
   ]
  },
  {
   "cell_type": "markdown",
   "metadata": {},
   "source": [
    "### Method 1: dataframe.plot.scatter"
   ]
  },
  {
   "cell_type": "code",
   "execution_count": 100,
   "metadata": {},
   "outputs": [
    {
     "data": {
      "text/plain": [
       "<matplotlib.axes._subplots.AxesSubplot at 0x22f270e5208>"
      ]
     },
     "execution_count": 100,
     "metadata": {},
     "output_type": "execute_result"
    },
    {
     "data": {
      "image/png": "[encoded data removed]",
      "text/plain": [
       "<Figure size 432x288 with 2 Axes>"
      ]
     },
     "metadata": {
      "needs_background": "light"
     },
     "output_type": "display_data"
    }
   ],
   "source": [
    "data.plot.scatter(x='avg_age', y='avg_yearly_income', c='cluster', marker='o', colormap='tab20')"
   ]
  },
  {
   "cell_type": "markdown",
   "metadata": {},
   "source": [
    "### Method 2: matplotlib.pyplot"
   ]
  },
  {
   "cell_type": "code",
   "execution_count": 101,
   "metadata": {},
   "outputs": [
    {
     "name": "stdout",
     "output_type": "stream",
     "text": [
      "--- 0.0 ----\n",
      "        ward_name    avg_age  avg_yearly_income   gss_code  cluster\n",
      "2      Caledonian  34.258348              33450  E05000368      0.0\n",
      "5   Finsbury Park  33.539142              31750  E05000371      0.0\n",
      "9        Holloway  33.475873              32960  E05000375      0.0\n",
      "15     Tollington  34.204042              35490  E05000381      0.0\n",
      "--- 1.0 ----\n",
      "        ward_name    avg_age  avg_yearly_income   gss_code  cluster\n",
      "6   Highbury East  35.503094              44650  E05000372      1.0\n",
      "13      St Mary's  35.811824              43070  E05000379      1.0\n",
      "14     St Peter's  35.645830              41210  E05000380      1.0\n",
      "--- 2.0 ----\n",
      "      ward_name    avg_age  avg_yearly_income   gss_code  cluster\n",
      "3     Canonbury  35.139579              37860  E05000369      2.0\n",
      "8      Hillrise  34.984144              36370  E05000374      2.0\n",
      "10     Junction  35.903035              36850  E05000376      2.0\n",
      "12  St George's  35.208952              38170  E05000378      2.0\n",
      "--- 3.0 ----\n",
      "       ward_name    avg_age  avg_yearly_income   gss_code  cluster\n",
      "7  Highbury West  33.402595              40780  E05000373      3.0\n",
      "--- 4.0 ----\n",
      "   ward_name    avg_age  avg_yearly_income   gss_code  cluster\n",
      "1    Bunhill  33.014072              36620  E05000367      4.0\n",
      "11   Mildmay  33.562437              36780  E05000377      4.0\n",
      "--- 5.0 ----\n",
      "     ward_name    avg_age  avg_yearly_income   gss_code  cluster\n",
      "0    Barnsbury  35.007622              41950  E05000366      5.0\n",
      "4  Clerkenwell  34.849521              40470  E05000370      5.0\n"
     ]
    },
    {
     "data": {
      "text/plain": [
       "<matplotlib.legend.Legend at 0x22f271cb630>"
      ]
     },
     "execution_count": 101,
     "metadata": {},
     "output_type": "execute_result"
    },
    {
     "data": {
      "image/png": "[encoded data removed]",
      "text/plain": [
       "<Figure size 432x288 with 1 Axes>"
      ]
     },
     "metadata": {
      "needs_background": "light"
     },
     "output_type": "display_data"
    }
   ],
   "source": [
    "groups = data.groupby('cluster')\n",
    "\n",
    "fig, ax = plt.subplots()\n",
    "for name, group in groups:\n",
    "    print('--- {} ----'.format(name))\n",
    "    print(group)\n",
    "    ax.plot(group.avg_age, group.avg_yearly_income, marker='o', linestyle='', label=name)\n",
    "plt.xlabel('avg age')\n",
    "plt.ylabel('avg income')\n",
    "plt.legend()"
   ]
  },
  {
   "cell_type": "markdown",
   "metadata": {},
   "source": [
    "### Method 3: bokeh"
   ]
  },
  {
   "cell_type": "markdown",
   "metadata": {},
   "source": [
    "#### Merge cluster information with Islington wards geo data:"
   ]
  },
  {
   "cell_type": "code",
   "execution_count": 153,
   "metadata": {
    "scrolled": true
   },
   "outputs": [
    {
     "data": {
      "text/html": [
       "<div>\n",
       "<style scoped>\n",
       "    .dataframe tbody tr th:only-of-type {\n",
       "        vertical-align: middle;\n",
       "    }\n",
       "\n",
       "    .dataframe tbody tr th {\n",
       "        vertical-align: top;\n",
       "    }\n",
       "\n",
       "    .dataframe thead th {\n",
       "        text-align: right;\n",
       "    }\n",
       "</style>\n",
       "<table border=\"1\" class=\"dataframe\">\n",
       "  <thead>\n",
       "    <tr style=\"text-align: right;\">\n",
       "      <th></th>\n",
       "      <th>name</th>\n",
       "      <th>gss_code</th>\n",
       "      <th>HECTARES</th>\n",
       "      <th>NONLD_AREA</th>\n",
       "      <th>LB_GSS_CD</th>\n",
       "      <th>BOROUGH</th>\n",
       "      <th>POLY_ID</th>\n",
       "      <th>geometry</th>\n",
       "      <th>ward_name</th>\n",
       "      <th>avg_age</th>\n",
       "      <th>avg_yearly_income</th>\n",
       "      <th>cluster</th>\n",
       "    </tr>\n",
       "  </thead>\n",
       "  <tbody>\n",
       "    <tr>\n",
       "      <th>10</th>\n",
       "      <td>Barnsbury</td>\n",
       "      <td>E05000366</td>\n",
       "      <td>83.012</td>\n",
       "      <td>0.0</td>\n",
       "      <td>E09000019</td>\n",
       "      <td>Islington</td>\n",
       "      <td>50763</td>\n",
       "      <td>POLYGON ((531095.6 184534.6, 531190.5 184574.6...</td>\n",
       "      <td>Barnsbury</td>\n",
       "      <td>35.007622</td>\n",
       "      <td>41950</td>\n",
       "      <td>5.0</td>\n",
       "    </tr>\n",
       "    <tr>\n",
       "      <th>7</th>\n",
       "      <td>Bunhill</td>\n",
       "      <td>E05000367</td>\n",
       "      <td>108.263</td>\n",
       "      <td>0.0</td>\n",
       "      <td>E09000019</td>\n",
       "      <td>Islington</td>\n",
       "      <td>50812</td>\n",
       "      <td>POLYGON ((531450.3 183142.9, 531450.3 183151.8...</td>\n",
       "      <td>Bunhill</td>\n",
       "      <td>33.014072</td>\n",
       "      <td>36620</td>\n",
       "      <td>4.0</td>\n",
       "    </tr>\n",
       "    <tr>\n",
       "      <th>1</th>\n",
       "      <td>Caledonian</td>\n",
       "      <td>E05000368</td>\n",
       "      <td>113.611</td>\n",
       "      <td>0.0</td>\n",
       "      <td>E09000019</td>\n",
       "      <td>Islington</td>\n",
       "      <td>50626</td>\n",
       "      <td>POLYGON ((530021.3 184570.7, 530104.9 184611.8...</td>\n",
       "      <td>Caledonian</td>\n",
       "      <td>34.258348</td>\n",
       "      <td>33450</td>\n",
       "      <td>0.0</td>\n",
       "    </tr>\n",
       "    <tr>\n",
       "      <th>9</th>\n",
       "      <td>Canonbury</td>\n",
       "      <td>E05000369</td>\n",
       "      <td>80.720</td>\n",
       "      <td>0.0</td>\n",
       "      <td>E09000019</td>\n",
       "      <td>Islington</td>\n",
       "      <td>117407</td>\n",
       "      <td>POLYGON ((532148.1 184131.4, 532144.7 184134.1...</td>\n",
       "      <td>Canonbury</td>\n",
       "      <td>35.139579</td>\n",
       "      <td>37860</td>\n",
       "      <td>2.0</td>\n",
       "    </tr>\n",
       "    <tr>\n",
       "      <th>0</th>\n",
       "      <td>Clerkenwell</td>\n",
       "      <td>E05000370</td>\n",
       "      <td>93.263</td>\n",
       "      <td>0.0</td>\n",
       "      <td>E09000019</td>\n",
       "      <td>Islington</td>\n",
       "      <td>50755</td>\n",
       "      <td>POLYGON ((530916.9 182418.9, 530951.8 182460.1...</td>\n",
       "      <td>Clerkenwell</td>\n",
       "      <td>34.849521</td>\n",
       "      <td>40470</td>\n",
       "      <td>5.0</td>\n",
       "    </tr>\n",
       "  </tbody>\n",
       "</table>\n",
       "</div>"
      ],
      "text/plain": [
       "           name   gss_code  HECTARES  NONLD_AREA  LB_GSS_CD    BOROUGH  \\\n",
       "10    Barnsbury  E05000366    83.012         0.0  E09000019  Islington   \n",
       "7       Bunhill  E05000367   108.263         0.0  E09000019  Islington   \n",
       "1    Caledonian  E05000368   113.611         0.0  E09000019  Islington   \n",
       "9     Canonbury  E05000369    80.720         0.0  E09000019  Islington   \n",
       "0   Clerkenwell  E05000370    93.263         0.0  E09000019  Islington   \n",
       "\n",
       "    POLY_ID                                           geometry    ward_name  \\\n",
       "10    50763  POLYGON ((531095.6 184534.6, 531190.5 184574.6...    Barnsbury   \n",
       "7     50812  POLYGON ((531450.3 183142.9, 531450.3 183151.8...      Bunhill   \n",
       "1     50626  POLYGON ((530021.3 184570.7, 530104.9 184611.8...   Caledonian   \n",
       "9    117407  POLYGON ((532148.1 184131.4, 532144.7 184134.1...    Canonbury   \n",
       "0     50755  POLYGON ((530916.9 182418.9, 530951.8 182460.1...  Clerkenwell   \n",
       "\n",
       "      avg_age  avg_yearly_income cluster  \n",
       "10  35.007622              41950     5.0  \n",
       "7   33.014072              36620     4.0  \n",
       "1   34.258348              33450     0.0  \n",
       "9   35.139579              37860     2.0  \n",
       "0   34.849521              40470     5.0  "
      ]
     },
     "execution_count": 153,
     "metadata": {},
     "output_type": "execute_result"
    }
   ],
   "source": [
    "islington_wards_ext = islington_wards.merge(data, left_on='gss_code', right_on='gss_code')\n",
    "islington_wards_ext['cluster'] = islington_wards_ext['cluster'].astype(str)\n",
    "islington_wards_ext.sort_values(by='name').head()"
   ]
  },
  {
   "cell_type": "markdown",
   "metadata": {},
   "source": [
    "#### Draw figure with Bokeh:"
   ]
  },
  {
   "cell_type": "code",
   "execution_count": 155,
   "metadata": {
    "scrolled": false
   },
   "outputs": [
    {
     "data": {
      "text/html": [
       "\n",
       "\n",
       "\n",
       "\n",
       "\n",
       "\n",
       "  <div class=\"bk-root\" id=\"473cbbad-b83a-453c-ba52-7f53f0e4a44e\" data-root-id=\"4643\"></div>\n"
      ]
     },
     "metadata": {},
     "output_type": "display_data"
    },
    {
     "data": {
      "application/javascript": [
       "(function(root) {\n",
       "  function embed_document(root) {\n",
       "    \n",
       "  var docs_json = {\"8b78d511-665d-43da-9d53-9ffe0088c3bc\":{\"roots\":{\"references\":[{\"attributes\":{\"below\":[{\"id\":\"4653\",\"type\":\"LinearAxis\"}],\"left\":[{\"id\":\"4658\",\"type\":\"LinearAxis\"}],\"renderers\":[{\"id\":\"4653\",\"type\":\"LinearAxis\"},{\"id\":\"4657\",\"type\":\"Grid\"},{\"id\":\"4658\",\"type\":\"LinearAxis\"},{\"id\":\"4662\",\"type\":\"Grid\"},{\"id\":\"4671\",\"type\":\"BoxAnnotation\"},{\"id\":\"4681\",\"type\":\"GlyphRenderer\"},{\"id\":\"4698\",\"type\":\"Legend\"},{\"id\":\"4688\",\"type\":\"GlyphRenderer\"},{\"id\":\"4703\",\"type\":\"GlyphRenderer\"},{\"id\":\"4719\",\"type\":\"GlyphRenderer\"},{\"id\":\"4737\",\"type\":\"GlyphRenderer\"},{\"id\":\"4757\",\"type\":\"GlyphRenderer\"},{\"id\":\"4779\",\"type\":\"GlyphRenderer\"}],\"title\":{\"id\":\"4642\",\"type\":\"Title\"},\"toolbar\":{\"id\":\"4669\",\"type\":\"Toolbar\"},\"toolbar_location\":null,\"x_range\":{\"id\":\"4645\",\"type\":\"DataRange1d\"},\"x_scale\":{\"id\":\"4649\",\"type\":\"LinearScale\"},\"y_range\":{\"id\":\"4647\",\"type\":\"DataRange1d\"},\"y_scale\":{\"id\":\"4651\",\"type\":\"LinearScale\"}},\"id\":\"4643\",\"subtype\":\"Figure\",\"type\":\"Plot\"},{\"attributes\":{\"callback\":null},\"id\":\"4647\",\"type\":\"DataRange1d\"},{\"attributes\":{\"callback\":null,\"data\":{\"x\":[],\"y\":[]},\"selected\":{\"id\":\"4773\",\"type\":\"Selection\"},\"selection_policy\":{\"id\":\"4774\",\"type\":\"UnionRenderers\"}},\"id\":\"4734\",\"type\":\"ColumnDataSource\"},{\"attributes\":{\"plot\":{\"id\":\"4643\",\"subtype\":\"Figure\",\"type\":\"Plot\"},\"ticker\":{\"id\":\"4654\",\"type\":\"BasicTicker\"},\"visible\":false},\"id\":\"4657\",\"type\":\"Grid\"},{\"attributes\":{\"data_source\":{\"id\":\"4700\",\"type\":\"ColumnDataSource\"},\"glyph\":{\"id\":\"4701\",\"type\":\"Circle\"},\"hover_glyph\":null,\"muted_glyph\":null,\"nonselection_glyph\":{\"id\":\"4702\",\"type\":\"Circle\"},\"selection_glyph\":null,\"view\":{\"id\":\"4704\",\"type\":\"CDSView\"}},\"id\":\"4703\",\"type\":\"GlyphRenderer\"},{\"attributes\":{\"fill_color\":{\"value\":\"#b2182b\"},\"line_color\":{\"value\":\"#1f77b4\"},\"x\":{\"field\":\"x\"},\"y\":{\"field\":\"y\"}},\"id\":\"4777\",\"type\":\"Circle\"},{\"attributes\":{},\"id\":\"4983\",\"type\":\"UnionRenderers\"},{\"attributes\":{\"fill_alpha\":{\"value\":0.1},\"fill_color\":{\"value\":\"#1f77b4\"},\"line_alpha\":{\"value\":0.1},\"line_color\":{\"value\":\"#1f77b4\"},\"x\":{\"field\":\"x\"},\"y\":{\"field\":\"y\"}},\"id\":\"4736\",\"type\":\"Circle\"},{\"attributes\":{\"items\":[{\"id\":\"4699\",\"type\":\"LegendItem\"},{\"id\":\"4715\",\"type\":\"LegendItem\"},{\"id\":\"4733\",\"type\":\"LegendItem\"},{\"id\":\"4753\",\"type\":\"LegendItem\"},{\"id\":\"4775\",\"type\":\"LegendItem\"},{\"id\":\"4799\",\"type\":\"LegendItem\"}],\"plot\":{\"id\":\"4643\",\"subtype\":\"Figure\",\"type\":\"Plot\"}},\"id\":\"4698\",\"type\":\"Legend\"},{\"attributes\":{},\"id\":\"4664\",\"type\":\"WheelZoomTool\"},{\"attributes\":{\"source\":{\"id\":\"4685\",\"type\":\"ColumnDataSource\"}},\"id\":\"4689\",\"type\":\"CDSView\"},{\"attributes\":{\"source\":{\"id\":\"4776\",\"type\":\"ColumnDataSource\"}},\"id\":\"4780\",\"type\":\"CDSView\"},{\"attributes\":{},\"id\":\"4713\",\"type\":\"Selection\"},{\"attributes\":{\"label\":{\"value\":\"1.0\"},\"renderers\":[{\"id\":\"4719\",\"type\":\"GlyphRenderer\"}]},\"id\":\"4733\",\"type\":\"LegendItem\"},{\"attributes\":{},\"id\":\"4752\",\"type\":\"UnionRenderers\"},{\"attributes\":{},\"id\":\"4666\",\"type\":\"SaveTool\"},{\"attributes\":{\"callback\":null,\"data\":{\"x\":[],\"y\":[]},\"selected\":{\"id\":\"4982\",\"type\":\"Selection\"},\"selection_policy\":{\"id\":\"4983\",\"type\":\"UnionRenderers\"}},\"id\":\"4776\",\"type\":\"ColumnDataSource\"},{\"attributes\":{\"data_source\":{\"id\":\"4776\",\"type\":\"ColumnDataSource\"},\"glyph\":{\"id\":\"4777\",\"type\":\"Circle\"},\"hover_glyph\":null,\"muted_glyph\":null,\"nonselection_glyph\":{\"id\":\"4778\",\"type\":\"Circle\"},\"selection_glyph\":null,\"view\":{\"id\":\"4780\",\"type\":\"CDSView\"}},\"id\":\"4779\",\"type\":\"GlyphRenderer\"},{\"attributes\":{\"callback\":null,\"data\":{\"x\":[],\"y\":[]},\"selected\":{\"id\":\"4713\",\"type\":\"Selection\"},\"selection_policy\":{\"id\":\"4714\",\"type\":\"UnionRenderers\"}},\"id\":\"4685\",\"type\":\"ColumnDataSource\"},{\"attributes\":{\"label\":{\"value\":\"5.0\"},\"renderers\":[{\"id\":\"4688\",\"type\":\"GlyphRenderer\"}]},\"id\":\"4699\",\"type\":\"LegendItem\"},{\"attributes\":{\"callback\":null},\"id\":\"4645\",\"type\":\"DataRange1d\"},{\"attributes\":{},\"id\":\"4751\",\"type\":\"Selection\"},{\"attributes\":{},\"id\":\"4663\",\"type\":\"PanTool\"},{\"attributes\":{},\"id\":\"4732\",\"type\":\"UnionRenderers\"},{\"attributes\":{},\"id\":\"4651\",\"type\":\"LinearScale\"},{\"attributes\":{\"fill_color\":{\"value\":\"#fddbc7\"},\"line_color\":{\"value\":\"#1f77b4\"},\"x\":{\"field\":\"x\"},\"y\":{\"field\":\"y\"}},\"id\":\"4735\",\"type\":\"Circle\"},{\"attributes\":{},\"id\":\"4692\",\"type\":\"BasicTickFormatter\"},{\"attributes\":{\"label\":{\"value\":\"4.0\"},\"renderers\":[{\"id\":\"4757\",\"type\":\"GlyphRenderer\"}]},\"id\":\"4775\",\"type\":\"LegendItem\"},{\"attributes\":{\"fill_alpha\":{\"value\":0.1},\"fill_color\":{\"value\":\"#1f77b4\"},\"line_alpha\":{\"value\":0.1},\"line_color\":{\"value\":\"#1f77b4\"},\"x\":{\"field\":\"x\"},\"y\":{\"field\":\"y\"}},\"id\":\"4687\",\"type\":\"Circle\"},{\"attributes\":{},\"id\":\"4982\",\"type\":\"Selection\"},{\"attributes\":{},\"id\":\"4659\",\"type\":\"BasicTicker\"},{\"attributes\":{\"fill_alpha\":{\"value\":0.1},\"fill_color\":{\"value\":\"#1f77b4\"},\"line_alpha\":{\"value\":0.1},\"line_color\":{\"value\":\"#1f77b4\"},\"x\":{\"field\":\"x\"},\"y\":{\"field\":\"y\"}},\"id\":\"4718\",\"type\":\"Circle\"},{\"attributes\":{\"fill_color\":{\"value\":\"#ef8a62\"},\"line_color\":{\"value\":\"#1f77b4\"},\"x\":{\"field\":\"x\"},\"y\":{\"field\":\"y\"}},\"id\":\"4755\",\"type\":\"Circle\"},{\"attributes\":{\"source\":{\"id\":\"4700\",\"type\":\"ColumnDataSource\"}},\"id\":\"4704\",\"type\":\"CDSView\"},{\"attributes\":{},\"id\":\"4714\",\"type\":\"UnionRenderers\"},{\"attributes\":{},\"id\":\"4697\",\"type\":\"UnionRenderers\"},{\"attributes\":{\"fill_alpha\":{\"value\":0.1},\"fill_color\":{\"value\":\"#1f77b4\"},\"line_alpha\":{\"value\":0.1},\"line_color\":{\"value\":\"#1f77b4\"},\"x\":{\"field\":\"x\"},\"y\":{\"field\":\"y\"}},\"id\":\"4756\",\"type\":\"Circle\"},{\"attributes\":{\"plot\":null,\"text\":\"Islington Wards Clustering by Avg Age & Avg Income\"},\"id\":\"4642\",\"type\":\"Title\"},{\"attributes\":{\"formatter\":{\"id\":\"4694\",\"type\":\"BasicTickFormatter\"},\"plot\":{\"id\":\"4643\",\"subtype\":\"Figure\",\"type\":\"Plot\"},\"ticker\":{\"id\":\"4654\",\"type\":\"BasicTicker\"},\"visible\":false},\"id\":\"4653\",\"type\":\"LinearAxis\"},{\"attributes\":{\"fill_color\":{\"value\":\"#d1e5f0\"},\"line_color\":{\"value\":\"#1f77b4\"},\"x\":{\"field\":\"x\"},\"y\":{\"field\":\"y\"}},\"id\":\"4717\",\"type\":\"Circle\"},{\"attributes\":{\"callback\":null,\"data\":{\"x\":[],\"y\":[]},\"selected\":{\"id\":\"4751\",\"type\":\"Selection\"},\"selection_policy\":{\"id\":\"4752\",\"type\":\"UnionRenderers\"}},\"id\":\"4716\",\"type\":\"ColumnDataSource\"},{\"attributes\":{\"fill_alpha\":{\"value\":0.1},\"fill_color\":{\"value\":\"#1f77b4\"},\"line_alpha\":{\"value\":0.1},\"line_color\":{\"value\":\"#1f77b4\"},\"x\":{\"field\":\"x\"},\"y\":{\"field\":\"y\"}},\"id\":\"4702\",\"type\":\"Circle\"},{\"attributes\":{},\"id\":\"4797\",\"type\":\"Selection\"},{\"attributes\":{},\"id\":\"4668\",\"type\":\"HelpTool\"},{\"attributes\":{\"overlay\":{\"id\":\"4671\",\"type\":\"BoxAnnotation\"}},\"id\":\"4665\",\"type\":\"BoxZoomTool\"},{\"attributes\":{\"factors\":[\"5.0\",\"0.0\",\"1.0\",\"3.0\",\"4.0\",\"2.0\"],\"palette\":[\"#2166ac\",\"#67a9cf\",\"#d1e5f0\",\"#fddbc7\",\"#ef8a62\",\"#b2182b\"]},\"id\":\"4641\",\"type\":\"CategoricalColorMapper\"},{\"attributes\":{\"label\":{\"value\":\"3.0\"},\"renderers\":[{\"id\":\"4737\",\"type\":\"GlyphRenderer\"}]},\"id\":\"4753\",\"type\":\"LegendItem\"},{\"attributes\":{\"label\":{\"value\":\"2.0\"},\"renderers\":[{\"id\":\"4779\",\"type\":\"GlyphRenderer\"}]},\"id\":\"4799\",\"type\":\"LegendItem\"},{\"attributes\":{\"dimension\":1,\"plot\":{\"id\":\"4643\",\"subtype\":\"Figure\",\"type\":\"Plot\"},\"ticker\":{\"id\":\"4659\",\"type\":\"BasicTicker\"},\"visible\":false},\"id\":\"4662\",\"type\":\"Grid\"},{\"attributes\":{\"callback\":null,\"data\":{\"x\":[],\"y\":[]},\"selected\":{\"id\":\"4731\",\"type\":\"Selection\"},\"selection_policy\":{\"id\":\"4732\",\"type\":\"UnionRenderers\"}},\"id\":\"4700\",\"type\":\"ColumnDataSource\"},{\"attributes\":{\"fill_alpha\":{\"value\":0.1},\"fill_color\":{\"value\":\"#1f77b4\"},\"line_alpha\":{\"value\":0.1},\"line_color\":{\"value\":\"#1f77b4\"},\"xs\":{\"field\":\"xs\"},\"ys\":{\"field\":\"ys\"}},\"id\":\"4680\",\"type\":\"Patches\"},{\"attributes\":{\"callback\":null,\"data\":{\"x\":[],\"y\":[]},\"selected\":{\"id\":\"4797\",\"type\":\"Selection\"},\"selection_policy\":{\"id\":\"4798\",\"type\":\"UnionRenderers\"}},\"id\":\"4754\",\"type\":\"ColumnDataSource\"},{\"attributes\":{\"source\":{\"id\":\"4716\",\"type\":\"ColumnDataSource\"}},\"id\":\"4720\",\"type\":\"CDSView\"},{\"attributes\":{\"data_source\":{\"id\":\"4754\",\"type\":\"ColumnDataSource\"},\"glyph\":{\"id\":\"4755\",\"type\":\"Circle\"},\"hover_glyph\":null,\"muted_glyph\":null,\"nonselection_glyph\":{\"id\":\"4756\",\"type\":\"Circle\"},\"selection_glyph\":null,\"view\":{\"id\":\"4758\",\"type\":\"CDSView\"}},\"id\":\"4757\",\"type\":\"GlyphRenderer\"},{\"attributes\":{},\"id\":\"4667\",\"type\":\"ResetTool\"},{\"attributes\":{},\"id\":\"4654\",\"type\":\"BasicTicker\"},{\"attributes\":{\"bottom_units\":\"screen\",\"fill_alpha\":{\"value\":0.5},\"fill_color\":{\"value\":\"lightgrey\"},\"left_units\":\"screen\",\"level\":\"overlay\",\"line_alpha\":{\"value\":1.0},\"line_color\":{\"value\":\"black\"},\"line_dash\":[4,4],\"line_width\":{\"value\":2},\"plot\":null,\"render_mode\":\"css\",\"right_units\":\"screen\",\"top_units\":\"screen\"},\"id\":\"4671\",\"type\":\"BoxAnnotation\"},{\"attributes\":{\"fill_alpha\":{\"value\":0.1},\"fill_color\":{\"value\":\"#1f77b4\"},\"line_alpha\":{\"value\":0.1},\"line_color\":{\"value\":\"#1f77b4\"},\"x\":{\"field\":\"x\"},\"y\":{\"field\":\"y\"}},\"id\":\"4778\",\"type\":\"Circle\"},{\"attributes\":{\"source\":{\"id\":\"4734\",\"type\":\"ColumnDataSource\"}},\"id\":\"4738\",\"type\":\"CDSView\"},{\"attributes\":{\"source\":{\"id\":\"4754\",\"type\":\"ColumnDataSource\"}},\"id\":\"4758\",\"type\":\"CDSView\"},{\"attributes\":{\"fill_color\":{\"value\":\"#2166ac\"},\"line_color\":{\"value\":\"#1f77b4\"},\"x\":{\"field\":\"x\"},\"y\":{\"field\":\"y\"}},\"id\":\"4686\",\"type\":\"Circle\"},{\"attributes\":{\"data_source\":{\"id\":\"4685\",\"type\":\"ColumnDataSource\"},\"glyph\":{\"id\":\"4686\",\"type\":\"Circle\"},\"hover_glyph\":null,\"muted_glyph\":null,\"nonselection_glyph\":{\"id\":\"4687\",\"type\":\"Circle\"},\"selection_glyph\":null,\"view\":{\"id\":\"4689\",\"type\":\"CDSView\"}},\"id\":\"4688\",\"type\":\"GlyphRenderer\"},{\"attributes\":{},\"id\":\"4696\",\"type\":\"Selection\"},{\"attributes\":{\"fill_color\":{\"value\":\"#67a9cf\"},\"line_color\":{\"value\":\"#1f77b4\"},\"x\":{\"field\":\"x\"},\"y\":{\"field\":\"y\"}},\"id\":\"4701\",\"type\":\"Circle\"},{\"attributes\":{},\"id\":\"4798\",\"type\":\"UnionRenderers\"},{\"attributes\":{\"label\":{\"value\":\"0.0\"},\"renderers\":[{\"id\":\"4703\",\"type\":\"GlyphRenderer\"}]},\"id\":\"4715\",\"type\":\"LegendItem\"},{\"attributes\":{},\"id\":\"4774\",\"type\":\"UnionRenderers\"},{\"attributes\":{\"data_source\":{\"id\":\"4734\",\"type\":\"ColumnDataSource\"},\"glyph\":{\"id\":\"4735\",\"type\":\"Circle\"},\"hover_glyph\":null,\"muted_glyph\":null,\"nonselection_glyph\":{\"id\":\"4736\",\"type\":\"Circle\"},\"selection_glyph\":null,\"view\":{\"id\":\"4738\",\"type\":\"CDSView\"}},\"id\":\"4737\",\"type\":\"GlyphRenderer\"},{\"attributes\":{\"callback\":null,\"geojson\":\"{\\\"type\\\": \\\"FeatureCollection\\\", \\\"features\\\": [{\\\"id\\\": \\\"0\\\", \\\"type\\\": \\\"Feature\\\", \\\"properties\\\": {\\\"name\\\": \\\"Clerkenwell\\\", \\\"gss_code\\\": \\\"E05000370\\\", \\\"HECTARES\\\": 93.263, \\\"NONLD_AREA\\\": 0.0, \\\"LB_GSS_CD\\\": \\\"E09000019\\\", \\\"BOROUGH\\\": \\\"Islington\\\", \\\"POLY_ID\\\": 50755, \\\"ward_name\\\": \\\"Clerkenwell\\\", \\\"avg_age\\\": 34.8495213228895, \\\"avg_yearly_income\\\": 40470, \\\"cluster\\\": \\\"5.0\\\"}, \\\"geometry\\\": {\\\"type\\\": \\\"Polygon\\\", \\\"coordinates\\\": [[[530916.9, 182418.9], [530951.8, 182460.1], [530986.2, 182500.7], [531004.8, 182520.4], [530970.6, 182532.2], [530957.4, 182539.0], [530947.9, 182543.9], [530943.3, 182548.8], [530895.7, 182591.3], [530880.7, 182605.5], [530838.1, 182648.2], [530828.8, 182662.0], [530825.6, 182668.5], [530821.7, 182678.1], [530818.6, 182687.9], [530809.9, 182727.9], [530805.5, 182773.0], [530799.5, 182854.0], [530797.6, 182863.9], [530795.0, 182873.0], [530792.1, 182880.1], [530787.5, 182888.7], [530782.2, 182896.8], [530779.6, 182900.1], [530745.7, 182923.9], [530705.6, 182943.7], [530673.7, 182956.8], [530632.8, 182972.5], [530571.9, 182991.9], [530510.0, 183011.6], [530546.8, 183018.6], [530710.1, 183038.6], [530865.0, 183065.5], [530978.3, 183082.5], [531022.6, 183090.0], [531033.8, 183091.9], [531097.3, 183101.5], [531149.0, 183111.5], [531210.9, 183122.5], [531253.1, 183127.6], [531310.0, 183133.2], [531398.7, 183138.9], [531433.3, 183140.6], [531450.3, 183142.9], [531451.9, 183134.1], [531456.4, 183099.7], [531457.7, 183089.7], [531466.2, 183053.9], [531474.7, 183026.5], [531489.8, 182995.3], [531510.6, 182957.6], [531531.8, 182924.0], [531544.6, 182900.0], [531553.1, 182883.9], [531572.2, 182893.2], [531576.7, 182879.4], [531583.8, 182881.2], [531586.3, 182877.4], [531590.5, 182878.7], [531591.3, 182881.6], [531600.4, 182883.8], [531603.8, 182868.6], [531607.0, 182868.8], [531611.4, 182863.6], [531633.3, 182841.0], [531634.0, 182840.2], [531642.0, 182848.6], [531636.3, 182854.3], [531652.5, 182867.5], [531656.7, 182863.6], [531686.1, 182894.7], [531690.7, 182890.4], [531696.4, 182889.4], [531700.7, 182890.1], [531719.5, 182913.9], [531773.5, 182860.3], [531793.0, 182839.0], [531800.9, 182829.5], [531804.8, 182823.6], [531812.8, 182808.5], [531827.4, 182766.6], [531858.7, 182670.6], [531886.6, 182581.3], [531893.8, 182555.4], [531806.9, 182525.0], [531754.7, 182508.0], [531660.3, 182477.3], [531642.3, 182524.2], [531631.9, 182528.0], [531626.2, 182496.8], [531619.6, 182457.2], [531616.8, 182440.2], [531618.7, 182424.1], [531626.2, 182398.6], [531647.0, 182362.7], [531665.9, 182335.4], [531683.2, 182310.0], [531713.2, 182262.7], [531723.2, 182241.7], [531737.7, 182211.3], [531746.9, 182193.3], [531757.6, 182154.6], [531769.0, 182100.3], [531804.0, 181978.6], [531809.1, 181956.5], [531810.5, 181937.9], [531806.9, 181918.2], [531800.5, 181901.4], [531800.5, 181874.9], [531796.9, 181840.6], [531796.2, 181790.5], [531778.2, 181780.0], [531697.9, 181736.9], [531595.2, 181683.2], [531555.2, 181659.5], [531554.6, 181659.1], [531543.2, 181725.1], [531512.5, 181852.0], [531500.8, 181896.2], [531491.2, 181922.2], [531477.2, 181960.3], [531466.2, 181985.4], [531455.5, 182006.9], [531428.2, 182061.8], [531341.5, 182048.5], [531340.7, 182049.1], [531337.0, 182054.7], [531317.7, 182089.1], [531306.2, 182114.6], [531290.9, 182146.8], [531289.1, 182150.6], [531271.8, 182139.9], [531266.4, 182141.5], [531255.1, 182149.2], [531246.4, 182155.2], [531232.1, 182158.0], [531219.8, 182162.3], [531134.7, 182188.6], [531086.8, 182205.6], [531065.1, 182214.9], [531053.6, 182220.2], [531039.1, 182230.3], [530992.8, 182278.4], [530971.8, 182299.5], [530964.2, 182310.8], [530959.3, 182319.1], [530944.5, 182351.5], [530928.0, 182392.9], [530920.3, 182412.5], [530916.9, 182418.9]]]}}, {\\\"id\\\": \\\"1\\\", \\\"type\\\": \\\"Feature\\\", \\\"properties\\\": {\\\"name\\\": \\\"Caledonian\\\", \\\"gss_code\\\": \\\"E05000368\\\", \\\"HECTARES\\\": 113.611, \\\"NONLD_AREA\\\": 0.0, \\\"LB_GSS_CD\\\": \\\"E09000019\\\", \\\"BOROUGH\\\": \\\"Islington\\\", \\\"POLY_ID\\\": 50626, \\\"ward_name\\\": \\\"Caledonian\\\", \\\"avg_age\\\": 34.2583477259643, \\\"avg_yearly_income\\\": 33450, \\\"cluster\\\": \\\"0.0\\\"}, \\\"geometry\\\": {\\\"type\\\": \\\"Polygon\\\", \\\"coordinates\\\": [[[530021.3, 184570.7], [530104.9, 184611.8], [530180.4, 184647.4], [530265.8, 184690.1], [530386.9, 184749.9], [530423.9, 184767.0], [530446.7, 184774.1], [530466.6, 184776.9], [530493.7, 184781.2], [530533.6, 184781.2], [530589.1, 184781.2], [530627.5, 184785.5], [530683.1, 184831.1], [530777.1, 184909.4], [530818.3, 184942.2], [530825.5, 184932.2], [530869.6, 184875.2], [530938.0, 184786.9], [530973.6, 184735.6], [531006.3, 184695.8], [531032.0, 184647.4], [531064.7, 184590.4], [531095.6, 184534.6], [531080.7, 184528.4], [530986.5, 184487.5], [530902.2, 184456.2], [530928.7, 184396.1], [530929.6, 184375.5], [530925.8, 184291.9], [530923.9, 184237.2], [530919.7, 184098.5], [530915.0, 183916.5], [530912.2, 183883.9], [530908.3, 183680.1], [530908.1, 183675.4], [530908.1, 183670.5], [530854.0, 183673.3], [530788.5, 183681.9], [530720.8, 183685.4], [530720.6, 183684.6], [530715.3, 183632.8], [530714.8, 183628.8], [530701.6, 183526.9], [530691.6, 183444.0], [530689.4, 183413.0], [530687.3, 183383.5], [530676.5, 183306.0], [530675.5, 183285.9], [530676.2, 183272.7], [530678.0, 183259.7], [530680.8, 183246.8], [530685.6, 183231.3], [530695.3, 183144.5], [530710.1, 183038.6], [530546.8, 183018.6], [530510.0, 183011.6], [530418.5, 182999.3], [530364.8, 182991.4], [530326.1, 182983.3], [530326.0, 182994.9], [530324.5, 183025.8], [530326.7, 183207.1], [530330.2, 183352.5], [530330.1, 183410.8], [530330.0, 183413.0], [530327.5, 183516.7], [530327.3, 183550.4], [530325.8, 183577.8], [530324.3, 183604.6], [530319.3, 183668.5], [530309.6, 183721.3], [530302.9, 183749.8], [530293.9, 183782.9], [530267.9, 183846.7], [530260.5, 183862.6], [530245.8, 183889.9], [530220.1, 183927.8], [530197.4, 183958.0], [530179.4, 183990.8], [530138.1, 184076.6], [530127.1, 184105.6], [530121.0, 184134.2], [530120.3, 184142.7], [530107.5, 184172.1], [530091.9, 184205.0], [530076.3, 184243.8], [530071.7, 184284.7], [530065.0, 184313.2], [530059.4, 184333.1], [530056.4, 184347.4], [530058.0, 184363.0], [530051.1, 184403.8], [530038.1, 184474.5], [530021.3, 184570.7]]]}}, {\\\"id\\\": \\\"2\\\", \\\"type\\\": \\\"Feature\\\", \\\"properties\\\": {\\\"name\\\": \\\"St. Mary's\\\", \\\"gss_code\\\": \\\"E05000379\\\", \\\"HECTARES\\\": 86.831, \\\"NONLD_AREA\\\": 0.0, \\\"LB_GSS_CD\\\": \\\"E09000019\\\", \\\"BOROUGH\\\": \\\"Islington\\\", \\\"POLY_ID\\\": 50761, \\\"ward_name\\\": \\\"St Mary's\\\", \\\"avg_age\\\": 35.8118237687181, \\\"avg_yearly_income\\\": 43070, \\\"cluster\\\": \\\"1.0\\\"}, \\\"geometry\\\": {\\\"type\\\": \\\"Polygon\\\", \\\"coordinates\\\": [[[531466.0, 183278.7], [531426.4, 183325.9], [531405.1, 183350.1], [531400.8, 183364.3], [531390.8, 183407.0], [531389.4, 183413.0], [531380.8, 183448.3], [531376.6, 183483.9], [531373.7, 183519.5], [531376.6, 183553.7], [531379.4, 183597.9], [531383.7, 183686.2], [531384.4, 183713.0], [531386.1, 183744.9], [531389.1, 183818.1], [531389.8, 183906.0], [531398.2, 183956.2], [531428.4, 184120.6], [531431.8, 184132.9], [531433.9, 184144.2], [531435.0, 184153.8], [531435.3, 184163.4], [531434.8, 184175.2], [531381.6, 184393.0], [531359.3, 184469.8], [531335.3, 184537.0], [531302.0, 184622.7], [531190.5, 184574.6], [531095.6, 184534.6], [531064.7, 184590.4], [531032.0, 184647.4], [531006.3, 184695.8], [530973.6, 184735.6], [530938.0, 184786.9], [530990.6, 184826.8], [531030.5, 184855.3], [531071.8, 184882.3], [531104.6, 184906.5], [531154.4, 184939.3], [531127.4, 184994.8], [531125.1, 185000.0], [531108.8, 185037.5], [531090.3, 185068.9], [531084.6, 185095.9], [531084.6, 185111.6], [531091.8, 185133.0], [531108.9, 185177.1], [531117.4, 185198.5], [531127.4, 185235.5], [531135.6, 185245.8], [531170.7, 185206.3], [531200.7, 185172.4], [531219.4, 185150.2], [531341.2, 185000.0], [531341.3, 185000.0], [531438.8, 184892.2], [531478.9, 184853.0], [531524.9, 184815.8], [531588.1, 184768.7], [531616.5, 184749.1], [531628.2, 184743.4], [531655.6, 184737.6], [531690.9, 184735.2], [531737.1, 184738.4], [531758.8, 184742.7], [531786.6, 184749.7], [531797.2, 184752.8], [531812.1, 184757.4], [531842.2, 184686.0], [531884.3, 184595.8], [531914.4, 184529.7], [531917.4, 184522.7], [531915.4, 184518.6], [531912.4, 184515.6], [531920.4, 184510.6], [531925.4, 184502.6], [531943.5, 184440.5], [531974.5, 184337.2], [531994.6, 184258.2], [532110.9, 184160.6], [532144.7, 184134.1], [532148.1, 184131.4], [532147.3, 184130.7], [532112.5, 184096.2], [532055.2, 184039.4], [531999.7, 183981.6], [531976.6, 183958.8], [531942.2, 183917.6], [531930.9, 183901.8], [531923.9, 183891.1], [531912.6, 183871.4], [531866.8, 183802.6], [531822.7, 183743.8], [531773.2, 183681.5], [531767.2, 183674.7], [531746.5, 183653.2], [531730.9, 183638.6], [531697.1, 183613.8], [531637.9, 183572.3], [531624.9, 183565.3], [531619.0, 183561.1], [531614.0, 183556.9], [531609.4, 183552.2], [531600.2, 183540.4], [531593.1, 183528.4], [531587.4, 183515.5], [531534.8, 183425.3], [531527.9, 183413.0], [531514.0, 183388.0], [531470.8, 183291.7], [531466.9, 183281.5], [531466.0, 183278.7]]]}}, {\\\"id\\\": \\\"3\\\", \\\"type\\\": \\\"Feature\\\", \\\"properties\\\": {\\\"name\\\": \\\"Holloway\\\", \\\"gss_code\\\": \\\"E05000375\\\", \\\"HECTARES\\\": 100.874, \\\"NONLD_AREA\\\": 0.0, \\\"LB_GSS_CD\\\": \\\"E09000019\\\", \\\"BOROUGH\\\": \\\"Islington\\\", \\\"POLY_ID\\\": 117408, \\\"ward_name\\\": \\\"Holloway\\\", \\\"avg_age\\\": 33.4758726556764, \\\"avg_yearly_income\\\": 32960, \\\"cluster\\\": \\\"0.0\\\"}, \\\"geometry\\\": {\\\"type\\\": \\\"Polygon\\\", \\\"coordinates\\\": [[[530021.3, 184570.7], [530018.6, 184584.8], [530009.5, 184632.0], [529998.1, 184686.2], [529979.3, 184784.9], [529964.1, 184835.5], [529960.4, 184843.6], [529957.8, 184852.6], [529955.5, 184858.5], [529950.8, 184867.2], [529926.3, 184899.4], [529919.9, 184906.7], [529914.0, 184914.1], [529900.4, 184928.7], [529881.8, 184941.6], [529818.1, 184985.8], [529824.0, 184994.4], [529827.8, 185000.0], [529827.9, 185000.0], [530000.1, 185250.9], [530052.8, 185330.4], [530128.2, 185437.1], [530134.0, 185445.3], [530161.0, 185478.0], [530162.2, 185480.0], [530176.5, 185504.8], [530187.0, 185521.2], [530274.4, 185706.1], [530341.6, 185845.3], [530360.8, 185879.5], [530370.7, 185893.5], [530404.9, 185939.5], [530463.8, 186000.9], [530619.5, 185841.9], [530643.9, 185815.3], [530767.1, 185680.5], [530825.8, 185615.1], [530884.2, 185550.1], [530921.0, 185505.8], [530941.1, 185480.0], [531007.8, 185394.1], [531092.9, 185294.1], [531135.6, 185245.8], [531127.4, 185235.5], [531117.4, 185198.5], [531108.9, 185177.1], [531091.8, 185133.0], [531084.6, 185111.6], [531084.6, 185095.9], [531090.3, 185068.9], [531108.8, 185037.5], [531125.1, 185000.0], [531127.4, 184994.8], [531154.4, 184939.3], [531104.6, 184906.5], [531071.8, 184882.3], [531030.5, 184855.3], [530990.6, 184826.8], [530938.0, 184786.9], [530869.6, 184875.2], [530825.5, 184932.2], [530818.3, 184942.2], [530777.1, 184909.4], [530683.1, 184831.1], [530627.5, 184785.5], [530589.1, 184781.2], [530533.6, 184781.2], [530493.7, 184781.2], [530466.6, 184776.9], [530446.7, 184774.1], [530423.9, 184767.0], [530386.9, 184749.9], [530265.8, 184690.1], [530180.4, 184647.4], [530104.9, 184611.8], [530021.3, 184570.7]]]}}, {\\\"id\\\": \\\"4\\\", \\\"type\\\": \\\"Feature\\\", \\\"properties\\\": {\\\"name\\\": \\\"Highbury East\\\", \\\"gss_code\\\": \\\"E05000372\\\", \\\"HECTARES\\\": 100.809, \\\"NONLD_AREA\\\": 0.0, \\\"LB_GSS_CD\\\": \\\"E09000019\\\", \\\"BOROUGH\\\": \\\"Islington\\\", \\\"POLY_ID\\\": 50667, \\\"ward_name\\\": \\\"Highbury East\\\", \\\"avg_age\\\": 35.5030943785456, \\\"avg_yearly_income\\\": 44650, \\\"cluster\\\": \\\"1.0\\\"}, \\\"geometry\\\": {\\\"type\\\": \\\"Polygon\\\", \\\"coordinates\\\": [[[532488.1, 185676.3], [532463.6, 185676.3], [532431.7, 185676.9], [532405.5, 185677.3], [532372.9, 185673.7], [532347.4, 185670.2], [532351.4, 185633.2], [532354.4, 185603.1], [532313.2, 185603.0], [532314.3, 185584.0], [532315.1, 185557.0], [532318.9, 185557.7], [532326.3, 185480.0], [532327.3, 185468.8], [532335.6, 185399.2], [532338.9, 185369.0], [532338.7, 185361.0], [532338.6, 185360.8], [532325.7, 185363.5], [532316.4, 185342.7], [532312.3, 185344.8], [532310.6, 185342.0], [532306.4, 185336.5], [532301.6, 185336.2], [532287.8, 185335.3], [532268.8, 185353.6], [532267.5, 185352.7], [532262.2, 185346.5], [532257.2, 185342.5], [532246.3, 185338.7], [532232.4, 185337.8], [532216.1, 185338.5], [532216.1, 185312.4], [532208.3, 185302.7], [532212.1, 185263.3], [532213.1, 185249.3], [532213.7, 185242.3], [532192.1, 185234.4], [532194.5, 185225.8], [532209.8, 185170.4], [532214.0, 185163.7], [532186.0, 185151.1], [532168.0, 185138.0], [532150.9, 185123.0], [532130.9, 185105.0], [532113.8, 185084.9], [532100.8, 185063.9], [532086.8, 185040.8], [532088.8, 185034.8], [532090.8, 185020.8], [532094.8, 185012.8], [532083.8, 185005.7], [532070.6, 185000.0], [532051.7, 184991.7], [532008.6, 184974.7], [531983.5, 184964.6], [531961.5, 184954.6], [531958.5, 184938.6], [531948.5, 184863.4], [531942.3, 184812.7], [531864.2, 184776.0], [531836.5, 184765.8], [531814.0, 184758.0], [531812.1, 184757.4], [531797.2, 184752.8], [531786.6, 184749.7], [531758.8, 184742.7], [531737.1, 184738.4], [531690.9, 184735.2], [531655.6, 184737.6], [531628.2, 184743.4], [531616.5, 184749.1], [531588.1, 184768.7], [531524.9, 184815.8], [531478.9, 184853.0], [531438.8, 184892.2], [531341.3, 185000.0], [531341.2, 185000.0], [531219.4, 185150.2], [531200.7, 185172.4], [531170.7, 185206.3], [531218.9, 185265.4], [531237.2, 185293.2], [531255.2, 185316.5], [531270.1, 185330.2], [531294.0, 185341.5], [531330.5, 185353.0], [531384.8, 185370.9], [531411.1, 185382.2], [531430.3, 185396.0], [531440.3, 185405.6], [531458.4, 185429.7], [531474.4, 185453.8], [531485.2, 185480.0], [531488.4, 185487.8], [531548.9, 185502.3], [531550.7, 185495.8], [531551.3, 185479.9], [531589.5, 185475.8], [531666.9, 185465.6], [531731.4, 185456.6], [531798.1, 185448.9], [531881.0, 185438.1], [531897.9, 185480.0], [531904.3, 185495.8], [531913.3, 185521.7], [531930.4, 185522.5], [531933.9, 185549.9], [531942.8, 185595.4], [531951.7, 185644.6], [531952.2, 185653.5], [531951.3, 185665.3], [531951.3, 185682.1], [531946.9, 185814.6], [531951.0, 185887.0], [531953.6, 185931.5], [531954.8, 185941.7], [531954.6, 185946.8], [531953.8, 185951.9], [531951.0, 185961.2], [531926.9, 186012.7], [531919.7, 186027.1], [531916.9, 186035.8], [531915.9, 186040.1], [531911.8, 186071.5], [531910.7, 186088.2], [531903.1, 186161.9], [531899.4, 186295.7], [531897.3, 186342.8], [531901.5, 186374.8], [532077.5, 186422.7], [532096.6, 186417.4], [532161.9, 186395.7], [532184.8, 186385.8], [532199.4, 186378.0], [532237.2, 186351.8], [532245.7, 186347.8], [532266.2, 186345.5], [532281.1, 186344.8], [532290.9, 186343.6], [532306.0, 186340.9], [532340.1, 186326.0], [532348.1, 186324.0], [532380.5, 186318.8], [532388.4, 186312.1], [532391.1, 186301.3], [532394.5, 186290.7], [532413.8, 186246.0], [532428.7, 186213.2], [532440.8, 186184.1], [532449.3, 186159.5], [532465.4, 186109.0], [532479.2, 186065.0], [532483.9, 186054.5], [532485.3, 186051.3], [532479.2, 186043.6], [532476.8, 186037.5], [532486.6, 185928.8], [532492.9, 185829.9], [532491.3, 185780.7], [532490.8, 185733.1], [532488.1, 185676.3]]]}}, {\\\"id\\\": \\\"5\\\", \\\"type\\\": \\\"Feature\\\", \\\"properties\\\": {\\\"name\\\": \\\"Highbury West\\\", \\\"gss_code\\\": \\\"E05000373\\\", \\\"HECTARES\\\": 108.254, \\\"NONLD_AREA\\\": 0.0, \\\"LB_GSS_CD\\\": \\\"E09000019\\\", \\\"BOROUGH\\\": \\\"Islington\\\", \\\"POLY_ID\\\": 117409, \\\"ward_name\\\": \\\"Highbury West\\\", \\\"avg_age\\\": 33.4025948103792, \\\"avg_yearly_income\\\": 40780, \\\"cluster\\\": \\\"3.0\\\"}, \\\"geometry\\\": {\\\"type\\\": \\\"Polygon\\\", \\\"coordinates\\\": [[[531170.7, 185206.3], [531135.6, 185245.8], [531092.9, 185294.1], [531007.8, 185394.1], [530941.1, 185480.0], [530921.0, 185505.8], [530884.2, 185550.1], [530825.8, 185615.1], [530767.1, 185680.5], [530643.9, 185815.3], [530690.6, 185857.7], [530723.7, 185888.7], [530747.7, 185903.8], [530798.9, 185934.8], [530847.0, 185962.9], [530920.1, 186007.0], [530983.3, 186042.1], [531008.3, 186056.1], [531016.4, 186062.1], [531024.4, 186073.2], [531033.4, 186087.2], [531059.5, 186074.2], [531063.5, 186076.2], [531088.5, 186030.1], [531139.6, 185930.8], [531156.7, 185920.8], [531162.7, 185932.8], [531189.7, 185992.0], [531215.8, 186059.1], [531225.6, 186089.4], [531237.9, 186123.0], [531243.6, 186147.1], [531268.5, 186233.3], [531279.1, 186270.0], [531292.5, 186331.3], [531303.5, 186390.9], [531308.5, 186423.9], [531320.5, 186541.7], [531326.1, 186612.3], [531328.3, 186668.6], [531365.0, 186703.2], [531385.6, 186716.6], [531409.8, 186734.8], [531430.2, 186752.5], [531479.8, 186794.3], [531530.6, 186752.9], [531646.5, 186640.9], [531652.1, 186635.1], [531663.3, 186620.6], [531692.9, 186587.0], [531699.9, 186580.1], [531706.1, 186574.8], [531722.2, 186564.1], [531729.5, 186557.3], [531732.2, 186554.7], [531739.1, 186546.3], [531837.8, 186445.2], [531901.5, 186374.8], [531897.3, 186342.8], [531899.4, 186295.7], [531903.1, 186161.9], [531910.7, 186088.2], [531911.8, 186071.5], [531915.9, 186040.1], [531916.9, 186035.8], [531919.7, 186027.1], [531926.9, 186012.7], [531951.0, 185961.2], [531953.8, 185951.9], [531954.6, 185946.8], [531954.8, 185941.7], [531953.6, 185931.5], [531951.0, 185887.0], [531946.9, 185814.6], [531951.3, 185682.1], [531951.3, 185665.3], [531952.2, 185653.5], [531951.7, 185644.6], [531942.8, 185595.4], [531933.9, 185549.9], [531930.4, 185522.5], [531913.3, 185521.7], [531904.3, 185495.8], [531897.9, 185480.0], [531881.0, 185438.1], [531798.1, 185448.9], [531731.4, 185456.6], [531666.9, 185465.6], [531589.5, 185475.8], [531551.3, 185479.9], [531550.7, 185495.8], [531548.9, 185502.3], [531488.4, 185487.8], [531485.2, 185480.0], [531474.4, 185453.8], [531458.4, 185429.7], [531440.3, 185405.6], [531430.3, 185396.0], [531411.1, 185382.2], [531384.8, 185370.9], [531330.5, 185353.0], [531294.0, 185341.5], [531270.1, 185330.2], [531255.2, 185316.5], [531237.2, 185293.2], [531218.9, 185265.4], [531170.7, 185206.3]]]}}, {\\\"id\\\": \\\"6\\\", \\\"type\\\": \\\"Feature\\\", \\\"properties\\\": {\\\"name\\\": \\\"Tollington\\\", \\\"gss_code\\\": \\\"E05000381\\\", \\\"HECTARES\\\": 84.866, \\\"NONLD_AREA\\\": 0.0, \\\"LB_GSS_CD\\\": \\\"E09000019\\\", \\\"BOROUGH\\\": \\\"Islington\\\", \\\"POLY_ID\\\": 117405, \\\"ward_name\\\": \\\"Tollington\\\", \\\"avg_age\\\": 34.2040417699647, \\\"avg_yearly_income\\\": 35490, \\\"cluster\\\": \\\"0.0\\\"}, \\\"geometry\\\": {\\\"type\\\": \\\"Polygon\\\", \\\"coordinates\\\": [[[530135.9, 186350.6], [530103.6, 186393.8], [530094.5, 186408.6], [530089.0, 186416.2], [530076.7, 186430.5], [530069.1, 186437.7], [530056.2, 186451.0], [530042.3, 186462.2], [530028.4, 186471.5], [530012.6, 186481.1], [529989.4, 186493.9], [529972.8, 186501.2], [529962.3, 186507.6], [529948.7, 186517.4], [529928.4, 186533.2], [529869.6, 186587.2], [529844.7, 186607.8], [529834.4, 186616.4], [529823.2, 186625.0], [529804.8, 186635.1], [529768.5, 186652.7], [529770.6, 186655.7], [529892.4, 186818.8], [529931.0, 186869.2], [530000.1, 186959.4], [530032.0, 187002.2], [530049.5, 187023.0], [530065.8, 187039.8], [530088.0, 187067.9], [530110.7, 187093.8], [530128.2, 187111.9], [530177.1, 187156.6], [530131.0, 187230.1], [530125.6, 187250.9], [530121.4, 187272.3], [530116.2, 187318.4], [530114.3, 187331.3], [530118.8, 187332.1], [530128.7, 187333.4], [530140.4, 187335.8], [530147.8, 187337.7], [530155.8, 187343.2], [530166.9, 187349.4], [530166.3, 187350.6], [530162.6, 187360.5], [530158.3, 187372.2], [530155.2, 187385.2], [530152.9, 187392.6], [530158.3, 187395.0], [530162.0, 187396.9], [530169.4, 187401.8], [530166.9, 187406.7], [530186.0, 187418.5], [530198.4, 187427.1], [530202.7, 187422.2], [530205.8, 187424.0], [530226.7, 187438.2], [530250.1, 187454.2], [530269.9, 187467.2], [530266.8, 187471.5], [530284.1, 187484.4], [530302.5, 187498.6], [530309.3, 187504.2], [530322.9, 187519.0], [530337.1, 187533.7], [530348.2, 187543.6], [530356.8, 187552.2], [530358.0, 187554.1], [530367.3, 187563.3], [530380.8, 187579.4], [530389.5, 187570.7], [530402.4, 187559.0], [530409.8, 187551.6], [530416.6, 187558.4], [530427.7, 187570.1], [530442.5, 187583.7], [530429.5, 187597.9], [530409.2, 187618.2], [530411.7, 187620.7], [530433.9, 187643.5], [530465.3, 187673.1], [530512.8, 187726.7], [530536.2, 187747.7], [530544.8, 187755.7], [530548.5, 187763.1], [530549.8, 187769.3], [530550.4, 187776.0], [530550.4, 187784.7], [530560.2, 187785.9], [530571.7, 187785.9], [530575.3, 187785.8], [530618.0, 187736.4], [530672.8, 187676.8], [530689.7, 187649.3], [530653.2, 187605.8], [530655.2, 187604.6], [530679.9, 187589.0], [530704.1, 187573.9], [530691.3, 187543.6], [530691.0, 187543.1], [530698.0, 187536.4], [530719.7, 187523.2], [530723.7, 187520.8], [530724.2, 187510.7], [530724.2, 187456.3], [530724.2, 187438.7], [530729.3, 187436.1], [530732.5, 187434.6], [530732.7, 187432.2], [530733.0, 187428.1], [530974.5, 187265.0], [531039.1, 187216.9], [531030.4, 187207.3], [531043.6, 187194.4], [531045.3, 187192.8], [531039.7, 187186.9], [531043.6, 187182.8], [531040.2, 187179.1], [531040.5, 187178.3], [531040.9, 187177.2], [531033.6, 187169.9], [531017.6, 187154.1], [531020.0, 187151.2], [531002.3, 187133.7], [531043.2, 187088.3], [531044.6, 187089.0], [531054.0, 187078.6], [530997.5, 187026.2], [530954.7, 187070.4], [530936.1, 187051.3], [530925.4, 187037.1], [530920.6, 187032.0], [530930.2, 187023.5], [530919.7, 187011.7], [530923.5, 187008.1], [530917.9, 187002.5], [530927.1, 186994.3], [530904.8, 186971.2], [530908.4, 186967.9], [530887.7, 186952.2], [530857.5, 186923.8], [530843.7, 186910.6], [530815.1, 186892.4], [530798.9, 186881.5], [530775.1, 186865.7], [530753.5, 186848.2], [530757.3, 186845.7], [530745.5, 186833.6], [530714.7, 186814.1], [530682.3, 186845.7], [530667.3, 186826.4], [530687.9, 186807.3], [530693.4, 186801.8], [530655.8, 186763.5], [530631.5, 186739.7], [530597.9, 186704.3], [530567.4, 186676.7], [530547.5, 186698.8], [530498.3, 186655.8], [530516.6, 186628.9], [530525.6, 186615.9], [530470.1, 186581.3], [530422.0, 186549.2], [530374.9, 186515.2], [530310.8, 186472.1], [530260.6, 186439.0], [530233.6, 186425.0], [530209.5, 186408.9], [530199.5, 186397.9], [530181.5, 186381.9], [530135.9, 186350.6]]]}}, {\\\"id\\\": \\\"7\\\", \\\"type\\\": \\\"Feature\\\", \\\"properties\\\": {\\\"name\\\": \\\"Bunhill\\\", \\\"gss_code\\\": \\\"E05000367\\\", \\\"HECTARES\\\": 108.263, \\\"NONLD_AREA\\\": 0.0, \\\"LB_GSS_CD\\\": \\\"E09000019\\\", \\\"BOROUGH\\\": \\\"Islington\\\", \\\"POLY_ID\\\": 50812, \\\"ward_name\\\": \\\"Bunhill\\\", \\\"avg_age\\\": 33.0140719994535, \\\"avg_yearly_income\\\": 36620, \\\"cluster\\\": \\\"4.0\\\"}, \\\"geometry\\\": {\\\"type\\\": \\\"Polygon\\\", \\\"coordinates\\\": [[[531450.3, 183142.9], [531450.3, 183151.8], [531480.5, 183142.3], [531502.0, 183134.8], [531539.0, 183119.2], [531567.8, 183107.3], [531612.4, 183090.2], [531661.8, 183071.8], [531746.9, 183041.3], [531815.9, 183015.6], [531922.7, 182973.2], [532021.5, 182935.9], [532089.4, 182910.3], [532213.7, 182861.6], [532620.6, 182706.5], [532659.3, 182690.0], [532678.3, 182678.9], [532686.6, 182673.3], [532691.2, 182669.3], [532694.5, 182665.2], [532699.4, 182656.8], [532712.0, 182638.2], [532725.1, 182610.5], [532747.2, 182546.0], [532749.9, 182532.2], [532775.6, 182516.2], [532804.2, 182504.9], [532820.8, 182498.6], [532844.1, 182507.6], [532942.7, 182547.9], [532963.7, 182460.8], [532944.9, 182436.9], [532929.3, 182396.8], [532920.4, 182368.1], [532918.3, 182359.0], [532941.6, 182350.2], [532941.1, 182294.3], [532983.6, 182292.4], [533004.7, 182293.3], [532999.2, 182259.8], [532998.2, 182237.5], [532993.7, 182136.0], [532989.2, 182089.3], [532978.1, 182037.3], [532965.8, 181968.7], [532955.7, 181928.0], [532946.1, 181894.9], [532935.7, 181871.7], [532924.1, 181838.3], [532907.4, 181792.9], [532901.5, 181777.4], [532880.5, 181723.4], [532871.4, 181727.1], [532788.1, 181764.5], [532746.8, 181786.9], [532664.3, 181825.9], [532630.8, 181839.4], [532615.1, 181845.7], [532633.8, 181926.2], [532634.5, 181929.1], [532594.7, 181937.5], [532548.5, 181945.1], [532517.4, 181951.0], [532486.1, 181954.8], [532461.4, 181957.9], [532447.6, 181959.0], [532436.4, 182009.7], [532382.4, 181991.3], [532374.0, 182012.4], [532361.7, 182008.8], [532359.9, 182018.8], [532342.0, 182013.2], [532309.6, 182006.1], [532304.3, 182035.1], [532287.9, 182097.9], [532253.2, 182188.7], [532191.5, 182161.7], [532189.3, 182166.7], [532158.3, 182151.1], [532146.6, 182190.3], [532142.4, 182189.0], [532141.5, 182188.7], [532140.3, 182191.9], [532134.9, 182206.1], [532053.9, 182154.6], [532056.7, 182150.8], [532059.0, 182147.3], [532067.3, 182133.7], [532073.6, 182121.4], [532078.1, 182111.2], [532087.7, 182083.6], [532097.7, 182041.9], [532098.7, 182027.8], [532097.7, 182016.7], [532097.1, 182012.8], [532089.2, 182013.7], [532086.5, 181980.3], [532083.4, 181950.0], [532081.1, 181915.5], [532027.3, 181899.0], [531996.3, 181888.2], [531965.7, 181873.1], [531944.7, 181863.1], [531913.5, 181846.5], [531903.3, 181845.5], [531891.4, 181842.3], [531865.9, 181828.1], [531847.4, 181818.9], [531813.0, 181800.3], [531796.2, 181790.5], [531796.9, 181840.6], [531800.5, 181874.9], [531800.5, 181901.4], [531806.9, 181918.2], [531810.5, 181937.9], [531809.1, 181956.5], [531804.0, 181978.6], [531769.0, 182100.3], [531757.6, 182154.6], [531746.9, 182193.3], [531737.7, 182211.3], [531723.2, 182241.7], [531713.2, 182262.7], [531683.2, 182310.0], [531665.9, 182335.4], [531647.0, 182362.7], [531626.2, 182398.6], [531618.7, 182424.1], [531616.8, 182440.2], [531619.6, 182457.2], [531626.2, 182496.8], [531631.9, 182528.0], [531642.3, 182524.2], [531660.3, 182477.3], [531754.7, 182508.0], [531806.9, 182525.0], [531893.8, 182555.4], [531886.6, 182581.3], [531858.7, 182670.6], [531827.4, 182766.6], [531812.8, 182808.5], [531804.8, 182823.6], [531800.9, 182829.5], [531793.0, 182839.0], [531773.5, 182860.3], [531719.5, 182913.9], [531700.7, 182890.1], [531696.4, 182889.4], [531690.7, 182890.4], [531686.1, 182894.7], [531656.7, 182863.6], [531652.5, 182867.5], [531636.3, 182854.3], [531642.0, 182848.6], [531634.0, 182840.2], [531633.3, 182841.0], [531611.4, 182863.6], [531607.0, 182868.8], [531603.8, 182868.6], [531600.4, 182883.8], [531591.3, 182881.6], [531590.5, 182878.7], [531586.3, 182877.4], [531583.8, 182881.2], [531576.7, 182879.4], [531572.2, 182893.2], [531553.1, 182883.9], [531544.6, 182900.0], [531531.8, 182924.0], [531510.6, 182957.6], [531489.8, 182995.3], [531474.7, 183026.5], [531466.2, 183053.9], [531457.7, 183089.7], [531456.4, 183099.7], [531451.9, 183134.1], [531450.3, 183142.9]]]}}, {\\\"id\\\": \\\"8\\\", \\\"type\\\": \\\"Feature\\\", \\\"properties\\\": {\\\"name\\\": \\\"St. Peter's\\\", \\\"gss_code\\\": \\\"E05000380\\\", \\\"HECTARES\\\": 81.053, \\\"NONLD_AREA\\\": 0.0, \\\"LB_GSS_CD\\\": \\\"E09000019\\\", \\\"BOROUGH\\\": \\\"Islington\\\", \\\"POLY_ID\\\": 50762, \\\"ward_name\\\": \\\"St Peter's\\\", \\\"avg_age\\\": 35.645829808831, \\\"avg_yearly_income\\\": 41210, \\\"cluster\\\": \\\"1.0\\\"}, \\\"geometry\\\": {\\\"type\\\": \\\"Polygon\\\", \\\"coordinates\\\": [[[531450.3, 183151.8], [531450.0, 183192.8], [531453.3, 183226.6], [531457.5, 183248.9], [531460.2, 183260.0], [531466.0, 183278.7], [531466.9, 183281.5], [531470.8, 183291.7], [531514.0, 183388.0], [531527.9, 183413.0], [531534.8, 183425.3], [531587.4, 183515.5], [531593.1, 183528.4], [531600.2, 183540.4], [531609.4, 183552.2], [531614.0, 183556.9], [531619.0, 183561.1], [531624.9, 183565.3], [531637.9, 183572.3], [531697.1, 183613.8], [531730.9, 183638.6], [531746.5, 183653.2], [531767.2, 183674.7], [531773.2, 183681.5], [531822.7, 183743.8], [531866.8, 183802.6], [531912.6, 183871.4], [531923.9, 183891.1], [531930.9, 183901.8], [531942.2, 183917.6], [531976.6, 183958.8], [531999.7, 183981.6], [532055.2, 184039.4], [532112.5, 184096.2], [532147.3, 184130.7], [532148.1, 184131.4], [532180.4, 184163.2], [532207.7, 184189.2], [532251.8, 184223.3], [532257.5, 184228.2], [532262.6, 184232.5], [532307.3, 184187.9], [532353.4, 184137.8], [532405.5, 184085.7], [532459.6, 184027.5], [532503.7, 183981.4], [532554.8, 183932.3], [532586.9, 183898.3], [532609.0, 183872.2], [532630.0, 183850.2], [532642.0, 183838.1], [532695.2, 183821.1], [532761.3, 183800.0], [532802.6, 183790.4], [532799.8, 183774.0], [532786.0, 183775.1], [532767.4, 183769.3], [532745.2, 183759.5], [532725.3, 183746.5], [532691.5, 183718.2], [532660.1, 183691.6], [532627.7, 183662.4], [532590.3, 183629.7], [532588.4, 183628.0], [532551.7, 183600.9], [532516.7, 183571.6], [532475.7, 183541.5], [532461.2, 183529.4], [532434.5, 183507.3], [532396.0, 183475.6], [532345.9, 183437.1], [532312.2, 183413.0], [532298.1, 183402.9], [532264.1, 183381.6], [532259.2, 183385.6], [532225.3, 183363.9], [532225.8, 183356.0], [532159.8, 183315.3], [532149.4, 183309.4], [532122.8, 183295.1], [532089.8, 183280.0], [532146.6, 183156.7], [532173.6, 183096.0], [532200.8, 183038.5], [532216.1, 183003.1], [532231.5, 182957.6], [532233.9, 182943.6], [532234.2, 182936.3], [532233.6, 182928.7], [532230.6, 182914.7], [532213.7, 182861.6], [532089.4, 182910.3], [532021.5, 182935.9], [531922.7, 182973.2], [531815.9, 183015.6], [531746.9, 183041.3], [531661.8, 183071.8], [531612.4, 183090.2], [531567.8, 183107.3], [531539.0, 183119.2], [531502.0, 183134.8], [531480.5, 183142.3], [531450.3, 183151.8]]]}}, {\\\"id\\\": \\\"9\\\", \\\"type\\\": \\\"Feature\\\", \\\"properties\\\": {\\\"name\\\": \\\"Canonbury\\\", \\\"gss_code\\\": \\\"E05000369\\\", \\\"HECTARES\\\": 80.72, \\\"NONLD_AREA\\\": 0.0, \\\"LB_GSS_CD\\\": \\\"E09000019\\\", \\\"BOROUGH\\\": \\\"Islington\\\", \\\"POLY_ID\\\": 117407, \\\"ward_name\\\": \\\"Canonbury\\\", \\\"avg_age\\\": 35.1395791915176, \\\"avg_yearly_income\\\": 37860, \\\"cluster\\\": \\\"2.0\\\"}, \\\"geometry\\\": {\\\"type\\\": \\\"Polygon\\\", \\\"coordinates\\\": [[[532148.1, 184131.4], [532144.7, 184134.1], [532110.9, 184160.6], [531994.6, 184258.2], [531974.5, 184337.2], [531943.5, 184440.5], [531925.4, 184502.6], [531920.4, 184510.6], [531912.4, 184515.6], [531915.4, 184518.6], [531917.4, 184522.7], [531914.4, 184529.7], [531884.3, 184595.8], [531842.2, 184686.0], [531812.1, 184757.4], [531814.0, 184758.0], [531836.5, 184765.8], [531864.2, 184776.0], [531942.3, 184812.7], [531984.9, 184832.7], [532049.1, 184864.2], [532057.9, 184869.0], [532062.5, 184870.7], [532068.6, 184872.2], [532074.7, 184873.0], [532112.6, 184872.8], [532220.2, 184866.7], [532304.9, 184869.4], [532340.1, 184868.2], [532411.3, 184859.0], [532483.0, 184851.9], [532536.0, 184846.0], [532584.6, 184842.4], [532591.6, 184841.9], [532610.3, 184841.2], [532632.9, 184838.9], [532685.8, 184830.4], [532733.1, 184818.2], [532843.5, 184811.1], [532874.5, 184813.3], [532903.0, 184819.4], [532917.2, 184820.3], [532931.8, 184820.8], [532965.3, 184818.6], [532983.8, 184665.6], [532982.1, 184647.8], [532955.9, 184520.8], [532918.6, 184347.6], [532868.6, 184123.1], [532857.3, 184056.6], [532835.8, 183939.5], [532813.2, 183827.4], [532809.7, 183807.2], [532802.6, 183790.4], [532761.3, 183800.0], [532695.2, 183821.1], [532642.0, 183838.1], [532630.0, 183850.2], [532609.0, 183872.2], [532586.9, 183898.3], [532554.8, 183932.3], [532503.7, 183981.4], [532459.6, 184027.5], [532405.5, 184085.7], [532353.4, 184137.8], [532307.3, 184187.9], [532262.6, 184232.5], [532257.5, 184228.2], [532251.8, 184223.3], [532207.7, 184189.2], [532180.4, 184163.2], [532148.1, 184131.4]]]}}, {\\\"id\\\": \\\"10\\\", \\\"type\\\": \\\"Feature\\\", \\\"properties\\\": {\\\"name\\\": \\\"Barnsbury\\\", \\\"gss_code\\\": \\\"E05000366\\\", \\\"HECTARES\\\": 83.012, \\\"NONLD_AREA\\\": 0.0, \\\"LB_GSS_CD\\\": \\\"E09000019\\\", \\\"BOROUGH\\\": \\\"Islington\\\", \\\"POLY_ID\\\": 50763, \\\"ward_name\\\": \\\"Barnsbury\\\", \\\"avg_age\\\": 35.0076223260388, \\\"avg_yearly_income\\\": 41950, \\\"cluster\\\": \\\"5.0\\\"}, \\\"geometry\\\": {\\\"type\\\": \\\"Polygon\\\", \\\"coordinates\\\": [[[531095.6, 184534.6], [531190.5, 184574.6], [531302.0, 184622.7], [531335.3, 184537.0], [531359.3, 184469.8], [531381.6, 184393.0], [531434.8, 184175.2], [531435.3, 184163.4], [531435.0, 184153.8], [531433.9, 184144.2], [531431.8, 184132.9], [531428.4, 184120.6], [531398.2, 183956.2], [531389.8, 183906.0], [531389.1, 183818.1], [531386.1, 183744.9], [531384.4, 183713.0], [531383.7, 183686.2], [531379.4, 183597.9], [531376.6, 183553.7], [531373.7, 183519.5], [531376.6, 183483.9], [531380.8, 183448.3], [531389.4, 183413.0], [531390.8, 183407.0], [531400.8, 183364.3], [531405.1, 183350.1], [531426.4, 183325.9], [531466.0, 183278.7], [531460.2, 183260.0], [531457.5, 183248.9], [531453.3, 183226.6], [531450.0, 183192.8], [531450.3, 183151.8], [531450.3, 183142.9], [531433.3, 183140.6], [531398.7, 183138.9], [531310.0, 183133.2], [531253.1, 183127.6], [531210.9, 183122.5], [531149.0, 183111.5], [531097.3, 183101.5], [531033.8, 183091.9], [531022.6, 183090.0], [530978.3, 183082.5], [530865.0, 183065.5], [530710.1, 183038.6], [530695.3, 183144.5], [530685.6, 183231.3], [530680.8, 183246.8], [530678.0, 183259.7], [530676.2, 183272.7], [530675.5, 183285.9], [530676.5, 183306.0], [530687.3, 183383.5], [530689.4, 183413.0], [530691.6, 183444.0], [530701.6, 183526.9], [530714.8, 183628.8], [530715.3, 183632.8], [530720.6, 183684.6], [530720.8, 183685.4], [530788.5, 183681.9], [530854.0, 183673.3], [530908.1, 183670.5], [530908.1, 183675.4], [530908.3, 183680.1], [530912.2, 183883.9], [530915.0, 183916.5], [530919.7, 184098.5], [530923.9, 184237.2], [530925.8, 184291.9], [530929.6, 184375.5], [530928.7, 184396.1], [530902.2, 184456.2], [530986.5, 184487.5], [531080.7, 184528.4], [531095.6, 184534.6]]]}}, {\\\"id\\\": \\\"11\\\", \\\"type\\\": \\\"Feature\\\", \\\"properties\\\": {\\\"name\\\": \\\"St. George's\\\", \\\"gss_code\\\": \\\"E05000378\\\", \\\"HECTARES\\\": 84.582, \\\"NONLD_AREA\\\": 0.0, \\\"LB_GSS_CD\\\": \\\"E09000019\\\", \\\"BOROUGH\\\": \\\"Islington\\\", \\\"POLY_ID\\\": 50625, \\\"ward_name\\\": \\\"St George's\\\", \\\"avg_age\\\": 35.2089516129032, \\\"avg_yearly_income\\\": 38170, \\\"cluster\\\": \\\"2.0\\\"}, \\\"geometry\\\": {\\\"type\\\": \\\"Polygon\\\", \\\"coordinates\\\": [[[530012.6, 186481.1], [530028.4, 186471.5], [530042.3, 186462.2], [530056.2, 186451.0], [530069.1, 186437.7], [530076.7, 186430.5], [530089.0, 186416.2], [530094.5, 186408.6], [530103.6, 186393.8], [530135.9, 186350.6], [530175.9, 186296.9], [530191.4, 186278.1], [530201.1, 186267.4], [530317.5, 186146.8], [530338.4, 186128.0], [530352.0, 186114.3], [530403.3, 186056.9], [530435.8, 186028.7], [530451.1, 186012.9], [530463.8, 186000.9], [530404.9, 185939.5], [530370.7, 185893.5], [530360.8, 185879.5], [530341.6, 185845.3], [530274.4, 185706.1], [530187.0, 185521.2], [530176.5, 185504.8], [530162.2, 185480.0], [530161.0, 185478.0], [530134.0, 185445.3], [530128.2, 185437.1], [530052.8, 185330.4], [530000.1, 185250.9], [529827.9, 185000.0], [529827.8, 185000.0], [529824.0, 184994.4], [529818.1, 184985.8], [529803.2, 185000.0], [529803.0, 185000.0], [529768.4, 185038.1], [529754.7, 185056.1], [529744.8, 185070.7], [529731.4, 185100.9], [529703.6, 185185.3], [529699.7, 185208.9], [529695.1, 185247.4], [529693.3, 185254.8], [529690.2, 185262.9], [529686.8, 185269.6], [529679.5, 185279.7], [529664.0, 185294.8], [529656.2, 185301.6], [529621.8, 185328.9], [529599.1, 185345.5], [529521.6, 185423.0], [529467.8, 185480.0], [529441.1, 185508.3], [529422.4, 185534.5], [529416.4, 185544.1], [529404.7, 185565.0], [529389.6, 185597.3], [529385.4, 185604.4], [529381.3, 185610.1], [529377.6, 185614.3], [529371.8, 185619.7], [529362.1, 185626.8], [529331.3, 185643.2], [529287.0, 185663.0], [529253.5, 185689.3], [529242.0, 185700.9], [529235.3, 185709.5], [529227.2, 185722.8], [529222.7, 185732.4], [529153.6, 185861.4], [529187.2, 185866.7], [529223.0, 185871.7], [529262.4, 185877.7], [529324.1, 185888.9], [529359.6, 185895.7], [529393.7, 185901.8], [529432.6, 185910.3], [529605.1, 185939.1], [529596.7, 185956.5], [529587.1, 185974.7], [529569.1, 186011.0], [529575.1, 186013.0], [529616.2, 186020.0], [529691.4, 186031.1], [529754.3, 186043.2], [529809.4, 186054.2], [529808.4, 186069.6], [529805.5, 186085.8], [529793.1, 186102.1], [529786.4, 186110.8], [529760.5, 186139.5], [529726.0, 186178.8], [529750.0, 186195.1], [529767.5, 186207.5], [529785.4, 186219.5], [529799.6, 186228.5], [529831.4, 186256.9], [529852.5, 186275.1], [529869.7, 186289.9], [529890.8, 186311.7], [529898.8, 186323.7], [529914.9, 186347.8], [529929.9, 186367.8], [529940.9, 186381.9], [529967.0, 186416.9], [529987.6, 186445.1], [530000.0, 186463.0], [530012.6, 186481.1]]]}}, {\\\"id\\\": \\\"12\\\", \\\"type\\\": \\\"Feature\\\", \\\"properties\\\": {\\\"name\\\": \\\"Junction\\\", \\\"gss_code\\\": \\\"E05000376\\\", \\\"HECTARES\\\": 102.75, \\\"NONLD_AREA\\\": 0.0, \\\"LB_GSS_CD\\\": \\\"E09000019\\\", \\\"BOROUGH\\\": \\\"Islington\\\", \\\"POLY_ID\\\": 50586, \\\"ward_name\\\": \\\"Junction\\\", \\\"avg_age\\\": 35.9030353430353, \\\"avg_yearly_income\\\": 36850, \\\"cluster\\\": \\\"2.0\\\"}, \\\"geometry\\\": {\\\"type\\\": \\\"Polygon\\\", \\\"coordinates\\\": [[[529892.4, 186818.8], [529770.6, 186655.7], [529768.5, 186652.7], [529804.8, 186635.1], [529823.2, 186625.0], [529834.4, 186616.4], [529844.7, 186607.8], [529869.6, 186587.2], [529928.4, 186533.2], [529948.7, 186517.4], [529962.3, 186507.6], [529972.8, 186501.2], [529989.4, 186493.9], [530012.6, 186481.1], [530000.0, 186463.0], [529987.6, 186445.1], [529967.0, 186416.9], [529940.9, 186381.9], [529929.9, 186367.8], [529914.9, 186347.8], [529898.8, 186323.7], [529890.8, 186311.7], [529869.7, 186289.9], [529852.5, 186275.1], [529831.4, 186256.9], [529799.6, 186228.5], [529785.4, 186219.5], [529767.5, 186207.5], [529750.0, 186195.1], [529726.0, 186178.8], [529760.5, 186139.5], [529786.4, 186110.8], [529793.1, 186102.1], [529805.5, 186085.8], [529808.4, 186069.6], [529809.4, 186054.2], [529754.3, 186043.2], [529691.4, 186031.1], [529616.2, 186020.0], [529575.1, 186013.0], [529569.1, 186011.0], [529587.1, 185974.7], [529596.7, 185956.5], [529605.1, 185939.1], [529432.6, 185910.3], [529393.7, 185901.8], [529359.6, 185895.7], [529324.1, 185888.9], [529262.4, 185877.7], [529223.0, 185871.7], [529187.2, 185866.7], [529153.6, 185861.4], [529144.8, 185877.8], [529089.8, 185987.9], [529076.4, 186014.9], [529058.7, 186051.0], [528997.3, 186185.0], [528984.8, 186204.4], [528977.5, 186213.7], [528971.7, 186222.9], [528967.8, 186230.4], [528962.7, 186245.1], [528960.7, 186253.8], [528958.7, 186264.7], [528956.7, 186284.9], [528958.9, 186323.0], [528957.8, 186336.1], [528957.6, 186343.8], [528958.9, 186361.4], [528960.2, 186369.0], [528972.2, 186418.9], [528979.0, 186441.1], [528981.5, 186452.0], [528982.7, 186460.0], [528984.8, 186490.1], [528984.3, 186522.9], [528981.6, 186547.5], [528974.4, 186568.3], [528971.6, 186578.8], [528967.8, 186598.5], [528966.5, 186610.4], [528965.9, 186634.9], [528974.1, 186678.9], [528974.6, 186685.4], [528974.8, 186692.8], [528974.3, 186702.9], [528973.3, 186712.9], [528972.6, 186716.8], [528947.0, 186779.9], [528941.3, 186798.2], [528938.7, 186808.2], [528934.4, 186836.4], [528934.0, 186839.1], [528925.8, 186885.1], [528906.0, 187014.7], [528895.9, 187060.0], [528878.9, 187129.4], [528854.7, 187169.4], [528832.4, 187195.6], [528834.6, 187205.8], [528840.2, 187217.8], [528857.1, 187221.3], [528897.2, 187234.9], [528943.5, 187246.1], [528957.9, 187251.6], [528970.5, 187260.8], [529040.5, 187320.8], [529067.3, 187344.9], [529083.4, 187359.3], [529095.5, 187373.4], [529111.1, 187384.5], [529112.4, 187385.6], [529118.2, 187389.6], [529131.5, 187369.5], [529133.8, 187366.0], [529154.6, 187332.9], [529183.5, 187288.0], [529217.3, 187232.8], [529235.8, 187201.0], [529247.0, 187175.9], [529278.0, 187115.1], [529311.6, 187048.9], [529322.8, 187027.0], [529341.0, 187000.3], [529368.7, 186956.5], [529387.9, 186943.1], [529410.4, 186934.6], [529441.9, 186923.9], [529457.4, 186917.5], [529464.8, 186920.7], [529475.0, 186928.7], [529483.0, 186936.7], [529505.9, 186972.0], [529529.3, 187002.8], [529547.6, 187028.0], [529567.7, 187056.6], [529582.8, 187080.4], [529590.8, 187089.4], [529602.5, 187084.5], [529621.8, 187068.1], [529641.6, 187050.5], [529660.2, 187033.0], [529673.1, 187019.5], [529692.8, 187002.4], [529733.9, 186965.0], [529759.0, 186940.5], [529782.0, 186921.2], [529804.4, 186901.0], [529819.3, 186888.7], [529840.7, 186868.9], [529852.4, 186857.2], [529865.8, 186843.3], [529892.4, 186818.8]]]}}, {\\\"id\\\": \\\"13\\\", \\\"type\\\": \\\"Feature\\\", \\\"properties\\\": {\\\"name\\\": \\\"Finsbury Park\\\", \\\"gss_code\\\": \\\"E05000371\\\", \\\"HECTARES\\\": 91.626, \\\"NONLD_AREA\\\": 0.0, \\\"LB_GSS_CD\\\": \\\"E09000019\\\", \\\"BOROUGH\\\": \\\"Islington\\\", \\\"POLY_ID\\\": 117410, \\\"ward_name\\\": \\\"Finsbury Park\\\", \\\"avg_age\\\": 33.5391419417746, \\\"avg_yearly_income\\\": 31750, \\\"cluster\\\": \\\"0.0\\\"}, \\\"geometry\\\": {\\\"type\\\": \\\"Polygon\\\", \\\"coordinates\\\": [[[530643.9, 185815.3], [530619.5, 185841.9], [530463.8, 186000.9], [530451.1, 186012.9], [530435.8, 186028.7], [530403.3, 186056.9], [530352.0, 186114.3], [530338.4, 186128.0], [530317.5, 186146.8], [530201.1, 186267.4], [530191.4, 186278.1], [530175.9, 186296.9], [530135.9, 186350.6], [530181.5, 186381.9], [530199.5, 186397.9], [530209.5, 186408.9], [530233.6, 186425.0], [530260.6, 186439.0], [530310.8, 186472.1], [530374.9, 186515.2], [530422.0, 186549.2], [530470.1, 186581.3], [530525.6, 186615.9], [530516.6, 186628.9], [530498.3, 186655.8], [530547.5, 186698.8], [530567.4, 186676.7], [530597.9, 186704.3], [530631.5, 186739.7], [530655.8, 186763.5], [530693.4, 186801.8], [530687.9, 186807.3], [530667.3, 186826.4], [530682.3, 186845.7], [530714.7, 186814.1], [530745.5, 186833.6], [530757.3, 186845.7], [530753.5, 186848.2], [530775.1, 186865.7], [530798.9, 186881.5], [530815.1, 186892.4], [530843.7, 186910.6], [530857.5, 186923.8], [530887.7, 186952.2], [530908.4, 186967.9], [530904.8, 186971.2], [530927.1, 186994.3], [530917.9, 187002.5], [530923.5, 187008.1], [530919.7, 187011.7], [530930.2, 187023.5], [530920.6, 187032.0], [530925.4, 187037.1], [530936.1, 187051.3], [530954.7, 187070.4], [530997.5, 187026.2], [531054.0, 187078.6], [531044.6, 187089.0], [531043.2, 187088.3], [531002.3, 187133.7], [531020.0, 187151.2], [531017.6, 187154.1], [531033.6, 187169.9], [531040.9, 187177.2], [531040.5, 187178.3], [531040.2, 187179.1], [531043.6, 187182.8], [531039.7, 187186.9], [531045.3, 187192.8], [531043.6, 187194.4], [531030.4, 187207.3], [531039.1, 187216.9], [531041.6, 187215.0], [531065.3, 187196.9], [531138.4, 187128.9], [531156.3, 187113.7], [531173.4, 187098.0], [531187.7, 187083.8], [531201.4, 187068.8], [531208.7, 187060.2], [531242.8, 187020.0], [531248.1, 187012.7], [531259.6, 186993.9], [531279.7, 186970.0], [531301.7, 186947.4], [531310.1, 186938.0], [531329.4, 186915.2], [531360.0, 186883.9], [531455.0, 186785.8], [531473.2, 186800.7], [531482.7, 186808.5], [531487.1, 186802.8], [531487.9, 186801.8], [531479.8, 186794.3], [531430.2, 186752.5], [531409.8, 186734.8], [531385.6, 186716.6], [531365.0, 186703.2], [531328.3, 186668.6], [531326.1, 186612.3], [531320.5, 186541.7], [531308.5, 186423.9], [531303.5, 186390.9], [531292.5, 186331.3], [531279.1, 186270.0], [531268.5, 186233.3], [531243.6, 186147.1], [531237.9, 186123.0], [531225.6, 186089.4], [531215.8, 186059.1], [531189.7, 185992.0], [531162.7, 185932.8], [531156.7, 185920.8], [531139.6, 185930.8], [531088.5, 186030.1], [531063.5, 186076.2], [531059.5, 186074.2], [531033.4, 186087.2], [531024.4, 186073.2], [531016.4, 186062.1], [531008.3, 186056.1], [530983.3, 186042.1], [530920.1, 186007.0], [530847.0, 185962.9], [530798.9, 185934.8], [530747.7, 185903.8], [530723.7, 185888.7], [530690.6, 185857.7], [530643.9, 185815.3]]]}}, {\\\"id\\\": \\\"14\\\", \\\"type\\\": \\\"Feature\\\", \\\"properties\\\": {\\\"name\\\": \\\"Hillrise\\\", \\\"gss_code\\\": \\\"E05000374\\\", \\\"HECTARES\\\": 82.471, \\\"NONLD_AREA\\\": 0.0, \\\"LB_GSS_CD\\\": \\\"E09000019\\\", \\\"BOROUGH\\\": \\\"Islington\\\", \\\"POLY_ID\\\": 117406, \\\"ward_name\\\": \\\"Hillrise\\\", \\\"avg_age\\\": 34.9841444802442, \\\"avg_yearly_income\\\": 36370, \\\"cluster\\\": \\\"2.0\\\"}, \\\"geometry\\\": {\\\"type\\\": \\\"Polygon\\\", \\\"coordinates\\\": [[[529452.5, 187650.2], [529454.6, 187652.2], [529473.9, 187667.5], [529483.1, 187673.7], [529495.1, 187680.6], [529503.3, 187684.9], [529525.8, 187694.7], [529555.8, 187709.5], [529568.3, 187716.6], [529576.5, 187722.8], [529591.7, 187731.4], [529604.9, 187736.3], [529616.8, 187739.3], [529650.9, 187748.1], [529704.5, 187761.4], [529730.5, 187766.5], [529773.2, 187777.1], [529859.8, 187803.9], [529885.7, 187800.4], [529909.7, 187802.4], [529915.1, 187802.1], [529926.9, 187800.1], [529947.7, 187794.2], [529953.1, 187791.7], [530000.0, 187795.1], [530000.1, 187795.1], [530025.7, 187799.3], [530041.2, 187802.3], [530052.7, 187806.2], [530058.9, 187809.1], [530061.7, 187822.1], [530063.1, 187832.2], [530066.4, 187831.9], [530073.5, 187831.1], [530081.9, 187830.6], [530093.1, 187837.8], [530103.8, 187850.5], [530111.5, 187861.4], [530113.0, 187863.3], [530116.2, 187867.1], [530127.7, 187868.2], [530139.7, 187869.7], [530150.9, 187870.4], [530210.1, 187903.6], [530212.8, 187897.0], [530252.3, 187914.8], [530253.6, 187915.4], [530254.9, 187911.1], [530380.5, 187962.3], [530399.6, 187968.2], [530405.3, 187968.6], [530407.3, 187968.7], [530418.1, 187941.1], [530429.6, 187912.0], [530427.9, 187910.3], [530436.7, 187901.5], [530454.5, 187883.7], [530453.9, 187883.3], [530414.0, 187848.4], [530408.6, 187843.7], [530443.5, 187842.9], [530457.1, 187842.6], [530501.3, 187832.1], [530531.6, 187825.0], [530546.6, 187820.9], [530556.2, 187809.2], [530575.3, 187785.8], [530571.7, 187785.9], [530560.2, 187785.9], [530550.4, 187784.7], [530550.4, 187776.0], [530549.8, 187769.3], [530548.5, 187763.1], [530544.8, 187755.7], [530536.2, 187747.7], [530512.8, 187726.7], [530465.3, 187673.1], [530433.9, 187643.5], [530411.7, 187620.7], [530409.2, 187618.2], [530429.5, 187597.9], [530442.5, 187583.7], [530427.7, 187570.1], [530416.6, 187558.4], [530409.8, 187551.6], [530402.4, 187559.0], [530389.5, 187570.7], [530380.8, 187579.4], [530367.3, 187563.3], [530358.0, 187554.1], [530356.8, 187552.2], [530348.2, 187543.6], [530337.1, 187533.7], [530322.9, 187519.0], [530309.3, 187504.2], [530302.5, 187498.6], [530284.1, 187484.4], [530266.8, 187471.5], [530269.9, 187467.2], [530250.1, 187454.2], [530226.7, 187438.2], [530205.8, 187424.0], [530202.7, 187422.2], [530198.4, 187427.1], [530186.0, 187418.5], [530166.9, 187406.7], [530169.4, 187401.8], [530162.0, 187396.9], [530158.3, 187395.0], [530152.9, 187392.6], [530155.2, 187385.2], [530158.3, 187372.2], [530162.6, 187360.5], [530166.3, 187350.6], [530166.9, 187349.4], [530155.8, 187343.2], [530147.8, 187337.7], [530140.4, 187335.8], [530128.7, 187333.4], [530118.8, 187332.1], [530114.3, 187331.3], [530116.2, 187318.4], [530121.4, 187272.3], [530125.6, 187250.9], [530131.0, 187230.1], [530177.1, 187156.6], [530128.2, 187111.9], [530110.7, 187093.8], [530088.0, 187067.9], [530065.8, 187039.8], [530049.5, 187023.0], [530032.0, 187002.2], [530000.1, 186959.4], [529931.0, 186869.2], [529892.4, 186818.8], [529865.8, 186843.3], [529852.4, 186857.2], [529840.7, 186868.9], [529819.3, 186888.7], [529804.4, 186901.0], [529782.0, 186921.2], [529759.0, 186940.5], [529733.9, 186965.0], [529692.8, 187002.4], [529673.1, 187019.5], [529660.2, 187033.0], [529641.6, 187050.5], [529621.8, 187068.1], [529602.5, 187084.5], [529590.8, 187089.4], [529582.8, 187080.4], [529567.7, 187056.6], [529547.6, 187028.0], [529529.3, 187002.8], [529505.9, 186972.0], [529483.0, 186936.7], [529475.0, 186928.7], [529464.8, 186920.7], [529457.4, 186917.5], [529441.9, 186923.9], [529410.4, 186934.6], [529387.9, 186943.1], [529368.7, 186956.5], [529341.0, 187000.3], [529322.8, 187027.0], [529311.6, 187048.9], [529278.0, 187115.1], [529247.0, 187175.9], [529235.8, 187201.0], [529217.3, 187232.8], [529183.5, 187288.0], [529154.6, 187332.9], [529133.8, 187366.0], [529131.5, 187369.5], [529118.2, 187389.6], [529136.7, 187402.5], [529169.1, 187428.8], [529190.3, 187441.7], [529217.1, 187456.9], [529230.0, 187465.3], [529240.4, 187473.6], [529266.2, 187496.6], [529284.3, 187508.5], [529304.9, 187521.2], [529328.4, 187537.8], [529333.0, 187541.2], [529398.4, 187601.5], [529452.5, 187650.2]]]}}, {\\\"id\\\": \\\"15\\\", \\\"type\\\": \\\"Feature\\\", \\\"properties\\\": {\\\"name\\\": \\\"Mildmay\\\", \\\"gss_code\\\": \\\"E05000377\\\", \\\"HECTARES\\\": 82.68, \\\"NONLD_AREA\\\": 0.0, \\\"LB_GSS_CD\\\": \\\"E09000019\\\", \\\"BOROUGH\\\": \\\"Islington\\\", \\\"POLY_ID\\\": 50699, \\\"ward_name\\\": \\\"Mildmay\\\", \\\"avg_age\\\": 33.5624370983975, \\\"avg_yearly_income\\\": 36780, \\\"cluster\\\": \\\"4.0\\\"}, \\\"geometry\\\": {\\\"type\\\": \\\"Polygon\\\", \\\"coordinates\\\": [[[531942.3, 184812.7], [531948.5, 184863.4], [531958.5, 184938.6], [531961.5, 184954.6], [531983.5, 184964.6], [532008.6, 184974.7], [532051.7, 184991.7], [532070.6, 185000.0], [532083.8, 185005.7], [532094.8, 185012.8], [532090.8, 185020.8], [532088.8, 185034.8], [532086.8, 185040.8], [532100.8, 185063.9], [532113.8, 185084.9], [532130.9, 185105.0], [532150.9, 185123.0], [532168.0, 185138.0], [532186.0, 185151.1], [532214.0, 185163.7], [532209.8, 185170.4], [532194.5, 185225.8], [532192.1, 185234.4], [532213.7, 185242.3], [532213.1, 185249.3], [532212.1, 185263.3], [532208.3, 185302.7], [532216.1, 185312.4], [532216.1, 185338.5], [532232.4, 185337.8], [532246.3, 185338.7], [532257.2, 185342.5], [532262.2, 185346.5], [532267.5, 185352.7], [532268.8, 185353.6], [532287.8, 185335.3], [532301.6, 185336.2], [532306.4, 185336.5], [532310.6, 185342.0], [532312.3, 185344.8], [532316.4, 185342.7], [532325.7, 185363.5], [532338.6, 185360.8], [532338.7, 185361.0], [532338.9, 185369.0], [532335.6, 185399.2], [532327.3, 185468.8], [532326.3, 185480.0], [532318.9, 185557.7], [532315.1, 185557.0], [532314.3, 185584.0], [532313.2, 185603.0], [532354.4, 185603.1], [532351.4, 185633.2], [532347.4, 185670.2], [532372.9, 185673.7], [532405.5, 185677.3], [532431.7, 185676.9], [532463.6, 185676.3], [532488.1, 185676.3], [532488.2, 185645.9], [532498.3, 185645.7], [532513.6, 185645.3], [532525.2, 185638.3], [532533.6, 185633.7], [532541.2, 185628.1], [532549.5, 185620.9], [532565.9, 185602.4], [532583.0, 185610.9], [532614.6, 185626.7], [532676.0, 185516.7], [532682.3, 185511.4], [532689.7, 185503.5], [532703.5, 185495.0], [532728.9, 185487.2], [532743.2, 185482.8], [532762.7, 185477.6], [532773.8, 185473.5], [532779.5, 185470.5], [532793.0, 185462.2], [532824.1, 185438.2], [532833.6, 185433.7], [532840.6, 185431.4], [532847.8, 185429.8], [532856.2, 185428.9], [532889.8, 185422.3], [532894.4, 185421.9], [532902.7, 185422.5], [532911.9, 185425.2], [532957.8, 185433.3], [532992.2, 185435.3], [533138.0, 185421.0], [533196.0, 185415.1], [533218.6, 185411.2], [533235.3, 185405.3], [533245.6, 185397.4], [533250.6, 185392.5], [533254.0, 185389.4], [533263.1, 185381.1], [533284.1, 185353.4], [533296.6, 185332.6], [533301.4, 185323.7], [533310.0, 185310.5], [533367.7, 185170.8], [533381.4, 185143.0], [533427.1, 185061.5], [533439.9, 185034.3], [533451.7, 185004.4], [533453.8, 185000.0], [533460.8, 184979.7], [533476.1, 184911.4], [533478.9, 184873.4], [533482.7, 184837.7], [533484.5, 184812.1], [533483.3, 184804.3], [533452.1, 184773.1], [533348.9, 184788.4], [533251.6, 184797.8], [533012.0, 184816.8], [532965.3, 184818.6], [532931.8, 184820.8], [532917.2, 184820.3], [532903.0, 184819.4], [532874.5, 184813.3], [532843.5, 184811.1], [532733.1, 184818.2], [532685.8, 184830.4], [532632.9, 184838.9], [532610.3, 184841.2], [532591.6, 184841.9], [532584.6, 184842.4], [532536.0, 184846.0], [532483.0, 184851.9], [532411.3, 184859.0], [532340.1, 184868.2], [532304.9, 184869.4], [532220.2, 184866.7], [532112.6, 184872.8], [532074.7, 184873.0], [532068.6, 184872.2], [532062.5, 184870.7], [532057.9, 184869.0], [532049.1, 184864.2], [531984.9, 184832.7], [531942.3, 184812.7]]]}}]}\",\"selected\":{\"id\":\"4696\",\"type\":\"Selection\"},\"selection_policy\":{\"id\":\"4697\",\"type\":\"UnionRenderers\"}},\"id\":\"4640\",\"type\":\"GeoJSONDataSource\"},{\"attributes\":{},\"id\":\"4694\",\"type\":\"BasicTickFormatter\"},{\"attributes\":{\"fill_alpha\":{\"value\":0.9},\"fill_color\":{\"field\":\"cluster\",\"transform\":{\"id\":\"4641\",\"type\":\"CategoricalColorMapper\"}},\"line_alpha\":{\"value\":0.9},\"line_color\":{\"field\":\"cluster\",\"transform\":{\"id\":\"4641\",\"type\":\"CategoricalColorMapper\"}},\"xs\":{\"field\":\"xs\"},\"ys\":{\"field\":\"ys\"}},\"id\":\"4679\",\"type\":\"Patches\"},{\"attributes\":{\"formatter\":{\"id\":\"4692\",\"type\":\"BasicTickFormatter\"},\"plot\":{\"id\":\"4643\",\"subtype\":\"Figure\",\"type\":\"Plot\"},\"ticker\":{\"id\":\"4659\",\"type\":\"BasicTicker\"},\"visible\":false},\"id\":\"4658\",\"type\":\"LinearAxis\"},{\"attributes\":{\"source\":{\"id\":\"4640\",\"type\":\"GeoJSONDataSource\"}},\"id\":\"4682\",\"type\":\"CDSView\"},{\"attributes\":{},\"id\":\"4731\",\"type\":\"Selection\"},{\"attributes\":{},\"id\":\"4773\",\"type\":\"Selection\"},{\"attributes\":{},\"id\":\"4649\",\"type\":\"LinearScale\"},{\"attributes\":{\"data_source\":{\"id\":\"4640\",\"type\":\"GeoJSONDataSource\"},\"glyph\":{\"id\":\"4679\",\"type\":\"Patches\"},\"hover_glyph\":null,\"muted_glyph\":null,\"nonselection_glyph\":{\"id\":\"4680\",\"type\":\"Patches\"},\"selection_glyph\":null,\"view\":{\"id\":\"4682\",\"type\":\"CDSView\"}},\"id\":\"4681\",\"type\":\"GlyphRenderer\"},{\"attributes\":{\"active_drag\":\"auto\",\"active_inspect\":\"auto\",\"active_multi\":null,\"active_scroll\":\"auto\",\"active_tap\":\"auto\",\"tools\":[{\"id\":\"4663\",\"type\":\"PanTool\"},{\"id\":\"4664\",\"type\":\"WheelZoomTool\"},{\"id\":\"4665\",\"type\":\"BoxZoomTool\"},{\"id\":\"4666\",\"type\":\"SaveTool\"},{\"id\":\"4667\",\"type\":\"ResetTool\"},{\"id\":\"4668\",\"type\":\"HelpTool\"},{\"id\":\"4683\",\"type\":\"HoverTool\"}]},\"id\":\"4669\",\"type\":\"Toolbar\"},{\"attributes\":{\"data_source\":{\"id\":\"4716\",\"type\":\"ColumnDataSource\"},\"glyph\":{\"id\":\"4717\",\"type\":\"Circle\"},\"hover_glyph\":null,\"muted_glyph\":null,\"nonselection_glyph\":{\"id\":\"4718\",\"type\":\"Circle\"},\"selection_glyph\":null,\"view\":{\"id\":\"4720\",\"type\":\"CDSView\"}},\"id\":\"4719\",\"type\":\"GlyphRenderer\"},{\"attributes\":{\"callback\":null,\"point_policy\":\"follow_mouse\",\"tooltips\":\"<b>Ward</b>: @name<br/><b>Cluster</b>: @cluster<br/><b>Avg Age</b>: @avg_age<br/><b>Avg Income</b>: @avg_yearly_income<br/><b>GSS_CODE</b>: @gss_code\"},\"id\":\"4683\",\"type\":\"HoverTool\"}],\"root_ids\":[\"4643\"]},\"title\":\"Bokeh Application\",\"version\":\"1.0.4\"}};\n",
       "  var render_items = [{\"docid\":\"8b78d511-665d-43da-9d53-9ffe0088c3bc\",\"roots\":{\"4643\":\"473cbbad-b83a-453c-ba52-7f53f0e4a44e\"}}];\n",
       "  root.Bokeh.embed.embed_items_notebook(docs_json, render_items);\n",
       "\n",
       "  }\n",
       "  if (root.Bokeh !== undefined) {\n",
       "    embed_document(root);\n",
       "  } else {\n",
       "    var attempts = 0;\n",
       "    var timer = setInterval(function(root) {\n",
       "      if (root.Bokeh !== undefined) {\n",
       "        embed_document(root);\n",
       "        clearInterval(timer);\n",
       "      }\n",
       "      attempts++;\n",
       "      if (attempts > 100) {\n",
       "        console.log(\"Bokeh: ERROR: Unable to run BokehJS code because BokehJS library is missing\");\n",
       "        clearInterval(timer);\n",
       "      }\n",
       "    }, 10, root)\n",
       "  }\n",
       "})(window);"
      ],
      "application/vnd.bokehjs_exec.v0+json": ""
     },
     "metadata": {
      "application/vnd.bokehjs_exec.v0+json": {
       "id": "4643"
      }
     },
     "output_type": "display_data"
    }
   ],
   "source": [
    "geo_source = GeoJSONDataSource(geojson=islington_wards_ext.to_json())\n",
    "\n",
    "labels = islington_wards_ext.cluster.drop_duplicates()\n",
    "color_mapper = CategoricalColorMapper(factors=labels.tolist(), palette=RdBu[len(labels.tolist())] )\n",
    "\n",
    "fig = figure(title='Islington Wards Clustering by Avg Age & Avg Income', toolbar_location=None)\n",
    "fig.patches(xs='xs', ys='ys', alpha=0.9, source=geo_source,\n",
    "            color={'field': 'cluster', 'transform': color_mapper}\n",
    "         )\n",
    "\n",
    "hover = HoverTool(\n",
    "    point_policy='follow_mouse',\n",
    "    tooltips='<b>Ward</b>: @name<br/><b>Cluster</b>: @cluster<br/><b>Avg Age</b>: @avg_age<br/><b>Avg Income</b>: @avg_yearly_income<br/><b>GSS_CODE</b>: @gss_code'\n",
    ")\n",
    "fig.add_tools(hover)\n",
    "\n",
    "fig.xaxis.visible = False\n",
    "fig.yaxis.visible = False\n",
    "fig.grid.visible = False\n",
    "\n",
    "# workaround to setup a legend as attribute legend doesn't work for patches!\n",
    "for factor, color in zip(color_mapper.factors, color_mapper.palette):\n",
    "    fig.circle(x=[], y=[], fill_color=color, legend=factor)\n",
    "    \n",
    "show(fig)"
   ]
  },
  {
   "cell_type": "markdown",
   "metadata": {},
   "source": [
    "## Use Elbow test to decide on the number of clusters:"
   ]
  },
  {
   "cell_type": "code",
   "execution_count": 96,
   "metadata": {},
   "outputs": [
    {
     "data": {
      "text/plain": [
       "Text(0.5, 1.0, 'Elbow Curve Analysis')"
      ]
     },
     "execution_count": 96,
     "metadata": {},
     "output_type": "execute_result"
    },
    {
     "data": {
      "image/png": "[encoded data removed]",
      "text/plain": [
       "<Figure size 432x288 with 1 Axes>"
      ]
     },
     "metadata": {
      "needs_background": "light"
     },
     "output_type": "display_data"
    }
   ],
   "source": [
    "x = data['avg_age'].values\n",
    "y = data['avg_yearly_income'].values\n",
    "x_train_scale = scale(x_train)\n",
    "\n",
    "n_clusters = np.arange(1, 10)\n",
    "kmeans = [KMeans(n_clusters=n) for n in n_clusters]\n",
    "score = [kmeans[n-1].fit(x_train_scale).score(x_train_scale) for n in n_clusters]\n",
    "\n",
    "plt.plot(n_clusters, score)\n",
    "plt.xlabel('number of clusters')\n",
    "plt.ylabel('score')\n",
    "plt.title('Elbow Curve Analysis')"
   ]
  },
  {
   "cell_type": "markdown",
   "metadata": {},
   "source": [
    "#### Looking at the Elbow Curve Analysis, for our problem, 6 clusters seems optimal."
   ]
  },
  {
   "cell_type": "code",
   "execution_count": null,
   "metadata": {},
   "outputs": [],
   "source": []
  }
 ],
 "metadata": {
  "kernelspec": {
   "display_name": "ml368",
   "language": "python",
   "name": "ml368"
  },
  "language_info": {
   "codemirror_mode": {
    "name": "ipython",
    "version": 3
   },
   "file_extension": ".py",
   "mimetype": "text/x-python",
   "name": "python",
   "nbconvert_exporter": "python",
   "pygments_lexer": "ipython3",
   "version": "3.6.8"
  }
 },
 "nbformat": 4,
 "nbformat_minor": 2
}
