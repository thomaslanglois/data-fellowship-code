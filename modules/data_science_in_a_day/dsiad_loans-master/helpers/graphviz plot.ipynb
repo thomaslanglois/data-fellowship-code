{
 "cells": [
  {
   "cell_type": "code",
   "execution_count": null,
   "metadata": {},
   "outputs": [],
   "source": [
    "# Let's define a function for plotting our decision tree!\n",
    "def plotTree():\n",
    "    dot_data = export_graphviz(tree_model, \n",
    "                                    out_file=None, \n",
    "                                    feature_names=train_feats.columns,\n",
    "                                    filled=True, \n",
    "                                    rounded=True, class_names = ['No', 'Yes'])\n",
    "    graph = graphviz.Source(dot_data)\n",
    "    return graph "
   ]
  }
 ],
 "metadata": {
  "kernelspec": {
   "display_name": "Python 3",
   "language": "python",
   "name": "python3"
  },
  "language_info": {
   "codemirror_mode": {
    "name": "ipython",
    "version": 3
   },
   "file_extension": ".py",
   "mimetype": "text/x-python",
   "name": "python",
   "nbconvert_exporter": "python",
   "pygments_lexer": "ipython3",
   "version": "3.6.8"
  }
 },
 "nbformat": 4,
 "nbformat_minor": 2
}
