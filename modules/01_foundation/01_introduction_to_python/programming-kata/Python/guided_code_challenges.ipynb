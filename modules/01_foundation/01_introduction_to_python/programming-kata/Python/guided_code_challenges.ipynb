{
 "cells": [
  {
   "cell_type": "markdown",
   "metadata": {},
   "source": [
    "# Code Katas\n",
    "\n",
    "A coding kata is a short exercise to help practice programming skills in short bursts.\n",
    "\n",
    "Get started programming in Python using these katas below.\n",
    "\n",
    "Your best resources to help you solve these challenges will be Google, StackOverflow and the official Python documentation."
   ]
  },
  {
   "cell_type": "code",
   "execution_count": null,
   "metadata": {},
   "outputs": [],
   "source": [
    "***\n",
    "## Kata #0\n",
    "### Opposite number\n",
    "Very simple, given a number, find its opposite.\n",
    "\n",
    "Examples:\n",
    "```\n",
    "1: -1\n",
    "14: -14\n",
    "-34: 34\n",
    "```\n",
    "But can you do it in 1 line of code and without any conditionals?"
   ]
  },
  {
   "cell_type": "markdown",
   "metadata": {},
   "source": [
    "#### Code\n",
    "Try solving this challenge by modifying the code block below."
   ]
  },
  {
   "cell_type": "code",
   "execution_count": 1,
   "metadata": {},
   "outputs": [],
   "source": [
    "def opposite(number):\n",
    "    return -number"
   ]
  },
  {
   "cell_type": "markdown",
   "metadata": {},
   "source": [
    "#### Tests\n",
    "The code blocks below should execute properly once you have written the code above."
   ]
  },
  {
   "cell_type": "code",
   "execution_count": 2,
   "metadata": {
    "scrolled": true
   },
   "outputs": [
    {
     "name": "stdout",
     "output_type": "stream",
     "text": [
      "Expected output: -1\n",
      "Your function outputs:  -1\n"
     ]
    }
   ],
   "source": [
    "# Test Case 1: opposite(1)\n",
    "print('Expected output: -1')\n",
    "print('Your function outputs: ', opposite(1))"
   ]
  },
  {
   "cell_type": "code",
   "execution_count": 3,
   "metadata": {},
   "outputs": [
    {
     "name": "stdout",
     "output_type": "stream",
     "text": [
      "Expected output: 10\n",
      "Your function outputs:  10\n"
     ]
    }
   ],
   "source": [
    "# Test Case 2: opposite(-10)\n",
    "print('Expected output: 10')\n",
    "print('Your function outputs: ', opposite(-10))"
   ]
  },
  {
   "cell_type": "code",
   "execution_count": 4,
   "metadata": {},
   "outputs": [
    {
     "name": "stdout",
     "output_type": "stream",
     "text": [
      "Expected output: -392\n",
      "Your function outputs:  -392\n"
     ]
    }
   ],
   "source": [
    "# Test Case 3: opposite(392)\n",
    "print('Expected output: -392')\n",
    "print('Your function outputs: ', opposite(392))"
   ]
  },
  {
   "cell_type": "markdown",
   "metadata": {},
   "source": [
    "***\n",
    "## Challenge #1\n",
    "### Find the smallest integer in the array\n",
    "Given an array of integers your solution should find the smallest integer.\n",
    "\n",
    "For example:\n",
    "\n",
    "Given [34, 15, 88, 2] your solution will return 2.\n",
    "Given [34, -345, -1, 100] your solution will return -345.\n",
    "You can assume, for the purpose of this kata, that the supplied array will not be empty."
   ]
  },
  {
   "cell_type": "markdown",
   "metadata": {},
   "source": [
    "#### Code\n",
    "Try solving this challenge by modifying the code block below."
   ]
  },
  {
   "cell_type": "code",
   "execution_count": 5,
   "metadata": {},
   "outputs": [],
   "source": [
    "def find_smallest_int(arr):\n",
    "    return min(arr)"
   ]
  },
  {
   "cell_type": "markdown",
   "metadata": {},
   "source": [
    "#### Tests\n",
    "The code blocks below should execute properly once you have written the code above."
   ]
  },
  {
   "cell_type": "code",
   "execution_count": 6,
   "metadata": {},
   "outputs": [
    {
     "name": "stdout",
     "output_type": "stream",
     "text": [
      "Expected output: 11\n",
      "Your function outputs:  11\n"
     ]
    }
   ],
   "source": [
    "# Test Case 1: find_smallest_int([78, 56, 232, 12, 11, 43])\n",
    "print('Expected output: 11')\n",
    "print('Your function outputs: ', find_smallest_int([78, 56, 232, 12, 11, 43]))"
   ]
  },
  {
   "cell_type": "code",
   "execution_count": 7,
   "metadata": {},
   "outputs": [
    {
     "name": "stdout",
     "output_type": "stream",
     "text": [
      "Expected output: -33\n",
      "Your function outputs:  -33\n"
     ]
    }
   ],
   "source": [
    "# Test Case 2: find_smallest_int([78, 56, -2, 12, 8, -33])\n",
    "print('Expected output: -33')\n",
    "print('Your function outputs: ', find_smallest_int([78, 56, -2, 12, 8, -33]))"
   ]
  },
  {
   "cell_type": "code",
   "execution_count": 8,
   "metadata": {},
   "outputs": [
    {
     "name": "stdout",
     "output_type": "stream",
     "text": [
      "Expected output: -18446744073709551615\n",
      "Your function outputs:  -18446744073709551615\n"
     ]
    }
   ],
   "source": [
    "# Test Case 3: find_smallest_int([0, 1-2**64, 2**64])\n",
    "print('Expected output: -18446744073709551615')\n",
    "print('Your function outputs: ', find_smallest_int([0, 1-2**64, 2**64]))"
   ]
  },
  {
   "cell_type": "markdown",
   "metadata": {},
   "source": [
    "***\n",
    "## Challenge #2\n",
    "### Even or Odd\n",
    "Create a function (or write a script in Shell) that takes an integer as an argument and returns \"Even\" for even numbers or \"Odd\" for odd numbers."
   ]
  },
  {
   "cell_type": "markdown",
   "metadata": {},
   "source": [
    "#### Code\n",
    "Try solving this challenge by modifying the code block below."
   ]
  },
  {
   "cell_type": "code",
   "execution_count": 11,
   "metadata": {},
   "outputs": [],
   "source": [
    "def even_or_odd(number):\n",
    "    if number % 2 == 0:\n",
    "        return 'Even' \n",
    "    return 'Odd'"
   ]
  },
  {
   "cell_type": "markdown",
   "metadata": {},
   "source": [
    "#### Tests\n",
    "The code blocks below should execute properly once you have written the code above."
   ]
  },
  {
   "cell_type": "code",
   "execution_count": 12,
   "metadata": {},
   "outputs": [
    {
     "name": "stdout",
     "output_type": "stream",
     "text": [
      "Expected output: Even\n",
      "Your function outputs:  Even\n"
     ]
    }
   ],
   "source": [
    "# Test Case 1: even_or_odd(2)\n",
    "print('Expected output: Even')\n",
    "print('Your function outputs: ', even_or_odd(2))"
   ]
  },
  {
   "cell_type": "code",
   "execution_count": 13,
   "metadata": {},
   "outputs": [
    {
     "name": "stdout",
     "output_type": "stream",
     "text": [
      "Expected output: Odd\n",
      "Your function outputs:  Odd\n"
     ]
    }
   ],
   "source": [
    "# Test Case 2: even_or_odd(7)\n",
    "print('Expected output: Odd')\n",
    "print('Your function outputs: ', even_or_odd(7))"
   ]
  },
  {
   "cell_type": "code",
   "execution_count": 14,
   "metadata": {},
   "outputs": [
    {
     "name": "stdout",
     "output_type": "stream",
     "text": [
      "Expected output: Even\n",
      "Your function outputs:  Even\n"
     ]
    }
   ],
   "source": [
    "# Test Case 3: even_or_odd(0)\n",
    "print('Expected output: Even')\n",
    "print('Your function outputs: ', even_or_odd(0))"
   ]
  },
  {
   "cell_type": "code",
   "execution_count": 15,
   "metadata": {},
   "outputs": [
    {
     "name": "stdout",
     "output_type": "stream",
     "text": [
      "Expected output: Odd\n",
      "Your function outputs:  Odd\n"
     ]
    }
   ],
   "source": [
    "# Test Case 1: even_or_odd(1)\n",
    "print('Expected output: Odd')\n",
    "print('Your function outputs: ', even_or_odd(1))"
   ]
  },
  {
   "cell_type": "markdown",
   "metadata": {},
   "source": [
    "***\n",
    "## Challenge #3\n",
    "### String repeat\n",
    "Write a function called `repeatStr` which repeats the given string string exactly `n` times.\n",
    "```\n",
    "repeatStr(6, \"I\") // \"IIIIII\"\n",
    "repeatStr(5, \"Hello\") // \"HelloHelloHelloHelloHello\"\n",
    "```"
   ]
  },
  {
   "cell_type": "markdown",
   "metadata": {},
   "source": [
    "#### Code\n",
    "Try solving this challenge by modifying the code block below."
   ]
  },
  {
   "cell_type": "code",
   "execution_count": 17,
   "metadata": {},
   "outputs": [],
   "source": [
    "def repeat_str(repeat, string):\n",
    "    if repeat == 1:\n",
    "        return string\n",
    "    else:\n",
    "        return string + repeat_str(repeat - 1, string)"
   ]
  },
  {
   "cell_type": "markdown",
   "metadata": {},
   "source": [
    "#### Tests\n",
    "The code blocks below should execute properly once you have written the code above."
   ]
  },
  {
   "cell_type": "code",
   "execution_count": 18,
   "metadata": {},
   "outputs": [
    {
     "name": "stdout",
     "output_type": "stream",
     "text": [
      "Expected output: aaaa\n",
      "Your function outputs:  aaaa\n"
     ]
    }
   ],
   "source": [
    "# Test Case 1: repeat_str(4, 'a')\n",
    "print('Expected output: aaaa')\n",
    "print('Your function outputs: ', repeat_str(4, 'a'))"
   ]
  },
  {
   "cell_type": "code",
   "execution_count": 19,
   "metadata": {},
   "outputs": [
    {
     "name": "stdout",
     "output_type": "stream",
     "text": [
      "Expected output: hellohellohello\n",
      "Your function outputs:  hellohellohello\n"
     ]
    }
   ],
   "source": [
    "# Test Case 2: repeat_str(3, 'hello')\n",
    "print('Expected output: hellohellohello')\n",
    "print('Your function outputs: ', repeat_str(3, 'hello'))"
   ]
  },
  {
   "cell_type": "code",
   "execution_count": 20,
   "metadata": {},
   "outputs": [
    {
     "name": "stdout",
     "output_type": "stream",
     "text": [
      "Expected output: abcabc\n",
      "Your function outputs:  abcabc\n"
     ]
    }
   ],
   "source": [
    "# Test Case 3: repeat_str(a, 'abc')\n",
    "print('Expected output: abcabc')\n",
    "print('Your function outputs: ', repeat_str(2, 'abc'))"
   ]
  },
  {
   "cell_type": "markdown",
   "metadata": {},
   "source": [
    "***\n",
    "## Challenge #4\n",
    "### String repeat\n",
    "**Introduction**\n",
    "The first century spans from the year 1 up to and including the year 100, The second - from the year 101 up to and including the year 200, etc.\n",
    "\n",
    "**Task**\n",
    "Given a year, return the century it is in.\n",
    "\n",
    "Input, Output Examples\n",
    "```\n",
    "century(1705)  # returns 18\n",
    "century(1900)  # returns 19\n",
    "century(1601)  # returns 17\n",
    "century(2000)  # returns 20\n",
    "```"
   ]
  },
  {
   "cell_type": "markdown",
   "metadata": {},
   "source": [
    "#### Code\n",
    "Try solving this challenge by modifying the code block below."
   ]
  },
  {
   "cell_type": "code",
   "execution_count": 23,
   "metadata": {},
   "outputs": [],
   "source": [
    "def century(year):\n",
    "    return (year - 1) // 100 + 1"
   ]
  },
  {
   "cell_type": "markdown",
   "metadata": {},
   "source": [
    "#### Tests\n",
    "The code blocks below should execute properly once you have written the code above."
   ]
  },
  {
   "cell_type": "code",
   "execution_count": 24,
   "metadata": {
    "scrolled": true
   },
   "outputs": [
    {
     "name": "stdout",
     "output_type": "stream",
     "text": [
      "Expected output: 18\n",
      "Your function outputs:  18\n"
     ]
    }
   ],
   "source": [
    "# Test Case 1: century(1705)\n",
    "print('Expected output: 18')\n",
    "print('Your function outputs: ', century(1705))"
   ]
  },
  {
   "cell_type": "code",
   "execution_count": 25,
   "metadata": {},
   "outputs": [
    {
     "name": "stdout",
     "output_type": "stream",
     "text": [
      "Expected output: 19\n",
      "Your function outputs:  19\n"
     ]
    }
   ],
   "source": [
    "# Test Case 2: century(1900)\n",
    "print('Expected output: 19')\n",
    "print('Your function outputs: ', century(1900))"
   ]
  },
  {
   "cell_type": "code",
   "execution_count": 26,
   "metadata": {
    "scrolled": true
   },
   "outputs": [
    {
     "name": "stdout",
     "output_type": "stream",
     "text": [
      "Expected output: 17\n",
      "Your function outputs:  17\n"
     ]
    }
   ],
   "source": [
    "# Test Case 3: century(1601)\n",
    "print('Expected output: 17')\n",
    "print('Your function outputs: ', century(1601))"
   ]
  },
  {
   "cell_type": "code",
   "execution_count": 27,
   "metadata": {},
   "outputs": [
    {
     "name": "stdout",
     "output_type": "stream",
     "text": [
      "Expected output: 20\n",
      "Your function outputs:  20\n"
     ]
    }
   ],
   "source": [
    "# Test Case 4: century(2000)\n",
    "print('Expected output: 20')\n",
    "print('Your function outputs: ', century(2000))"
   ]
  },
  {
   "cell_type": "code",
   "execution_count": null,
   "metadata": {},
   "outputs": [],
   "source": [
    ""
   ]
  }
 ],
 "metadata": {
  "kernelspec": {
   "display_name": "Python [default]",
   "language": "python",
   "name": "python3"
  },
  "language_info": {
   "codemirror_mode": {
    "name": "ipython",
    "version": 3.0
   },
   "file_extension": ".py",
   "mimetype": "text/x-python",
   "name": "python",
   "nbconvert_exporter": "python",
   "pygments_lexer": "ipython3",
   "version": "3.5.4"
  }
 },
 "nbformat": 4,
 "nbformat_minor": 0
}